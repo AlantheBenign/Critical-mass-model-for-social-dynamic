{
 "cells": [
  {
   "cell_type": "markdown",
   "id": "36c01840-4a25-4a5e-8d1c-cc700bfdcb70",
   "metadata": {},
   "source": [
    "#### LIBRARIES USED"
   ]
  },
  {
   "cell_type": "code",
   "execution_count": 2,
   "id": "149872ff-097c-4660-9773-bb60cb83f6ac",
   "metadata": {},
   "outputs": [],
   "source": [
    "import numpy as np\n",
    "import matplotlib.pyplot as plt\n",
    "from matplotlib import colors\n",
    "from IPython import display\n",
    "import time\n",
    "from scipy.signal import convolve2d\n",
    "import os"
   ]
  },
  {
   "cell_type": "markdown",
   "id": "b4475845-6911-4d60-9b66-be4fc1083d29",
   "metadata": {},
   "source": [
    "### City Model"
   ]
  },
  {
   "cell_type": "markdown",
   "id": "57504ef1-d29b-47e5-8803-1fc51d864dc9",
   "metadata": {},
   "source": [
    "The city is represented as a N x N grid, in which there is two kinds of agents, residents and merchants. The residents wants to be in a no so dense region of the city and the merchants want to be in a high density region."
   ]
  },
  {
   "cell_type": "markdown",
   "id": "bf4905f8-b778-4cf0-a619-f548e3f031af",
   "metadata": {},
   "source": [
    "#### FUNCTIONS'S DEFINITIONS"
   ]
  },
  {
   "cell_type": "code",
   "execution_count": 3,
   "id": "1d969e3c-d321-4834-8776-f885661b0d22",
   "metadata": {},
   "outputs": [],
   "source": [
    "merchant_value = -1\n",
    "vacancy_value = 0\n",
    "resident_value = 1\n",
    "\n",
    "# square neighborhood\n",
    "# 1:= 3x3; 2:= 5x5; 3:= 7x7; ...\n",
    "neighborhood = 2\n",
    "kernel_side = (2*neighborhood+1)\n",
    "max_neighbors = kernel_side**2 - 1\n",
    "\n",
    "# densities\n",
    "minimal_neighbors_resident_density = 0.25\n",
    "maximal_neighbors_resident_density = 0.8\n",
    "minimal_neighbors_merchant_density = 0.6\n",
    "minimal_merchant_neighbors_resident_density = 0.2\n",
    "\n",
    "# conditions of dissatisfaction Resident\n",
    "minimal_neighbors_resident = np.round( max_neighbors * minimal_neighbors_resident_density )\n",
    "maximal_neighbors_resident = np.round( max_neighbors * maximal_neighbors_resident_density )\n",
    "\n",
    "minimal_merchant_neighbors_resident = np.round(max_neighbors * minimal_merchant_neighbors_resident_density)\n",
    "maximal_merchant_neighbors_resident = max_neighbors\n",
    "\n",
    "# conditions of dissatisfaction Merchant\n",
    "minimal_neighbors_merchant = np.round( max_neighbors * minimal_neighbors_merchant_density )\n",
    "maximal_neighbors_merchant = max_neighbors\n",
    "\n",
    "minimal_resident_neighbors_merchant = 0\n",
    "maximal_resident_neighbors_merchant = max_neighbors"
   ]
  },
  {
   "cell_type": "code",
   "execution_count": 4,
   "id": "e78e3a2b-67ea-4f38-b8cf-a1d1a7018cb4",
   "metadata": {},
   "outputs": [],
   "source": [
    "def plot_grid(agents, grid = False):\n",
    "    # creates a discrete colormap\n",
    "    vacancy = np.array([147.0/255, 148.0/255, 150.0/255])  # grey\n",
    "    agent =  np.array([255.0/255, 255.0/255, 0.0/255])     # red \n",
    "    cyan =  np.array([0.0/255, 200.0/255, 255.0/255])      # cyan\n",
    "    cmap = colors.ListedColormap([cyan, vacancy, agent])\n",
    "    # determines the limits of each color:\n",
    "    bounds = [merchant_value, vacancy_value, resident_value, resident_value + 1]            \n",
    "    norm = colors.BoundaryNorm(bounds, cmap.N)\n",
    "\n",
    "    size = 8\n",
    "    fig, ax = plt.subplots(figsize=(size,size))\n",
    "    ax.imshow(agents, cmap=cmap, norm=norm)\n",
    "\n",
    "    # hide axis values\n",
    "    plt.xticks([])  \n",
    "    plt.yticks([])  \n",
    "\n",
    "    # draws gridlines\n",
    "    if grid:\n",
    "        ax.grid(which='major', axis='both', linestyle='-', color='k', linewidth=2)\n",
    "        ax.set_xticks(np.arange(-0.5, agents.shape[1]))\n",
    "        ax.set_yticks(np.arange(-0.5, agents.shape[0]))\n",
    "\n",
    "    plt.show()\n",
    "    plt.close()"
   ]
  },
  {
   "cell_type": "code",
   "execution_count": 5,
   "id": "14007a11-def5-4f40-b837-8971d47c6423",
   "metadata": {},
   "outputs": [],
   "source": [
    "def save_image(agents, grid = False, fileName = \"city\"):\n",
    "    # creates a discrete colormap\n",
    "    vacancy = np.array([147.0/255, 148.0/255, 150.0/255])  # grey\n",
    "    agent =  np.array([255.0/255, 255.0/255, 0.0/255])     # red \n",
    "    cyan =  np.array([0.0/255, 200.0/255, 255.0/255])      # cyan\n",
    "    cmap = colors.ListedColormap([cyan, vacancy, agent])\n",
    "    # determines the limits of each color:\n",
    "    bounds = [merchant_value, vacancy_value, resident_value, resident_value + 1]            \n",
    "    norm = colors.BoundaryNorm(bounds, cmap.N)\n",
    "\n",
    "    size = 8\n",
    "    fig, ax = plt.subplots(figsize=(size,size))\n",
    "    ax.imshow(agents, cmap=cmap, norm=norm)\n",
    "\n",
    "    # hide axis values\n",
    "    plt.xticks([])  \n",
    "    plt.yticks([])  \n",
    "\n",
    "    # draws gridlines\n",
    "    if grid:\n",
    "        ax.grid(which='major', axis='both', linestyle='-', color='k', linewidth=2)\n",
    "        ax.set_xticks(np.arange(-0.5, agents.shape[1]))\n",
    "        ax.set_yticks(np.arange(-0.5, agents.shape[0]))\n",
    "\n",
    "    plt.savefig(fileName + \".png\")\n",
    "    plt.close()"
   ]
  },
  {
   "cell_type": "code",
   "execution_count": 6,
   "id": "1f8c27bc-cafe-4bcf-bd78-f8ef20c48f6d",
   "metadata": {},
   "outputs": [],
   "source": [
    "def create_city(N, agentDensity, residentRelativeDensity, plot = True):\n",
    "    # creates a city without borders, that will be a toroidal grid\n",
    "    city = np.zeros(N*N, dtype=np.int16)\n",
    "    agents = int(agentDensity*N*N)\n",
    "    residents = int(residentRelativeDensity*agents)\n",
    "    merchants = agents - residents\n",
    "\n",
    "    # insert agents according to their densities\n",
    "    for i in range(N*N):\n",
    "        if i < residents:\n",
    "            city[i] = resident_value\n",
    "        elif residents <= i < residents + merchants:\n",
    "            city[i] = merchant_value\n",
    "        else:\n",
    "            break\n",
    "\n",
    "    # shuffle agents places\n",
    "    np.random.shuffle(city)\n",
    "    # reshape city array to matrix\n",
    "    city = city.reshape((N,N)) \n",
    "\n",
    "    if plot:\n",
    "        plot_grid(city)\n",
    "    \n",
    "    return city"
   ]
  },
  {
   "cell_type": "code",
   "execution_count": 7,
   "id": "7d659702-dee5-4b69-84eb-83b8f48102f1",
   "metadata": {},
   "outputs": [],
   "source": [
    "# code by LUCA MINGARELLI https://lucamingarelli.com/Teaching/schelling.html\n",
    "KERNEL = np.ones((kernel_side, kernel_side), dtype=np.int8)\n",
    "middle = int(kernel_side/2)\n",
    "KERNEL[middle][middle] = 0\n",
    "\n",
    "def evolve(M, boundary='wrap'):\n",
    "    kws = dict(mode='same', boundary=boundary)\n",
    "    Resident_neighs = convolve2d(M == resident_value,  KERNEL, **kws)\n",
    "    Merchant_neighs = convolve2d(M == merchant_value,  KERNEL, **kws)\n",
    "    Neighs = convolve2d(M != vacancy_value,  KERNEL, **kws)\n",
    "\n",
    "    # conditions of dissatisfaction\n",
    "    Resident_dissatisfied = ((((Neighs < minimal_neighbors_resident) | (Neighs > maximal_neighbors_resident)) |                                  # minimal and maximal neighbors                   \n",
    "                           ((Merchant_neighs < minimal_merchant_neighbors_resident) | (Merchant_neighs > maximal_merchant_neighbors_resident))) & # minimal and maximal merchant neighbors \n",
    "                           (M == resident_value))\n",
    "    Merchant_dissatisfied = ((((Neighs < minimal_neighbors_merchant) | (Neighs > maximal_neighbors_merchant)) |                                  # minimal and maximal neighbors   \n",
    "                           ((Resident_neighs < minimal_resident_neighbors_merchant) | (Resident_neighs > maximal_resident_neighbors_merchant))) & # minimal and maximal resident neighbors \n",
    "                           (M == merchant_value))\n",
    "    M[Resident_dissatisfied | Merchant_dissatisfied] = vacancy_value\n",
    "    vacant = (M == vacancy_value).sum()\n",
    "\n",
    "    N_Resident_dissatisfied, N_Merchant_dissatisfied = Resident_dissatisfied.sum(), Merchant_dissatisfied.sum()\n",
    "    filling = np.full(vacant, vacancy_value, dtype=np.int8)\n",
    "    filling[:N_Resident_dissatisfied] = resident_value\n",
    "    filling[N_Resident_dissatisfied:N_Resident_dissatisfied + N_Merchant_dissatisfied] = merchant_value\n",
    "    np.random.shuffle(filling)\n",
    "    M[M==vacancy_value] = filling"
   ]
  },
  {
   "cell_type": "code",
   "execution_count": 8,
   "id": "33b60dc3-11d5-42a4-8528-d7319c1eba74",
   "metadata": {},
   "outputs": [],
   "source": [
    "def simulate(city, timeSteps = 1000, plot = False, plotEnd = True, saveImage = False, fileName = \"city\"):\n",
    "    for i in range(timeSteps):\n",
    "        # stop condition\n",
    "        if i%int(timeSteps/10) == 0:\n",
    "            oldCity = np.copy(city)\n",
    "            evolve(city)\n",
    "            dif = oldCity - city\n",
    "            if all(all(element == 0) for element in dif):\n",
    "                break\n",
    "\n",
    "        else:\n",
    "            evolve(city)\n",
    "\n",
    "        # time steps in which the city is plotted\n",
    "        step = 100\n",
    "        if i != 0 and i%step == 0 and plot:\n",
    "            plot_grid(city)\n",
    "            time.sleep(0.1)\n",
    "            display.clear_output(wait=True)\n",
    "                \n",
    "    if plotEnd:\n",
    "        display.clear_output(wait=True)\n",
    "        plot_grid(city)\n",
    "\n",
    "    if saveImage:\n",
    "        save_image(city, fileName = fileName)"
   ]
  },
  {
   "cell_type": "code",
   "execution_count": 9,
   "id": "58c93e97-d858-4fb0-8b70-4b394e40088b",
   "metadata": {},
   "outputs": [
    {
     "data": {
      "image/png": "[encoded data removed]",
      "text/plain": [
       "<Figure size 800x800 with 1 Axes>"
      ]
     },
     "metadata": {},
     "output_type": "display_data"
    }
   ],
   "source": [
    "N = 150\n",
    "agentDensity = 0.4\n",
    "residentRelativeDensity = 0.6\n",
    "timeSteps = 1000\n",
    "plot = True\n",
    "analizeStart = False\n",
    "\n",
    "# creates a city\n",
    "city = create_city(N, agentDensity, residentRelativeDensity)\n",
    "\n",
    "if analizeStart:\n",
    "    if int(input()):\n",
    "        simulate(city, timeSteps, plot = plot)\n",
    "else:\n",
    "    simulate(city, timeSteps, plot = plot)"
   ]
  },
  {
   "cell_type": "markdown",
   "id": "fac4c8cc-e2e2-4ca2-8eeb-9f4d81dc68db",
   "metadata": {},
   "source": [
    "### Calculating Clustering"
   ]
  },
  {
   "cell_type": "code",
   "execution_count": 10,
   "id": "6a5f1caa-def7-48f7-b460-ee3fb895237b",
   "metadata": {},
   "outputs": [],
   "source": [
    "def clustering_level(M, boundary='wrap'):\n",
    "    kws = dict(mode='same', boundary=boundary)\n",
    "    Resident_neighs = convolve2d(M == resident_value,  KERNEL, **kws)\n",
    "    Merchant_neighs = convolve2d(M == merchant_value,  KERNEL, **kws)\n",
    "    Neighs = convolve2d(M != vacancy_value,  KERNEL, **kws)\n",
    "    \n",
    "    # calculate clustering level of merchants\n",
    "    side = M.shape[0]\n",
    "    clustering = 0\n",
    "    agents_with_neighs = 0\n",
    "\n",
    "    for i in range(side):\n",
    "        for j in range(side):\n",
    "            if M[i][j] != vacancy_value and Neighs[i][j] != 0:\n",
    "                agents_with_neighs += 1\n",
    "                if M[i][j] == resident_value:\n",
    "                    clustering += Resident_neighs[i][j]/(Neighs[i][j]*residentRelativeDensity)\n",
    "                elif M[i][j] == merchant_value:\n",
    "                    clustering += Merchant_neighs[i][j]/(Neighs[i][j]*(1-residentRelativeDensity))\n",
    "                \n",
    "    clustering = clustering/agents_with_neighs\n",
    "    \n",
    "    return clustering"
   ]
  },
  {
   "cell_type": "markdown",
   "id": "2c70dac8-0a30-4325-81b4-e2ae145e9de2",
   "metadata": {},
   "source": [
    "### Hoshen-Kopelman Algorithm"
   ]
  },
  {
   "cell_type": "code",
   "execution_count": 11,
   "id": "7438061e-9329-40f1-8304-3bf5c8c18774",
   "metadata": {},
   "outputs": [],
   "source": [
    "def plot_generic_grid(matrix, grid = False):\n",
    "    n,m = np.array(matrix).shape\n",
    "    colorDict = dict()\n",
    "    for i in range(n):\n",
    "        for j in range(m):\n",
    "            if matrix[i][j] not in colorDict:\n",
    "                rnd1 = np.random.random()\n",
    "                rnd2 = np.random.random()\n",
    "                rnd3 = np.random.random()\n",
    "    \n",
    "                color = np.array([rnd1,rnd2,rnd3])\n",
    "                \n",
    "                colorDict[matrix[i][j]] = color\n",
    "\n",
    "    colorArray = np.zeros((len(colorDict),3))\n",
    "    i = 0\n",
    "    for color in list(colorDict.values()):\n",
    "        colorArray[i] = color\n",
    "        i += 1\n",
    "        \n",
    "    cmap = colors.ListedColormap(colorArray)\n",
    "    # determines the limits of each color:\n",
    "    bounds = np.array(sorted(list(colorDict.keys())), dtype = float)\n",
    "    bounds = np.append(bounds, bounds[-1] + 1)\n",
    "\n",
    "    # by hand correction for better visualization\n",
    "    for i in range(len(bounds)):\n",
    "        bounds[i] = bounds[i] - 0.5\n",
    "        \n",
    "    norm = colors.BoundaryNorm(bounds, cmap.N)\n",
    "\n",
    "    size = 8\n",
    "    fig, ax = plt.subplots(figsize=(size,size))\n",
    "    ax.imshow(matrix, cmap=cmap, norm=norm)\n",
    "\n",
    "    # hide axis values\n",
    "    plt.xticks([])  \n",
    "    plt.yticks([])  \n",
    "\n",
    "    # draws gridlines\n",
    "    if grid:\n",
    "        ax.grid(which='major', axis='both', linestyle='-', color='k', linewidth=2)\n",
    "        ax.set_xticks(np.arange(-0.5, agents.shape[1]))\n",
    "        ax.set_yticks(np.arange(-0.5, agents.shape[0]))\n",
    "\n",
    "    plt.show()\n",
    "    plt.close()"
   ]
  },
  {
   "cell_type": "code",
   "execution_count": 12,
   "id": "553e9e08-e1fd-435b-859f-89c6aedc7fb3",
   "metadata": {},
   "outputs": [],
   "source": [
    "class HoshenKopelman():\n",
    "\n",
    "    def __init__(self, matrix):\n",
    "        self.matrix = matrix\n",
    "        self.labelsArray = np.arange(0,np.size(matrix) + 1, dtype = np.int16)\n",
    "        self.labels = np.zeros(matrix.shape, dtype = np.int16)\n",
    "        self.algorithmRan = False \n",
    "        \n",
    "    def find(self, i):\n",
    "        j = i\n",
    "    \n",
    "        while self.labelsArray[j] != j:\n",
    "            j = self.labelsArray[j]\n",
    "    \n",
    "        return j\n",
    "    \n",
    "    def union(self, i, j):  \n",
    "        index = self.find(j)\n",
    "        value = self.find(i)\n",
    "        \n",
    "        self.labelsArray[index] = value\n",
    "        \n",
    "    def hk(self, target_value):\n",
    "        n, m = self.matrix.shape\n",
    "        largest_label = 0\n",
    "\n",
    "        for j in range(m):\n",
    "            for i in range(n):\n",
    "                if self.matrix[i][j] == target_value:\n",
    "                    if i > 0: up = self.matrix[i-1][j] \n",
    "                    else: up = None\n",
    "    \n",
    "                    if j > 0: left = self.matrix[i][j-1]\n",
    "                    else: left = None\n",
    "    \n",
    "                    if left != target_value and up != target_value:\n",
    "                        largest_label += 1\n",
    "                        self.labels[i][j] = largest_label\n",
    "                    \n",
    "                    elif left == target_value and up != target_value:\n",
    "                        self.labels[i][j] = self.find(self.labels[i][j-1])\n",
    "    \n",
    "                    elif left != target_value and up == target_value:\n",
    "                        self.labels[i][j] = self.find(self.labels[i-1][j])\n",
    "    \n",
    "                    else:\n",
    "                        smaller = min(self.labels[i][j-1], self.labels[i-1][j])\n",
    "                        bigger = max(self.labels[i][j-1], self.labels[i-1][j])\n",
    "                        self.union(smaller, bigger)\n",
    "                        self.labels[i][j] = self.find(smaller)\n",
    "    \n",
    "        for j in range(m):\n",
    "            for i in range(n):\n",
    "                if self.labels[i][j]:\n",
    "                    self.labels[i][j] = self.find(self.labels[i][j])\n",
    "\n",
    "        self.algorithmRan = True\n",
    "        \n",
    "        return self.labels\n",
    "\n",
    "    def cluster_data(self):\n",
    "        if self.algorithmRan:\n",
    "            n, m = self.labels.shape\n",
    "            clustersLabels = set()\n",
    "            \n",
    "            for i in range(n):\n",
    "                for j in range(m):\n",
    "                    if self.labels[i][j] not in clustersLabels and self.labels[i][j] != 0:\n",
    "                        clustersLabels.add(self.labels[i][j])\n",
    "                        \n",
    "            numClusters = len(clustersLabels)\n",
    "            clustersSizes = dict()\n",
    "\n",
    "            clustersSizesAverage = 0\n",
    "            for label in clustersLabels:\n",
    "                size = (self.labels == label).sum()\n",
    "                clustersSizesAverage += size\n",
    "                clustersSizes[label] = size\n",
    "\n",
    "            clustersSizesAverage = float(clustersSizesAverage)/numClusters\n",
    "\n",
    "            return numClusters, clustersSizes, clustersSizesAverage\n",
    "            \n",
    "        else:\n",
    "            print('Run the algorithm first')    "
   ]
  },
  {
   "cell_type": "markdown",
   "id": "73ec327f-8d16-4235-a75c-dbc931890422",
   "metadata": {},
   "source": [
    "### Example"
   ]
  },
  {
   "cell_type": "code",
   "execution_count": 25,
   "id": "078297dc-934a-4e90-a719-f71636f7e0b6",
   "metadata": {},
   "outputs": [
    {
     "data": {
      "image/png": "[encoded data removed]",
      "text/plain": [
       "<Figure size 800x800 with 1 Axes>"
      ]
     },
     "metadata": {},
     "output_type": "display_data"
    },
    {
     "name": "stdout",
     "output_type": "stream",
     "text": [
      "1.571266907762034\n"
     ]
    },
    {
     "data": {
      "image/png": "[encoded data removed]",
      "text/plain": [
       "<Figure size 800x800 with 1 Axes>"
      ]
     },
     "metadata": {},
     "output_type": "display_data"
    },
    {
     "name": "stdout",
     "output_type": "stream",
     "text": [
      "13\n",
      "{1: 19, 2: 17, 35: 2, 3: 67, 36: 5, 6: 108, 12: 17, 14: 166, 15: 43, 24: 67, 25: 21, 28: 23, 31: 45}\n",
      "46.15384615384615\n"
     ]
    }
   ],
   "source": [
    "N = 50\n",
    "agentDensity = 0.6\n",
    "residentRelativeDensity = 0.6\n",
    "timeSteps = 5000\n",
    "plot = False\n",
    "analizeStart = False\n",
    "saveImage = False\n",
    "\n",
    "# creates a city\n",
    "city = create_city(N, agentDensity, residentRelativeDensity)\n",
    "\n",
    "if analizeStart:\n",
    "    if int(input()):\n",
    "        simulate(city, timeSteps, plot = plot)\n",
    "else:\n",
    "    simulate(city, timeSteps, plot = plot, plotEnd = True, saveImage = saveImage, fileName = 'example')\n",
    "\n",
    "clusteringLevel = clustering_level(city)\n",
    "print(clusteringLevel)\n",
    "\n",
    "HK_class = HoshenKopelman(city)\n",
    "labels = HK_class.hk(merchant_value)\n",
    "numClusters, clustersSizes, clustersSizesAverage = HK_class.cluster_data()\n",
    "plot_generic_grid(labels)\n",
    "print(numClusters)\n",
    "print(clustersSizes)\n",
    "print(clustersSizesAverage)"
   ]
  },
  {
   "cell_type": "markdown",
   "id": "7d6c24ec-5674-4f9e-9aef-2ced5d46ec5d",
   "metadata": {
    "jp-MarkdownHeadingCollapsed": true
   },
   "source": [
    "### Charactertic time ~ 3000 time steps"
   ]
  },
  {
   "cell_type": "code",
   "execution_count": 58,
   "id": "f7b53b49-70bd-479f-a849-52e9c3dfcc4a",
   "metadata": {
    "scrolled": true
   },
   "outputs": [
    {
     "name": "stdout",
     "output_type": "stream",
     "text": [
      "500\n",
      "1000\n",
      "1500\n",
      "2000\n",
      "2500\n",
      "3000\n",
      "3500\n",
      "4000\n",
      "4500\n",
      "5000\n",
      "5500\n",
      "6000\n",
      "6500\n",
      "7000\n",
      "7500\n",
      "8000\n"
     ]
    }
   ],
   "source": [
    "N = 100\n",
    "agentDensity = 0.3\n",
    "residentRelativeDensity = 0.6\n",
    "timeStepsArray = [500, 1000, 1500, 2000, 2500, 3000, 3500, 4000, 4500, 5000, 5500, 6000, 6500, 7000, 7500, 8000] \n",
    "simulations = 10\n",
    "plot = False\n",
    "analizeStart = False\n",
    "saveImage = False\n",
    "\n",
    "results = dict()\n",
    "\n",
    "for i in range(len(timeStepsArray)):\n",
    "    timeSteps = timeStepsArray[i]\n",
    "    print(timeSteps)\n",
    "    numClustersAverage = 0\n",
    "    clustersSizesAverageAverage = 0\n",
    "    \n",
    "    for j in range(simulations):\n",
    "    \n",
    "        # creates a city\n",
    "        city = create_city(N, agentDensity, residentRelativeDensity, plot = plot)\n",
    "        \n",
    "        if analizeStart:\n",
    "            if int(input()):\n",
    "                simulate(city, timeSteps, plot = plot)\n",
    "        else:\n",
    "            simulate(city, timeSteps, plot = plot, plotEnd = False, saveImage = saveImage, fileName = 'example')\n",
    "        \n",
    "        HK_class = HoshenKopelman(city)\n",
    "        labels = HK_class.hk(merchant_value)\n",
    "        numClusters, clustersSizes, clustersSizesAverage = HK_class.cluster_data()\n",
    "    \n",
    "        numClustersAverage += numClusters\n",
    "        clustersSizesAverageAverage += clustersSizesAverage\n",
    "\n",
    "    numClustersAverage = float(numClustersAverage)/simulations\n",
    "    clustersSizesAverageAverage = float(clustersSizesAverageAverage)/simulations\n",
    "\n",
    "    results[timeSteps] = (numClustersAverage, clustersSizesAverageAverage)"
   ]
  },
  {
   "cell_type": "code",
   "execution_count": 59,
   "id": "d9704113-81ec-4621-9521-d02cecd518dc",
   "metadata": {},
   "outputs": [
    {
     "data": {
      "image/png": "[encoded data removed]",
      "text/plain": [
       "<Figure size 640x480 with 1 Axes>"
      ]
     },
     "metadata": {},
     "output_type": "display_data"
    },
    {
     "data": {
      "image/png": "[encoded data removed]",
      "text/plain": [
       "<Figure size 640x480 with 1 Axes>"
      ]
     },
     "metadata": {},
     "output_type": "display_data"
    }
   ],
   "source": [
    "numClustersAverage = []\n",
    "clustersSizesAverage = []\n",
    "for value in list(results.values()):\n",
    "    numClustersAverage.append(value[0])\n",
    "    clustersSizesAverage.append(value[1])\n",
    "\n",
    "plt.figure()\n",
    "plt.plot(list(results.keys()), numClustersAverage)\n",
    "plt.show()\n",
    "\n",
    "plt.figure()\n",
    "plt.plot(list(results.keys()), clustersSizesAverage)\n",
    "plt.show()"
   ]
  },
  {
   "cell_type": "code",
   "execution_count": 60,
   "id": "a907a604-68a2-417e-a0dd-5084e134ee6a",
   "metadata": {},
   "outputs": [
    {
     "name": "stdout",
     "output_type": "stream",
     "text": [
      "500 (248.2, 5.2379625602309385)\n",
      "1000 (39.0, 36.850370173470644)\n",
      "1500 (8.2, 180.3230103230103)\n",
      "2000 (5.4, 251.14285714285717)\n",
      "2500 (2.6, 580.0)\n",
      "3000 (3.2, 404.0)\n",
      "3500 (2.7, 540.0)\n",
      "4000 (2.9, 574.0)\n",
      "4500 (2.8, 524.0)\n",
      "5000 (3.2, 497.14285714285717)\n",
      "5500 (2.5, 560.0)\n",
      "6000 (3.0, 618.0)\n",
      "6500 (2.4, 620.0)\n",
      "7000 (2.6, 540.0)\n",
      "7500 (2.3, 640.0)\n",
      "8000 (2.4, 650.0)\n"
     ]
    }
   ],
   "source": [
    "for key, value in results.items():\n",
    "    print(key, value)"
   ]
  },
  {
   "cell_type": "markdown",
   "id": "d26c8c84-5322-427b-a31a-53480e859b73",
   "metadata": {},
   "source": [
    "### Calculate clustering for many cases [for 3000 time steps, 1 simulations runs, on average, in 19 seconds]"
   ]
  },
  {
   "cell_type": "code",
   "execution_count": 1,
   "id": "7a3b912c-cd29-4712-b958-640ad295d4c1",
   "metadata": {},
   "outputs": [
    {
     "ename": "NameError",
     "evalue": "name 'time' is not defined",
     "output_type": "error",
     "traceback": [
      "\u001b[1;31m---------------------------------------------------------------------------\u001b[0m",
      "\u001b[1;31mNameError\u001b[0m                                 Traceback (most recent call last)",
      "Cell \u001b[1;32mIn[1], line 1\u001b[0m\n\u001b[1;32m----> 1\u001b[0m start \u001b[38;5;241m=\u001b[39m \u001b[43mtime\u001b[49m\u001b[38;5;241m.\u001b[39mtime()\n\u001b[0;32m      3\u001b[0m N \u001b[38;5;241m=\u001b[39m \u001b[38;5;241m150\u001b[39m\n\u001b[0;32m      4\u001b[0m agentDensityArray \u001b[38;5;241m=\u001b[39m np\u001b[38;5;241m.\u001b[39mlinspace(\u001b[38;5;241m0.1\u001b[39m,\u001b[38;5;241m1\u001b[39m,\u001b[38;5;241m10\u001b[39m)\n",
      "\u001b[1;31mNameError\u001b[0m: name 'time' is not defined"
     ]
    }
   ],
   "source": [
    "start = time.time()\n",
    "\n",
    "doYouReallyWannaRunThis = False\n",
    "\n",
    "if doYouReallyWannaRunThis:\n",
    "    N = 150\n",
    "    agentDensityArray = np.linspace(0.1,1,10)\n",
    "    residentRelativeDensityArray = np.linspace(0.1,0.9,9)\n",
    "    timeSteps = 3000\n",
    "    simulations = 20\n",
    "    plot = False\n",
    "    saveImage = False\n",
    "    \n",
    "    if saveImage:\n",
    "        folder = os.getcwd()\n",
    "        files = os.listdir(folder)\n",
    "        \n",
    "        for file in files:\n",
    "            if file.endswith(\".png\"):\n",
    "                filePath = os.path.join(folder, file)\n",
    "                os.remove(filePath)\n",
    "    \n",
    "    numClustersAverageDict = dict()\n",
    "    numClustersDeviationDict = dict()\n",
    "    clustersSizesAverageDict = dict()\n",
    "    clustersSizesDeviationDict = dict()\n",
    "    \n",
    "    for agentDensity in agentDensityArray:\n",
    "        for residentRelativeDensity in residentRelativeDensityArray:\n",
    "            numClustersArray = np.zeros(simulations)\n",
    "            clustersSizesAverageArray = np.zeros(simulations)\n",
    "            numClustersDeviation = 0\n",
    "            clustersSizesDeviation = 0\n",
    "            \n",
    "            fileName = f\"({np.round(agentDensity,3)},{np.round(residentRelativeDensity,3)})\"\n",
    "            for i in range(simulations):\n",
    "                # creates a city\n",
    "                city = create_city(N, agentDensity, residentRelativeDensity, plot = plot)\n",
    "    \n",
    "                if i == simulations - 1:\n",
    "                    simulate(city, timeSteps, plot = plot, plotEnd = False, saveImage = saveImage, fileName = fileName)\n",
    "                    \n",
    "                else:\n",
    "                    simulate(city, timeSteps, plot = plot, plotEnd = False)\n",
    "    \n",
    "                HK_class = HoshenKopelman(city)\n",
    "                HK_class.hk(merchant_value)\n",
    "                numClusters, clustersSizes, clustersSizesAverageAcquired = HK_class.cluster_data()\n",
    "                numClustersArray[i] = numClusters    \n",
    "                clustersSizesAverageArray[i] = clustersSizesAverageAcquired\n",
    "    \n",
    "            numClustersAverage = float(numClustersArray.sum())/simulations\n",
    "            clustersSizesAverage = float(clustersSizesAverageArray.sum())/simulations\n",
    "    \n",
    "            difSquaredNumClusters = 0\n",
    "            difSquaredClustersSizes = 0\n",
    "            for i in range(simulations):\n",
    "                difSquaredNumClusters += (numClustersArray[i] - numClustersAverage)*(numClustersArray[i] - numClustersAverage)\n",
    "                difSquaredClustersSizes += (clustersSizesAverageArray[i] - clustersSizesAverage)*(clustersSizesAverageArray[i] - clustersSizesAverage)\n",
    "    \n",
    "            numClustersDeviation = np.sqrt(float(difSquaredNumClusters)/simulations)\n",
    "            clustersSizesDeviation = np.sqrt(float(difSquaredClustersSizes)/simulations)\n",
    "            \n",
    "            numClustersAverageDict[(np.round(agentDensity,3),np.round(residentRelativeDensity,3))] = np.round(numClustersAverage,1)\n",
    "            numClustersDeviationDict[(np.round(agentDensity,3),np.round(residentRelativeDensity,3))] = np.round(numClustersDeviation,1)\n",
    "            clustersSizesAverageDict[(np.round(agentDensity,3),np.round(residentRelativeDensity,3))] = np.round(clustersSizesAverage,1)\n",
    "            clustersSizesDeviationDict[(np.round(agentDensity,3),np.round(residentRelativeDensity,3))] = np.round(clustersSizesDeviation,1)\n",
    "    \n",
    "end = time.time()\n",
    "print(end - start)"
   ]
  },
  {
   "cell_type": "code",
   "execution_count": 14,
   "id": "c203a913-1447-4fad-a928-023fc869b981",
   "metadata": {},
   "outputs": [],
   "source": [
    "def generate_heatmap(data,title):\n",
    "    # Extrair chaves e valores do dicionário\n",
    "    keys = list(data.keys())\n",
    "    values = list(data.values())\n",
    "\n",
    "    # Obter valores únicos de agentDensity e residentRelativeDensity\n",
    "    agent_density_values = np.unique([key[0] for key in keys])\n",
    "    relative_density_values = np.unique([key[1] for key in keys])\n",
    "\n",
    "    # Criar matriz de zeros para armazenar os valores do heatmap\n",
    "    heatmap_data = np.zeros((len(relative_density_values), len(agent_density_values)))\n",
    "\n",
    "    # Preencher a matriz com os valores do dicionário\n",
    "    for i, agent_density in enumerate(agent_density_values):\n",
    "        for j, relative_density in enumerate(relative_density_values):\n",
    "            key = (agent_density, relative_density)\n",
    "            if key in data:\n",
    "                heatmap_data[j, i] = data[key]\n",
    "\n",
    "    # Criar o heatmap\n",
    "    plt.imshow(heatmap_data, cmap='viridis', extent=[0, 1,\n",
    "                                                    0, 0.9],\n",
    "               origin='lower', vmin=min(values), vmax=max(values))\n",
    "    \n",
    "    plt.colorbar(label=title)\n",
    "    plt.xlabel('Agent Density')\n",
    "    plt.ylabel('Relative Resident Density')\n",
    "    plt.title(title + ' Heatmap')\n",
    "    plt.show()"
   ]
  },
  {
   "cell_type": "code",
   "execution_count": 15,
   "id": "7f6aed62-b69c-4314-9e64-230c79fc7c93",
   "metadata": {},
   "outputs": [
    {
     "ename": "NameError",
     "evalue": "name 'numClustersAverageDict' is not defined",
     "output_type": "error",
     "traceback": [
      "\u001b[1;31m---------------------------------------------------------------------------\u001b[0m",
      "\u001b[1;31mNameError\u001b[0m                                 Traceback (most recent call last)",
      "Cell \u001b[1;32mIn[15], line 1\u001b[0m\n\u001b[1;32m----> 1\u001b[0m \u001b[38;5;28mprint\u001b[39m(\u001b[43mnumClustersAverageDict\u001b[49m)\n\u001b[0;32m      2\u001b[0m generate_heatmap(numClustersAverageDict, \u001b[38;5;124m'\u001b[39m\u001b[38;5;124mNumber of Clusters Average\u001b[39m\u001b[38;5;124m'\u001b[39m)\n\u001b[0;32m      3\u001b[0m \u001b[38;5;28mprint\u001b[39m(numClustersDeviationDict)\n",
      "\u001b[1;31mNameError\u001b[0m: name 'numClustersAverageDict' is not defined"
     ]
    }
   ],
   "source": [
    "print(numClustersAverageDict)\n",
    "generate_heatmap(numClustersAverageDict, 'Number of Clusters Average')\n",
    "print(numClustersDeviationDict)\n",
    "generate_heatmap(numClustersDeviationDict, 'Number of Clusters Deviation')\n",
    "print(clustersSizesAverageDict)\n",
    "generate_heatmap(clustersSizesAverageDict, 'Clusters Sizes Average')\n",
    "print(clustersSizesDeviationDict)\n",
    "generate_heatmap(clustersSizesDeviationDict, 'Clusters Sizes Deviation')"
   ]
  },
  {
   "cell_type": "code",
   "execution_count": 26,
   "id": "ebaa54ed-6ad0-48c3-9da6-c63bad2ae408",
   "metadata": {},
   "outputs": [],
   "source": [
    "saveData = False\n",
    "fileName = input()\n",
    "\n",
    "if saveData:\n",
    "    file = open(fileName + '.txt','w')\n",
    "    \n",
    "    file.write('N = 150; timeSteps = 3000; simulations = 20\\n')\n",
    "    \n",
    "    file.write('\\n')\n",
    "    file.write('Number of Clusters Average:\\n')\n",
    "    for key, value in numClustersAverageDict.items():\n",
    "        file.write(str(key) + \": \" + str(value) + '\\n')\n",
    "    \n",
    "    file.write('\\n')\n",
    "    file.write('Number of Clusters Standard Deviation:\\n')\n",
    "    for key, value in numClustersDeviationDict.items():\n",
    "        file.write(str(key) + \": \" + str(value) + '\\n')\n",
    "    \n",
    "    file.write('\\n')\n",
    "    file.write('Clusters Sizes Average:\\n')\n",
    "    for key, value in clustersSizesAverageDict.items():\n",
    "        file.write(str(key) + \": \" + str(value) + '\\n')\n",
    "        \n",
    "    file.write('\\n')\n",
    "    file.write('Clusters Sizes Standard Deviation:\\n')\n",
    "    for key, value in clustersSizesDeviationDict.items():\n",
    "        file.write(str(key) + \": \" + str(value) + '\\n')\n",
    "    \n",
    "    file.close()"
   ]
  }
 ],
 "metadata": {
  "kernelspec": {
   "display_name": "Python 3 (ipykernel)",
   "language": "python",
   "name": "python3"
  },
  "language_info": {
   "codemirror_mode": {
    "name": "ipython",
    "version": 3
   },
   "file_extension": ".py",
   "mimetype": "text/x-python",
   "name": "python",
   "nbconvert_exporter": "python",
   "pygments_lexer": "ipython3",
   "version": "3.11.0"
  }
 },
 "nbformat": 4,
 "nbformat_minor": 5
}
