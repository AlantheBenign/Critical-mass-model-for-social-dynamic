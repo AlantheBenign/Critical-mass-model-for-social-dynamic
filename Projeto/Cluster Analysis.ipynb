{
 "cells": [
  {
   "cell_type": "markdown",
   "id": "c38c1d42-7353-4b9d-bde7-946134532aa8",
   "metadata": {},
   "source": [
    "### LIBRARIES USED"
   ]
  },
  {
   "cell_type": "code",
   "execution_count": 1,
   "id": "4fafb585-5dde-4e05-aacb-d3d5f938eece",
   "metadata": {},
   "outputs": [],
   "source": [
    "import numpy as np\n",
    "import matplotlib.pyplot as plt\n",
    "from numba import njit\n",
    "from matplotlib import colors\n",
    "from IPython import display\n",
    "import time\n",
    "from scipy.signal import convolve2d\n",
    "import os\n",
    "\n",
    "import functionsAndClasses as fc"
   ]
  },
  {
   "cell_type": "markdown",
   "id": "d01240cc-722b-4387-a23b-7ed0f7b6a7c7",
   "metadata": {},
   "source": [
    "### City Model"
   ]
  },
  {
   "cell_type": "markdown",
   "id": "81e8767e-f903-49e4-a67a-1da0da526dd2",
   "metadata": {},
   "source": [
    "The city is represented as a L x L grid, in which there is two kinds of agents, residents and merchants. The residents wants to be in a no so dense region of the city and the merchants want to be in a high density region."
   ]
  },
  {
   "cell_type": "markdown",
   "id": "688b3a5e-8308-46d9-9d53-385157a30690",
   "metadata": {
    "jp-MarkdownHeadingCollapsed": true
   },
   "source": [
    "### Cluser stability analysis"
   ]
  },
  {
   "cell_type": "code",
   "execution_count": 168,
   "id": "40b7fcad-c52f-46d2-b5af-4333850f8a50",
   "metadata": {},
   "outputs": [
    {
     "ename": "KeyboardInterrupt",
     "evalue": "",
     "output_type": "error",
     "traceback": [
      "\u001b[1;31m---------------------------------------------------------------------------\u001b[0m",
      "\u001b[1;31mKeyboardInterrupt\u001b[0m                         Traceback (most recent call last)",
      "Cell \u001b[1;32mIn[168], line 38\u001b[0m\n\u001b[0;32m     35\u001b[0m         \u001b[38;5;28;01mbreak\u001b[39;00m\n\u001b[0;32m     37\u001b[0m \u001b[38;5;28;01melse\u001b[39;00m:\n\u001b[1;32m---> 38\u001b[0m     \u001b[43mcity\u001b[49m\u001b[38;5;241;43m.\u001b[39;49m\u001b[43mevolve\u001b[49m\u001b[43m(\u001b[49m\u001b[43mperiodicBoundaries\u001b[49m\u001b[43m,\u001b[49m\u001b[43m \u001b[49m\u001b[38;5;241;43m1\u001b[39;49m\u001b[43m)\u001b[49m\n\u001b[0;32m     40\u001b[0m \u001b[38;5;28;01mif\u001b[39;00m i\u001b[38;5;241m%\u001b[39m\u001b[38;5;241m200\u001b[39m \u001b[38;5;241m==\u001b[39m \u001b[38;5;241m0\u001b[39m \u001b[38;5;129;01mand\u001b[39;00m plot:\n\u001b[0;32m     41\u001b[0m     city\u001b[38;5;241m.\u001b[39mprint_city()\n",
      "File \u001b[1;32m~\\UFMG\\Mestrado\\Projeto\\Projeto\\functionsAndClasses.py:246\u001b[0m, in \u001b[0;36mCity.evolve\u001b[1;34m(self, periodicBoundaries, timeSteps)\u001b[0m\n\u001b[0;32m    242\u001b[0m Merchant_dissatisfied \u001b[38;5;241m=\u001b[39m ((((Neighs \u001b[38;5;241m<\u001b[39m \u001b[38;5;28mself\u001b[39m\u001b[38;5;241m.\u001b[39mminimal_neighbors_merchant) \u001b[38;5;241m|\u001b[39m (Neighs \u001b[38;5;241m>\u001b[39m\u001b[38;5;28mself\u001b[39m\u001b[38;5;241m.\u001b[39mmaximal_neighbors_merchant)) \u001b[38;5;241m|\u001b[39m                                  \u001b[38;5;66;03m# minimal and maximal neighbors   \u001b[39;00m\n\u001b[0;32m    243\u001b[0m                        ((Resident_neighs \u001b[38;5;241m<\u001b[39m \u001b[38;5;28mself\u001b[39m\u001b[38;5;241m.\u001b[39mminimal_resident_neighbors_merchant) \u001b[38;5;241m|\u001b[39m (Resident_neighs \u001b[38;5;241m>\u001b[39m \u001b[38;5;28mself\u001b[39m\u001b[38;5;241m.\u001b[39mmaximal_resident_neighbors_merchant))) \u001b[38;5;241m&\u001b[39m \u001b[38;5;66;03m# minimal and maximal resident neighbors \u001b[39;00m\n\u001b[0;32m    244\u001b[0m                        (\u001b[38;5;28mself\u001b[39m\u001b[38;5;241m.\u001b[39mcity \u001b[38;5;241m==\u001b[39m \u001b[38;5;28mself\u001b[39m\u001b[38;5;241m.\u001b[39mmerchant_value))\n\u001b[0;32m    245\u001b[0m \u001b[38;5;28mself\u001b[39m\u001b[38;5;241m.\u001b[39mcity[Resident_dissatisfied \u001b[38;5;241m|\u001b[39m Merchant_dissatisfied] \u001b[38;5;241m=\u001b[39m \u001b[38;5;28mself\u001b[39m\u001b[38;5;241m.\u001b[39mvacancy_value\n\u001b[1;32m--> 246\u001b[0m vacant \u001b[38;5;241m=\u001b[39m \u001b[43m(\u001b[49m\u001b[38;5;28;43mself\u001b[39;49m\u001b[38;5;241;43m.\u001b[39;49m\u001b[43mcity\u001b[49m\u001b[43m \u001b[49m\u001b[38;5;241;43m==\u001b[39;49m\u001b[43m \u001b[49m\u001b[38;5;28;43mself\u001b[39;49m\u001b[38;5;241;43m.\u001b[39;49m\u001b[43mvacancy_value\u001b[49m\u001b[43m)\u001b[49m\u001b[38;5;241;43m.\u001b[39;49m\u001b[43msum\u001b[49m\u001b[43m(\u001b[49m\u001b[43m)\u001b[49m\n\u001b[0;32m    248\u001b[0m N_Resident_dissatisfied, N_Merchant_dissatisfied \u001b[38;5;241m=\u001b[39m Resident_dissatisfied\u001b[38;5;241m.\u001b[39msum(), Merchant_dissatisfied\u001b[38;5;241m.\u001b[39msum()\n\u001b[0;32m    249\u001b[0m filling \u001b[38;5;241m=\u001b[39m np\u001b[38;5;241m.\u001b[39mfull(vacant, \u001b[38;5;28mself\u001b[39m\u001b[38;5;241m.\u001b[39mvacancy_value, dtype\u001b[38;5;241m=\u001b[39mnp\u001b[38;5;241m.\u001b[39mint8)\n",
      "File \u001b[1;32m~\\AppData\\Local\\Programs\\Python\\Python311\\Lib\\site-packages\\numpy\\core\\_methods.py:47\u001b[0m, in \u001b[0;36m_sum\u001b[1;34m(a, axis, dtype, out, keepdims, initial, where)\u001b[0m\n\u001b[0;32m     43\u001b[0m \u001b[38;5;28;01mdef\u001b[39;00m \u001b[38;5;21m_amin\u001b[39m(a, axis\u001b[38;5;241m=\u001b[39m\u001b[38;5;28;01mNone\u001b[39;00m, out\u001b[38;5;241m=\u001b[39m\u001b[38;5;28;01mNone\u001b[39;00m, keepdims\u001b[38;5;241m=\u001b[39m\u001b[38;5;28;01mFalse\u001b[39;00m,\n\u001b[0;32m     44\u001b[0m           initial\u001b[38;5;241m=\u001b[39m_NoValue, where\u001b[38;5;241m=\u001b[39m\u001b[38;5;28;01mTrue\u001b[39;00m):\n\u001b[0;32m     45\u001b[0m     \u001b[38;5;28;01mreturn\u001b[39;00m umr_minimum(a, axis, \u001b[38;5;28;01mNone\u001b[39;00m, out, keepdims, initial, where)\n\u001b[1;32m---> 47\u001b[0m \u001b[38;5;28;01mdef\u001b[39;00m \u001b[38;5;21m_sum\u001b[39m(a, axis\u001b[38;5;241m=\u001b[39m\u001b[38;5;28;01mNone\u001b[39;00m, dtype\u001b[38;5;241m=\u001b[39m\u001b[38;5;28;01mNone\u001b[39;00m, out\u001b[38;5;241m=\u001b[39m\u001b[38;5;28;01mNone\u001b[39;00m, keepdims\u001b[38;5;241m=\u001b[39m\u001b[38;5;28;01mFalse\u001b[39;00m,\n\u001b[0;32m     48\u001b[0m          initial\u001b[38;5;241m=\u001b[39m_NoValue, where\u001b[38;5;241m=\u001b[39m\u001b[38;5;28;01mTrue\u001b[39;00m):\n\u001b[0;32m     49\u001b[0m     \u001b[38;5;28;01mreturn\u001b[39;00m umr_sum(a, axis, dtype, out, keepdims, initial, where)\n\u001b[0;32m     51\u001b[0m \u001b[38;5;28;01mdef\u001b[39;00m \u001b[38;5;21m_prod\u001b[39m(a, axis\u001b[38;5;241m=\u001b[39m\u001b[38;5;28;01mNone\u001b[39;00m, dtype\u001b[38;5;241m=\u001b[39m\u001b[38;5;28;01mNone\u001b[39;00m, out\u001b[38;5;241m=\u001b[39m\u001b[38;5;28;01mNone\u001b[39;00m, keepdims\u001b[38;5;241m=\u001b[39m\u001b[38;5;28;01mFalse\u001b[39;00m,\n\u001b[0;32m     52\u001b[0m           initial\u001b[38;5;241m=\u001b[39m_NoValue, where\u001b[38;5;241m=\u001b[39m\u001b[38;5;28;01mTrue\u001b[39;00m):\n",
      "\u001b[1;31mKeyboardInterrupt\u001b[0m: "
     ]
    }
   ],
   "source": [
    "L = 50\n",
    "agentDensity = 0.6\n",
    "minimalNumberOfNeighbors = 5\n",
    "residentRelativeDensity = 0\n",
    "timeSteps = 10000\n",
    "periodicBoundaries = True\n",
    "unitaryEvolution = False\n",
    "plot = True\n",
    "args = [('neighborhood', 1), ('minimal_neighbors_merchant_density', minimalNumberOfNeighbors/8), ('minimal_merchant_neighbors_resident_density', 0)]\n",
    "\n",
    "city = fc.City(L, agentDensity, residentRelativeDensity)\n",
    "city.change_properties(args)\n",
    "\n",
    "if unitaryEvolution:\n",
    "    for i in range(timeSteps * 1000):\n",
    "        city.evolve_unitary(periodicBoundaries, 1)\n",
    "    \n",
    "        if i%50 == 0 and plot:\n",
    "            city.print_city()\n",
    "            display.clear_output(wait=True)\n",
    "\n",
    "    display.clear_output(wait=True)\n",
    "    city.print_city()\n",
    "\n",
    "\n",
    "else:\n",
    "    for i in range(timeSteps):\n",
    "        # stop condition\n",
    "        if i%5 == 0:\n",
    "            oldCity = np.copy(city.city)\n",
    "            city.evolve(periodicBoundaries, 1)\n",
    "            dif = oldCity - city.city\n",
    "            if all(all(element == 0) for element in dif):\n",
    "                city.print_city()\n",
    "                break\n",
    "\n",
    "        else:\n",
    "            city.evolve(periodicBoundaries, 1)\n",
    "\n",
    "        if i%200 == 0 and plot:\n",
    "            city.print_city()\n",
    "            display.clear_output(wait=True)\n",
    "\n",
    "    display.clear_output(wait=True)\n",
    "    city.print_city()"
   ]
  },
  {
   "cell_type": "markdown",
   "id": "59b95d0c-18f1-4a54-a42e-b082b1d3bb1a",
   "metadata": {},
   "source": [
    "### Clustering analysis for multiple cases"
   ]
  },
  {
   "cell_type": "code",
   "execution_count": 113,
   "id": "76f6447c-4081-4b32-a863-b100f3ba6afd",
   "metadata": {},
   "outputs": [],
   "source": [
    "L = 50\n",
    "residentRelativeDensity = 0\n",
    "timeSteps = 10000\n",
    "periodicBoundaries = True\n",
    "unitaryEvolution = False\n",
    "plot = False\n",
    "simulations = 1\n",
    "\n",
    "agentDensityArray = np.linspace(0.1, 1, 10, endpoint=True)\n",
    "numbers = np.arange(0,9)\n",
    "\n",
    "numClustersAverageDict = dict()\n",
    "numClustersDeviationDict = dict()\n",
    "clustersSizesAverageDict = dict()\n",
    "clustersSizesDeviationDict = dict()\n",
    "\n",
    "for agentDensity in agentDensityArray:\n",
    "    for number in numbers:\n",
    "        numClustersArray = np.zeros(simulations)\n",
    "        clustersSizesAverageArray = np.zeros(simulations)\n",
    "        numClustersDeviation = 0\n",
    "        clustersSizesDeviation = 0\n",
    "\n",
    "        args = [('neighborhood', 1), ('minimal_neighbors_merchant_density', number/8), ('minimal_merchant_neighbors_resident_density', 0)]\n",
    "        minimal_neighbors_merchant_density = number/8\n",
    "\n",
    "        for i in range(simulations):\n",
    "            city = fc.City(L, agentDensity, residentRelativeDensity)\n",
    "            city.change_properties(args)\n",
    "            \n",
    "            if unitaryEvolution:\n",
    "                for k in range(timeSteps * 1000):\n",
    "                    city.evolve_unitary(periodicBoundaries, 1)\n",
    "                \n",
    "                    if k%50 == 0 and plot:\n",
    "                        city.print_city()\n",
    "                        display.clear_output(wait=True)\n",
    "        \n",
    "                if plot:\n",
    "                    display.clear_output(wait=True)\n",
    "                    city.print_city()\n",
    "            \n",
    "            \n",
    "            else:\n",
    "                for k in range(timeSteps):\n",
    "                    # stop condition\n",
    "                    if k%5 == 0:\n",
    "                        oldCity = np.copy(city.city)\n",
    "                        city.evolve(periodicBoundaries, 1)\n",
    "                        dif = oldCity - city.city\n",
    "                        if all(all(element == 0) for element in dif):\n",
    "                            if plot:\n",
    "                                city.print_city()\n",
    "                            break\n",
    "            \n",
    "                    else:\n",
    "                        city.evolve(periodicBoundaries, 1)\n",
    "            \n",
    "                    if k%200 == 0 and plot:\n",
    "                        city.print_city()\n",
    "                        display.clear_output(wait=True)\n",
    "        \n",
    "                if plot:\n",
    "                    display.clear_output(wait=True)\n",
    "                    city.print_city()\n",
    "        \n",
    "            HK_class = fc.HoshenKopelman(city.city)\n",
    "            labels = HK_class.hk(city.merchant_value, periodicBoundaries)\n",
    "            numClusters, clustersSizes, clustersSizesAverageAcquired = HK_class.cluster_data()\n",
    "            numClustersArray[i] = numClusters    \n",
    "            clustersSizesAverageArray[i] = clustersSizesAverageAcquired\n",
    "\n",
    "        numClustersAverage = float(numClustersArray.sum())/simulations\n",
    "        clustersSizesAverage = float(clustersSizesAverageArray.sum())/simulations\n",
    "\n",
    "        difSquaredNumClusters = 0\n",
    "        difSquaredClustersSizes = 0\n",
    "        for i in range(simulations):\n",
    "            difSquaredNumClusters += (numClustersArray[i] - numClustersAverage)*(numClustersArray[i] - numClustersAverage)\n",
    "            difSquaredClustersSizes += (clustersSizesAverageArray[i] - clustersSizesAverage)*(clustersSizesAverageArray[i] - clustersSizesAverage)\n",
    "\n",
    "        numClustersDeviation = np.sqrt(float(difSquaredNumClusters)/simulations)\n",
    "        clustersSizesDeviation = np.sqrt(float(difSquaredClustersSizes)/simulations)\n",
    "        \n",
    "        numClustersAverageDict[(np.round(agentDensity,3),np.round(minimal_neighbors_merchant_density,3))] = np.round(numClustersAverage,1)\n",
    "        numClustersDeviationDict[(np.round(agentDensity,3),np.round(minimal_neighbors_merchant_density,3))] = np.round(numClustersDeviation,1)\n",
    "        clustersSizesAverageDict[(np.round(agentDensity,3),np.round(minimal_neighbors_merchant_density,3))] = np.round(clustersSizesAverage,1)\n",
    "        clustersSizesDeviationDict[(np.round(agentDensity,3),np.round(minimal_neighbors_merchant_density,3))] = np.round(clustersSizesDeviation,1)"
   ]
  },
  {
   "cell_type": "code",
   "execution_count": 161,
   "id": "3084f0ab-2933-48a9-8fce-d2335c98c606",
   "metadata": {},
   "outputs": [],
   "source": [
    "def generate_heatmap(data,title):\n",
    "    # Extrair chaves e valores do dicionário\n",
    "    keys = list(data.keys())\n",
    "    values = list(data.values())\n",
    "\n",
    "    # Obter valores únicos de agentDensity e residentRelativeDensity\n",
    "    agent_density_values = np.unique([key[0] for key in keys])\n",
    "    relative_density_values = np.unique([key[1] for key in keys])\n",
    "\n",
    "    # Criar matriz de zeros para armazenar os valores do heatmap\n",
    "    heatmap_data = np.zeros((len(relative_density_values), len(agent_density_values)))\n",
    "\n",
    "    # Preencher a matriz com os valores do dicionário\n",
    "    for i, agent_density in enumerate(agent_density_values):\n",
    "        for j, relative_density in enumerate(relative_density_values):\n",
    "            key = (agent_density, relative_density)\n",
    "            if key in data:\n",
    "                heatmap_data[j, i] = data[key]\n",
    "\n",
    "    # Criar o heatmap\n",
    "    plt.imshow(heatmap_data, cmap='viridis', extent=[0, 1,\n",
    "                                                    0, 9], aspect = 'auto',\n",
    "               origin='lower', vmin=min(values), vmax=max(values))\n",
    "    plt.colorbar(label=title)\n",
    "    plt.xlabel('Agent Density')\n",
    "    plt.ylabel('Minimal neighbors merchant density')\n",
    "    plt.title(title + ' Heatmap')\n",
    "    plt.show()"
   ]
  },
  {
   "cell_type": "code",
   "execution_count": 164,
   "id": "e9054194-e555-44fb-89c5-466785d793df",
   "metadata": {},
   "outputs": [
    {
     "name": "stdout",
     "output_type": "stream",
     "text": [
      "{(0.1, 0.0): 205.0, (0.1, 0.125): 136.0, (0.1, 0.25): 29.0, (0.1, 0.375): 6.0, (0.1, 0.5): 200.0, (0.1, 0.625): 199.0, (0.1, 0.75): 201.0, (0.1, 0.875): 206.0, (0.1, 1.0): 215.0, (0.2, 0.0): 323.0, (0.2, 0.125): 231.0, (0.2, 0.25): 72.0, (0.2, 0.375): 11.0, (0.2, 0.5): 3.0, (0.2, 0.625): 293.0, (0.2, 0.75): 311.0, (0.2, 0.875): 304.0, (0.2, 1.0): 310.0, (0.3, 0.0): 305.0, (0.3, 0.125): 252.0, (0.3, 0.25): 117.0, (0.3, 0.375): 26.0, (0.3, 0.5): 6.0, (0.3, 0.625): 307.0, (0.3, 0.75): 295.0, (0.3, 0.875): 331.0, (0.3, 1.0): 310.0, (0.4, 0.0): 255.0, (0.4, 0.125): 211.0, (0.4, 0.25): 133.0, (0.4, 0.375): 15.0, (0.4, 0.5): 7.0, (0.4, 0.625): 244.0, (0.4, 0.75): 260.0, (0.4, 0.875): 272.0, (0.4, 1.0): 251.0, (0.5, 0.0): 152.0, (0.5, 0.125): 147.0, (0.5, 0.25): 118.0, (0.5, 0.375): 16.0, (0.5, 0.5): 3.0, (0.5, 0.625): 199.0, (0.5, 0.75): 169.0, (0.5, 0.875): 170.0, (0.5, 1.0): 175.0, (0.6, 0.0): 77.0, (0.6, 0.125): 60.0, (0.6, 0.25): 46.0, (0.6, 0.375): 15.0, (0.6, 0.5): 1.0, (0.6, 0.625): 147.0, (0.6, 0.75): 129.0, (0.6, 0.875): 79.0, (0.6, 1.0): 54.0, (0.7, 0.0): 21.0, (0.7, 0.125): 22.0, (0.7, 0.25): 13.0, (0.7, 0.375): 11.0, (0.7, 0.5): 1.0, (0.7, 0.625): 67.0, (0.7, 0.75): 80.0, (0.7, 0.875): 32.0, (0.7, 1.0): 14.0, (0.8, 0.0): 4.0, (0.8, 0.125): 3.0, (0.8, 0.25): 7.0, (0.8, 0.375): 1.0, (0.8, 0.5): 2.0, (0.8, 0.625): 3.0, (0.8, 0.75): 66.0, (0.8, 0.875): 9.0, (0.8, 1.0): 6.0, (0.9, 0.0): 1.0, (0.9, 0.125): 1.0, (0.9, 0.25): 2.0, (0.9, 0.375): 1.0, (0.9, 0.5): 1.0, (0.9, 0.625): 1.0, (0.9, 0.75): 21.0, (0.9, 0.875): 7.0, (0.9, 1.0): 1.0, (1.0, 0.0): 1.0, (1.0, 0.125): 1.0, (1.0, 0.25): 1.0, (1.0, 0.375): 1.0, (1.0, 0.5): 1.0, (1.0, 0.625): 1.0, (1.0, 0.75): 1.0, (1.0, 0.875): 1.0, (1.0, 1.0): 1.0}\n"
     ]
    },
    {
     "data": {
      "image/png": "[encoded data removed]",
      "text/plain": [
       "<Figure size 640x480 with 2 Axes>"
      ]
     },
     "metadata": {},
     "output_type": "display_data"
    }
   ],
   "source": [
    "print(numClustersAverageDict)\n",
    "generate_heatmap(numClustersAverageDict, 'Number of Clusters Average')"
   ]
  },
  {
   "cell_type": "markdown",
   "id": "99221b24-c5de-4264-8dca-ac0352ad960a",
   "metadata": {
    "jp-MarkdownHeadingCollapsed": true
   },
   "source": [
    "### Clustering stability for a pre-existing cluster"
   ]
  },
  {
   "cell_type": "code",
   "execution_count": 20,
   "id": "d2bc9ca1-8198-4549-8f6e-bba83c5eaf06",
   "metadata": {},
   "outputs": [
    {
     "data": {
      "image/png": "[encoded data removed]",
      "text/plain": [
       "<Figure size 800x800 with 1 Axes>"
      ]
     },
     "metadata": {},
     "output_type": "display_data"
    },
    {
     "name": "stdout",
     "output_type": "stream",
     "text": [
      "0.4 12.6 7\n"
     ]
    }
   ],
   "source": [
    "L = 50\n",
    "matrix = np.zeros((L,L), dtype = np.int8)\n",
    "core_shape = 'circle'\n",
    "core_side = 20\n",
    "timeSteps = 10000\n",
    "minimal_neighbors_merchant_density = 5/8\n",
    "periodicBoundaries = False\n",
    "unitaryEvolution = True\n",
    "plot = True\n",
    "\n",
    "initialSize = 0\n",
    "if core_shape == 'circle':\n",
    "    a = (L - core_side)//2\n",
    "    for i in range(a, a+core_side):\n",
    "        for j in range(a, a+core_side):\n",
    "            if (i - (a+core_side/2))**2 + (j - (a+core_side/2))**2 <= (core_side/2)**2:\n",
    "                matrix[i][j] = fc.City.merchant_value\n",
    "                initialSize += 1\n",
    "\n",
    "    \n",
    "if core_shape == 'square':\n",
    "    a = (L - core_side)//2\n",
    "    for i in range(a, a+core_side):\n",
    "        for j in range(a, a+core_side):\n",
    "            matrix[i][j] = fc.City.merchant_value\n",
    "            initialSize += 1\n",
    "    \n",
    "city = fc.City(matrix)\n",
    "\n",
    "if unitaryEvolution:\n",
    "    for i in range(timeSteps):\n",
    "        city.evolve_unitary(periodicBoundaries, 1)\n",
    "    \n",
    "        if i%500 == 0 and plot:\n",
    "            city.print_city()\n",
    "            display.clear_output(wait=True)\n",
    "\n",
    "else:\n",
    "    for i in range(timeSteps):\n",
    "        city.evolve(periodicBoundaries, 1)\n",
    "\n",
    "        if i%5 == 0 and plot:\n",
    "            city.print_city()\n",
    "            display.clear_output(wait=True)\n",
    "\n",
    "HK_class = fc.HoshenKopelman(city.city)\n",
    "labels = HK_class.hk(city.merchant_value, periodicBoundaries)\n",
    "numClusters, clustersSizes, clustersSizesAverage = HK_class.cluster_data()\n",
    "\n"
   ]
  },
  {
   "cell_type": "code",
   "execution_count": 6,
   "id": "f9b41a19-3882-4d38-b41b-3df9daf139bc",
   "metadata": {},
   "outputs": [
    {
     "data": {
      "image/png": "[encoded data removed]",
      "text/plain": [
       "<Figure size 800x800 with 1 Axes>"
      ]
     },
     "metadata": {},
     "output_type": "display_data"
    },
    {
     "name": "stdout",
     "output_type": "stream",
     "text": [
      "0.01 0.0 1\n"
     ]
    },
    {
     "data": {
      "image/png": "[encoded data removed]",
      "text/plain": [
       "<Figure size 800x800 with 1 Axes>"
      ]
     },
     "metadata": {},
     "output_type": "display_data"
    },
    {
     "name": "stdout",
     "output_type": "stream",
     "text": [
      "0.02 0.0 1\n"
     ]
    },
    {
     "data": {
      "image/png": "[encoded data removed]",
      "text/plain": [
       "<Figure size 800x800 with 1 Axes>"
      ]
     },
     "metadata": {},
     "output_type": "display_data"
    },
    {
     "name": "stdout",
     "output_type": "stream",
     "text": [
      "0.03 0.1 1\n"
     ]
    },
    {
     "ename": "KeyboardInterrupt",
     "evalue": "",
     "output_type": "error",
     "traceback": [
      "\u001b[1;31m---------------------------------------------------------------------------\u001b[0m",
      "\u001b[1;31mKeyboardInterrupt\u001b[0m                         Traceback (most recent call last)",
      "Cell \u001b[1;32mIn[6], line 25\u001b[0m\n\u001b[0;32m     22\u001b[0m             matrix[i][j] \u001b[38;5;241m=\u001b[39m fc\u001b[38;5;241m.\u001b[39mCity\u001b[38;5;241m.\u001b[39mmerchant_value\n\u001b[0;32m     24\u001b[0m city \u001b[38;5;241m=\u001b[39m fc\u001b[38;5;241m.\u001b[39mCity(matrix)\n\u001b[1;32m---> 25\u001b[0m \u001b[43mcity\u001b[49m\u001b[38;5;241;43m.\u001b[39;49m\u001b[43mevolve\u001b[49m\u001b[43m(\u001b[49m\u001b[43mperiodicBoundaries\u001b[49m\u001b[43m,\u001b[49m\u001b[43m \u001b[49m\u001b[43mtimeSteps\u001b[49m\u001b[43m)\u001b[49m\n\u001b[0;32m     27\u001b[0m HK_class \u001b[38;5;241m=\u001b[39m fc\u001b[38;5;241m.\u001b[39mHoshenKopelman(city\u001b[38;5;241m.\u001b[39mcity)\n\u001b[0;32m     28\u001b[0m labels \u001b[38;5;241m=\u001b[39m HK_class\u001b[38;5;241m.\u001b[39mhk(city\u001b[38;5;241m.\u001b[39mmerchant_value, periodicBoundaries)\n",
      "File \u001b[1;32m~\\UFMG\\Mestrado\\Projeto\\Projeto\\functionsAndClasses.py:202\u001b[0m, in \u001b[0;36mCity.evolve\u001b[1;34m(self, periodicBoundaries, timeSteps)\u001b[0m\n\u001b[0;32m    198\u001b[0m Merchant_dissatisfied \u001b[38;5;241m=\u001b[39m ((((Neighs \u001b[38;5;241m<\u001b[39m \u001b[38;5;28mself\u001b[39m\u001b[38;5;241m.\u001b[39mminimal_neighbors_merchant) \u001b[38;5;241m|\u001b[39m (Neighs \u001b[38;5;241m>\u001b[39m\u001b[38;5;28mself\u001b[39m\u001b[38;5;241m.\u001b[39mmaximal_neighbors_merchant)) \u001b[38;5;241m|\u001b[39m                                  \u001b[38;5;66;03m# minimal and maximal neighbors   \u001b[39;00m\n\u001b[0;32m    199\u001b[0m                        ((Resident_neighs \u001b[38;5;241m<\u001b[39m \u001b[38;5;28mself\u001b[39m\u001b[38;5;241m.\u001b[39mminimal_resident_neighbors_merchant) \u001b[38;5;241m|\u001b[39m (Resident_neighs \u001b[38;5;241m>\u001b[39m \u001b[38;5;28mself\u001b[39m\u001b[38;5;241m.\u001b[39mmaximal_resident_neighbors_merchant))) \u001b[38;5;241m&\u001b[39m \u001b[38;5;66;03m# minimal and maximal resident neighbors \u001b[39;00m\n\u001b[0;32m    200\u001b[0m                        (\u001b[38;5;28mself\u001b[39m\u001b[38;5;241m.\u001b[39mcity \u001b[38;5;241m==\u001b[39m \u001b[38;5;28mself\u001b[39m\u001b[38;5;241m.\u001b[39mmerchant_value))\n\u001b[0;32m    201\u001b[0m \u001b[38;5;28mself\u001b[39m\u001b[38;5;241m.\u001b[39mcity[Resident_dissatisfied \u001b[38;5;241m|\u001b[39m Merchant_dissatisfied] \u001b[38;5;241m=\u001b[39m \u001b[38;5;28mself\u001b[39m\u001b[38;5;241m.\u001b[39mvacancy_value\n\u001b[1;32m--> 202\u001b[0m vacant \u001b[38;5;241m=\u001b[39m \u001b[43m(\u001b[49m\u001b[38;5;28;43mself\u001b[39;49m\u001b[38;5;241;43m.\u001b[39;49m\u001b[43mcity\u001b[49m\u001b[43m \u001b[49m\u001b[38;5;241;43m==\u001b[39;49m\u001b[43m \u001b[49m\u001b[38;5;28;43mself\u001b[39;49m\u001b[38;5;241;43m.\u001b[39;49m\u001b[43mvacancy_value\u001b[49m\u001b[43m)\u001b[49m\u001b[38;5;241;43m.\u001b[39;49m\u001b[43msum\u001b[49m\u001b[43m(\u001b[49m\u001b[43m)\u001b[49m\n\u001b[0;32m    204\u001b[0m N_Resident_dissatisfied, N_Merchant_dissatisfied \u001b[38;5;241m=\u001b[39m Resident_dissatisfied\u001b[38;5;241m.\u001b[39msum(), Merchant_dissatisfied\u001b[38;5;241m.\u001b[39msum()\n\u001b[0;32m    205\u001b[0m filling \u001b[38;5;241m=\u001b[39m np\u001b[38;5;241m.\u001b[39mfull(vacant, \u001b[38;5;28mself\u001b[39m\u001b[38;5;241m.\u001b[39mvacancy_value, dtype\u001b[38;5;241m=\u001b[39mnp\u001b[38;5;241m.\u001b[39mint8)\n",
      "File \u001b[1;32m~\\AppData\\Local\\Programs\\Python\\Python311\\Lib\\site-packages\\numpy\\core\\_methods.py:49\u001b[0m, in \u001b[0;36m_sum\u001b[1;34m(a, axis, dtype, out, keepdims, initial, where)\u001b[0m\n\u001b[0;32m     47\u001b[0m \u001b[38;5;28;01mdef\u001b[39;00m \u001b[38;5;21m_sum\u001b[39m(a, axis\u001b[38;5;241m=\u001b[39m\u001b[38;5;28;01mNone\u001b[39;00m, dtype\u001b[38;5;241m=\u001b[39m\u001b[38;5;28;01mNone\u001b[39;00m, out\u001b[38;5;241m=\u001b[39m\u001b[38;5;28;01mNone\u001b[39;00m, keepdims\u001b[38;5;241m=\u001b[39m\u001b[38;5;28;01mFalse\u001b[39;00m,\n\u001b[0;32m     48\u001b[0m          initial\u001b[38;5;241m=\u001b[39m_NoValue, where\u001b[38;5;241m=\u001b[39m\u001b[38;5;28;01mTrue\u001b[39;00m):\n\u001b[1;32m---> 49\u001b[0m     \u001b[38;5;28;01mreturn\u001b[39;00m umr_sum(a, axis, dtype, out, keepdims, initial, where)\n",
      "\u001b[1;31mKeyboardInterrupt\u001b[0m: "
     ]
    }
   ],
   "source": [
    "L = 100\n",
    "matrix = np.zeros((L,L), dtype = np.int8)\n",
    "core_shape = 'square'\n",
    "core_sideArray = np.arange(1, 50)\n",
    "periodicBoundaries = True\n",
    "timeSteps = 10000\n",
    "\n",
    "for core_side in core_sideArray:\n",
    "    # creates merchant core\n",
    "    if core_shape == 'circle':\n",
    "        a = (L - core_side)//2\n",
    "        for i in range(a, a+side):\n",
    "            for j in range(a, a+side):\n",
    "                if (i - (a+side/2))**2 + (j - (a+side/2))**2 <= (core_side/2)**2:\n",
    "                    matrix[i][j] = fc.City.merchant_value\n",
    "    \n",
    "        \n",
    "    if core_shape == 'square':\n",
    "        a = (L - core_side)//2\n",
    "        for i in range(a, a+core_side):\n",
    "            for j in range(a, a+core_side):\n",
    "                matrix[i][j] = fc.City.merchant_value\n",
    "    \n",
    "    city = fc.City(matrix)\n",
    "    city.evolve(periodicBoundaries, timeSteps)\n",
    "    \n",
    "    HK_class = fc.HoshenKopelman(city.city)\n",
    "    labels = HK_class.hk(city.merchant_value, periodicBoundaries)\n",
    "    numClusters, clustersSizes, clustersSizesAverage = HK_class.cluster_data()\n",
    "    fc.plot_generic_grid(labels)\n",
    "    print(float(core_side)/L, np.round(100*(1 - float(len(city.vacantArray))/(L*L)),1), np.max(list(clustersSizes.values())))"
   ]
  },
  {
   "cell_type": "code",
   "execution_count": null,
   "id": "7c160483-9c6d-49bb-868c-09568bc66650",
   "metadata": {},
   "outputs": [],
   "source": []
  }
 ],
 "metadata": {
  "kernelspec": {
   "display_name": "Python 3 (ipykernel)",
   "language": "python",
   "name": "python3"
  },
  "language_info": {
   "codemirror_mode": {
    "name": "ipython",
    "version": 3
   },
   "file_extension": ".py",
   "mimetype": "text/x-python",
   "name": "python",
   "nbconvert_exporter": "python",
   "pygments_lexer": "ipython3",
   "version": "3.11.0"
  }
 },
 "nbformat": 4,
 "nbformat_minor": 5
}
