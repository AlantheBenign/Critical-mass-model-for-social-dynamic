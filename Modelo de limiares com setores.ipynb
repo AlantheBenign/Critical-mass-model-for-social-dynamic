{
 "cells": [
  {
   "cell_type": "code",
   "execution_count": 79,
   "metadata": {},
   "outputs": [],
   "source": [
    "# Essas duas linhas recarregam o arquivo do módulo \"funcoes_modelo_de_limiares.py\" #\n",
    "import funcoes_modelo_de_limiares as lim\n",
    "import imp\n",
    "#imp.find_module(funcoes_modelo_de_limiares)\n",
    "#imp.reload(funcoes_modelo_de_limiares)\n",
    "\n",
    "###########################################################################################################################################\n",
    "\n",
    "import numpy as np\n",
    "import matplotlib.pyplot as plt\n",
    "import random as rd\n",
    "from IPython.display import clear_output\n",
    "\n",
    "import funcoes_modelo_de_limiares as lim"
   ]
  },
  {
   "cell_type": "code",
   "execution_count": 181,
   "metadata": {},
   "outputs": [],
   "source": [
    "class Sistema:\n",
    "    \n",
    "    def __init__(self, agentes0, agentes1):\n",
    "        self.place0_size = len(agentes0)\n",
    "        self.place0 = agentes0\n",
    "        self.place1_size = len(agentes1)\n",
    "        self.place1 = agentes1\n",
    "        \n",
    "    def migrate(self, placeA, i):\n",
    "        a = False\n",
    "        if placeA == 0:\n",
    "            agente = self.place0[i]\n",
    "            self.place0 = np.delete(self.place0, i)\n",
    "            self.place0_size -= 1\n",
    "            self.place1 = np.append(self.place1, agente)\n",
    "            self.place1_size += 1\n",
    "            if agente.state == 1:\n",
    "                a = True\n",
    "        else:\n",
    "            agente = self.place1[i]\n",
    "            self.place1 = np.delete(self.place1, i)\n",
    "            self.place1_size -= 1\n",
    "            self.place0 = np.append(self.place0, agente)\n",
    "            self.place0_size += 1\n",
    "            if agente.state == 1:\n",
    "                a = True\n",
    "            \n",
    "        return a"
   ]
  },
  {
   "cell_type": "code",
   "execution_count": 182,
   "metadata": {},
   "outputs": [],
   "source": [
    "def simula_greve_setores_migracao(N, sistema, passos = 50, probabilidade_de_migracao = 0.2):\n",
    "    \n",
    "    tamanho_da_greve = np.array([0,0])\n",
    "    progressao = np.zeros((2,passos))              # array que acumula a evolução temporal da greve\n",
    "    aux0 = 0\n",
    "    aux1 = 0\n",
    "    migracao = 0\n",
    "    \n",
    "    for i in range(passos):\n",
    "        for j in range(sistema.place0_size):\n",
    "            sistema.place0[j].update_state(tamanho_da_greve[0]/sistema.place0_size)\n",
    "            if sistema.place0[j].state == 1:\n",
    "                aux0 += 1\n",
    "                \n",
    "        for j in range(sistema.place1_size):       \n",
    "            sistema.place1[j].update_state(tamanho_da_greve[1]/sistema.place1_size)\n",
    "            if sistema.place1[j].state == 1:\n",
    "                aux1 += 1\n",
    "                \n",
    "        tamanho_da_greve[0] = aux0\n",
    "        tamanho_da_greve[1] = aux1\n",
    "        progressao[0][i] = tamanho_da_greve[0]\n",
    "        progressao[1][i] = tamanho_da_greve[1]\n",
    "        aux0 = 0\n",
    "        aux1 = 0\n",
    "        \n",
    "        prob = rd.random()\n",
    "        \n",
    "        if prob <= probabilidade_de_migracao:\n",
    "            migracao += 1\n",
    "            setor = rd.randint(0,1)\n",
    "            if setor == 0:\n",
    "                num_agente = rd.randint(0,sistema.place0_size-1)\n",
    "            else:\n",
    "                num_agente = rd.randint(0,sistema.place1_size-1)\n",
    "            \n",
    "            sistema.migrate(setor, num_agente)\n",
    "    print(migracao)\n",
    "            \n",
    "    return [progressao, tamanho_da_greve]"
   ]
  },
  {
   "cell_type": "code",
   "execution_count": 183,
   "metadata": {},
   "outputs": [],
   "source": [
    "def simula_greve_setores_migracao_individual(N, sistema, passos = 50, probabilidade_de_migracao_individual = 0.01):\n",
    "    \n",
    "    tamanho_da_greve = np.array([0,0])\n",
    "    progressao = np.zeros((2,passos))              # array que acumula a evolução temporal da greve\n",
    "    aux0 = 0\n",
    "    aux1 = 0\n",
    "    migracao = 0\n",
    "    \n",
    "    for i in range(passos):\n",
    "        j = 0\n",
    "        while j < sistema.place0_size:\n",
    "            sistema.place0[j].update_state(tamanho_da_greve[0]/sistema.place0_size)\n",
    "            if sistema.place0[j].state == 1:\n",
    "                aux0 += 1\n",
    "\n",
    "            prob = float(rd.random())\n",
    "\n",
    "            if prob <= probabilidade_de_migracao_individual:\n",
    "                migracao += 1\n",
    "                a = sistema.migrate(0, j)\n",
    "                if a:\n",
    "                    tamanho_da_greve[0] -= 1\n",
    "                j -= 1\n",
    "\n",
    "            j += 1\n",
    "\n",
    "        j = 0        \n",
    "        while j < sistema.place1_size:    \n",
    "            \n",
    "            sistema.place1[j].update_state(tamanho_da_greve[1]/sistema.place1_size)\n",
    "            if sistema.place1[j].state == 1:\n",
    "                aux1 += 1\n",
    "                \n",
    "            prob = float(rd.random())\n",
    "\n",
    "            if prob <= probabilidade_de_migracao_individual:\n",
    "                migracao += 1\n",
    "                a = sistema.migrate(1, j)\n",
    "                if a:\n",
    "                    tamanho_da_greve[1] -= 1\n",
    "                j -= 1\n",
    "            \n",
    "            j += 1\n",
    "                \n",
    "                \n",
    "        tamanho_da_greve[0] = aux0\n",
    "        tamanho_da_greve[1] = aux1\n",
    "        progressao[0][i] = tamanho_da_greve[0]\n",
    "        progressao[1][i] = tamanho_da_greve[1]\n",
    "        aux0 = 0\n",
    "        aux1 = 0\n",
    "        \n",
    "    print(migracao)\n",
    "            \n",
    "    return [progressao, tamanho_da_greve]"
   ]
  },
  {
   "cell_type": "code",
   "execution_count": 194,
   "metadata": {},
   "outputs": [],
   "source": [
    "def simula_greve_setores_migracao_individual_2(N, sistema, passos = 50, prob1 = 0.01, prob2 = 0.02):\n",
    "    \n",
    "    tamanho_da_greve = np.array([0,0])\n",
    "    progressao = np.zeros((2,passos))              # array que acumula a evolução temporal da greve\n",
    "    aux0 = 0\n",
    "    aux1 = 0\n",
    "    migracao = 0\n",
    "    \n",
    "    for i in range(passos):\n",
    "        j = 0\n",
    "        while j < sistema.place0_size:\n",
    "            sistema.place0[j].update_state(tamanho_da_greve[0]/sistema.place0_size)\n",
    "            if sistema.place0[j].state == 1:\n",
    "                aux0 += 1\n",
    "\n",
    "            prob = float(rd.random())\n",
    "            \n",
    "            if tamanho_da_greve[0] > tamanho_da_greve[1]:\n",
    "                probabilidade = prob1\n",
    "            else:\n",
    "                probabilidade = prob2\n",
    "                \n",
    "            if prob <= probabilidade:\n",
    "                migracao += 1\n",
    "                a = sistema.migrate(0, j)\n",
    "                if a:\n",
    "                    tamanho_da_greve[0] -= 1\n",
    "                j -= 1\n",
    "\n",
    "            j += 1\n",
    "\n",
    "        j = 0        \n",
    "        while j < sistema.place1_size:    \n",
    "            \n",
    "            sistema.place1[j].update_state(tamanho_da_greve[1]/sistema.place1_size)\n",
    "            if sistema.place1[j].state == 1:\n",
    "                aux1 += 1\n",
    "                \n",
    "            prob = float(rd.random())\n",
    "            \n",
    "            if tamanho_da_greve[1] > tamanho_da_greve[0]:\n",
    "                probabilidade = prob1\n",
    "            else:\n",
    "                probabilidade = prob2\n",
    "\n",
    "            if prob <= probabilidade:\n",
    "                migracao += 1\n",
    "                a = sistema.migrate(1, j)\n",
    "                if a:\n",
    "                    tamanho_da_greve[1] -= 1\n",
    "                j -= 1\n",
    "            \n",
    "            j += 1\n",
    "                \n",
    "                \n",
    "        tamanho_da_greve[0] = aux0\n",
    "        tamanho_da_greve[1] = aux1\n",
    "        progressao[0][i] = tamanho_da_greve[0]\n",
    "        progressao[1][i] = tamanho_da_greve[1]\n",
    "        aux0 = 0\n",
    "        aux1 = 0\n",
    "        \n",
    "    print(migracao)\n",
    "            \n",
    "    return [progressao, tamanho_da_greve]"
   ]
  },
  {
   "cell_type": "code",
   "execution_count": 185,
   "metadata": {},
   "outputs": [
    {
     "name": "stdout",
     "output_type": "stream",
     "text": [
      "26\n"
     ]
    },
    {
     "data": {
      "image/png": "[encoded data removed]",
      "text/plain": [
       "<Figure size 432x288 with 1 Axes>"
      ]
     },
     "metadata": {
      "needs_background": "light"
     },
     "output_type": "display_data"
    }
   ],
   "source": [
    "N = 100\n",
    "media = 25\n",
    "desvio_padrao = 40\n",
    "\n",
    "agentes0 = lim.cria_agentes(N,media,desvio_padrao)\n",
    "agentes1 = lim.cria_agentes(N,media,desvio_padrao)\n",
    "\n",
    "sistema = Sistema(agentes0, agentes1)\n",
    "migracao = 0.2\n",
    "\n",
    "passos_temporais = 100\n",
    "\n",
    "(progressao, tamanho_final) = simula_greve_setores_migracao(N, sistema, passos_temporais, migracao)\n",
    "\n",
    "plt.figure()\n",
    "plt.plot(progressao[0])\n",
    "plt.plot(progressao[1])\n",
    "plt.ylim(-5,105)\n",
    "plt.show()"
   ]
  },
  {
   "cell_type": "code",
   "execution_count": 186,
   "metadata": {},
   "outputs": [
    {
     "name": "stdout",
     "output_type": "stream",
     "text": [
      "44415\n"
     ]
    },
    {
     "data": {
      "image/png": "[encoded data removed]",
      "text/plain": [
       "<Figure size 432x288 with 1 Axes>"
      ]
     },
     "metadata": {
      "needs_background": "light"
     },
     "output_type": "display_data"
    }
   ],
   "source": [
    "N = 100\n",
    "media = 25\n",
    "desvio_padrao = 40\n",
    "\n",
    "agentes0 = lim.cria_agentes(N,media,desvio_padrao)\n",
    "agentes1 = lim.cria_agentes(N,media,desvio_padrao)\n",
    "\n",
    "sistema = Sistema(agentes0, agentes1)\n",
    "migracao = 0.2\n",
    "\n",
    "passos_temporais = 1000\n",
    "\n",
    "(progressao, tamanho_final) = simula_greve_setores_migracao_individual(N, sistema, passos_temporais, migracao)\n",
    "\n",
    "plt.figure()\n",
    "plt.plot(progressao[0])\n",
    "plt.plot(progressao[1])\n",
    "plt.ylim(-5,105)\n",
    "plt.show()"
   ]
  },
  {
   "cell_type": "code",
   "execution_count": 195,
   "metadata": {},
   "outputs": [
    {
     "name": "stdout",
     "output_type": "stream",
     "text": [
      "2727\n"
     ]
    },
    {
     "data": {
      "image/png": "[encoded data removed]",
      "text/plain": [
       "<Figure size 432x288 with 1 Axes>"
      ]
     },
     "metadata": {
      "needs_background": "light"
     },
     "output_type": "display_data"
    }
   ],
   "source": [
    "N = 100\n",
    "media = 25\n",
    "desvio_padrao = 10\n",
    "\n",
    "agentes0 = lim.cria_agentes(N,media,desvio_padrao)\n",
    "agentes1 = lim.cria_agentes(N,media,desvio_padrao)\n",
    "\n",
    "sistema = Sistema(agentes0, agentes1)\n",
    "\n",
    "passos_temporais = 1000\n",
    "\n",
    "(progressao, tamanho_final) = simula_greve_setores_migracao_individual_2(N, sistema, passos_temporais)\n",
    "\n",
    "plt.figure()\n",
    "plt.plot(progressao[0])\n",
    "plt.plot(progressao[1])\n",
    "plt.plot(progressao[0]+progressao[1])\n",
    "plt.ylim(-5,2*N)\n",
    "plt.show()"
   ]
  },
  {
   "cell_type": "code",
   "execution_count": null,
   "metadata": {},
   "outputs": [],
   "source": []
  }
 ],
 "metadata": {
  "kernelspec": {
   "display_name": "Python 3",
   "language": "python",
   "name": "python3"
  },
  "language_info": {
   "codemirror_mode": {
    "name": "ipython",
    "version": 3
   },
   "file_extension": ".py",
   "mimetype": "text/x-python",
   "name": "python",
   "nbconvert_exporter": "python",
   "pygments_lexer": "ipython3",
   "version": "3.7.4"
  }
 },
 "nbformat": 4,
 "nbformat_minor": 4
}
