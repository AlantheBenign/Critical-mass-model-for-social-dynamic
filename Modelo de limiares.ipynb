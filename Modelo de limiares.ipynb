{
 "cells": [
  {
   "cell_type": "markdown",
   "metadata": {},
   "source": [
    "Bibliotecas usadas"
   ]
  },
  {
   "cell_type": "code",
   "execution_count": 19,
   "metadata": {},
   "outputs": [],
   "source": [
    "import numpy as np\n",
    "import matplotlib.pyplot as plt\n",
    "import random as rd\n",
    "from IPython.display import clear_output"
   ]
  },
  {
   "cell_type": "markdown",
   "metadata": {},
   "source": [
    "Gerando os limiares de um espaço amostral.\n",
    "\n",
    "A população de origem da amostra possui uma distribuição normal de limiares entre seus agentes."
   ]
  },
  {
   "cell_type": "code",
   "execution_count": 3,
   "metadata": {},
   "outputs": [],
   "source": [
    "def cria_thresholds(N = 100, a = True, media = 25, desvio_padrao = 10):\n",
    "    \"\"\"\n",
    "    Parâmetros do espaço amostral:\n",
    "      N := número total de agentes\n",
    "      a := se a == True os limiares menores que 0 se tornam 0 e os maiores que 100 se tornam 100, caso contrário nada acontece\n",
    "\n",
    "    Parâmetros da distribuição gaussiana:\n",
    "      média\n",
    "      desvio padrão\n",
    "      \n",
    "    Retorna um np.array com os thresholds de todos os agentes de forma ordenada\n",
    "    \n",
    "    \"\"\"\n",
    "    thresholds = np.array([])\n",
    "    \n",
    "    # gerando os limiares\n",
    "    for i in range(N):\n",
    "        limiar = rd.gauss(media, desvio_padrao)     # gera número aleatório numa distribuição normal\n",
    "\n",
    "        if a:\n",
    "            # todos os thresholds negativos se tornam 0 e todos aqueles maiores que 100 se tornam 100 (por coerência com a teoria)\n",
    "            if limiar < 0:\n",
    "                limiar = 0\n",
    "            elif limiar > 100:\n",
    "                limiar = 100\n",
    "\n",
    "        thresholds = np.append(thresholds, limiar)\n",
    "        \n",
    "    thresholds = sorted(thresholds) #ordena o array de thresholds\n",
    "    \n",
    "    return thresholds"
   ]
  },
  {
   "cell_type": "markdown",
   "metadata": {},
   "source": [
    "Plot de dada amostra da população para dados parâmetros iniciais"
   ]
  },
  {
   "cell_type": "code",
   "execution_count": 5,
   "metadata": {},
   "outputs": [
    {
     "data": {
      "image/png": "[encoded data removed]",
      "text/plain": [
       "<Figure size 432x288 with 1 Axes>"
      ]
     },
     "metadata": {
      "needs_background": "light"
     },
     "output_type": "display_data"
    }
   ],
   "source": [
    "N = 100            # número de agentes\n",
    "a = True           # thresholds negativos se tornam 0\n",
    "media = 25         # média da distribuição normal\n",
    "desvio_padrao = 10 # desvio padrão da distribuição normal\n",
    "\n",
    "thresholds = np.array([])\n",
    "thresholds = cria_thresholds(N,a,media,desvio_padrao)\n",
    "\n",
    "# plot\n",
    "plt.figure()\n",
    "plt.hist(thresholds,100)\n",
    "plt.show()"
   ]
  },
  {
   "cell_type": "markdown",
   "metadata": {},
   "source": [
    "Cálculo do tamanho final da greve"
   ]
  },
  {
   "cell_type": "code",
   "execution_count": 6,
   "metadata": {},
   "outputs": [],
   "source": [
    "def simula_greve(thresholds):\n",
    "    \"\"\"\n",
    "    thresholds := array com os thresholds de todos os agentes\n",
    "    \n",
    "    Retorna um np.array \"resposta\" com duas entradas:\n",
    "        resposta[0] := um array com a evolução da greve ao longo do tempo\n",
    "        resposta[1] := tamanho final da greve\n",
    "    \n",
    "    \"\"\"\n",
    "    \n",
    "    tamanho_da_greve = 0\n",
    "    progressao = np.array([0])    # array que acumula a evolução temporal da greve\n",
    "    aux = 0\n",
    "    \n",
    "    while True:\n",
    "        for i in range(len(thresholds)):\n",
    "            if thresholds[i] <= tamanho_da_greve: # verifica os thresholds de todas os agentes e conta quantos entram para a greve\n",
    "                aux += 1\n",
    "        progressao = np.append(progressao, aux)\n",
    "        if tamanho_da_greve == aux:   # caso o tamanho da greve não mude de um passo temporal para outro ela está estável\n",
    "            break\n",
    "        tamanho_da_greve = aux\n",
    "        aux = 0\n",
    "    return [progressao, tamanho_da_greve]"
   ]
  },
  {
   "cell_type": "markdown",
   "metadata": {},
   "source": [
    "Plot da evolução de uma greve"
   ]
  },
  {
   "cell_type": "code",
   "execution_count": 7,
   "metadata": {},
   "outputs": [
    {
     "name": "stdout",
     "output_type": "stream",
     "text": [
      "100\n"
     ]
    },
    {
     "data": {
      "image/png": "[encoded data removed]",
      "text/plain": [
       "<Figure size 432x288 with 1 Axes>"
      ]
     },
     "metadata": {
      "needs_background": "light"
     },
     "output_type": "display_data"
    }
   ],
   "source": [
    "N = 100            # número de agentes\n",
    "a = True           # thresholds negativos se tornam 0\n",
    "media = 20         # média da distribuição normal\n",
    "desvio_padrao = 10 # desvio padrão da distribuição normal\n",
    "\n",
    "thresholds = np.array([])\n",
    "thresholds = cria_thresholds(N,a,media,desvio_padrao)\n",
    "greve = simula_greve(thresholds)\n",
    "evolucao = greve[0]\n",
    "tamanho = greve[1]\n",
    "\n",
    "print(tamanho)\n",
    "plt.figure()\n",
    "plt.plot(evolucao)\n",
    "plt.show()"
   ]
  },
  {
   "cell_type": "markdown",
   "metadata": {},
   "source": [
    "Média do tamanho das greves para certos dados iniciais"
   ]
  },
  {
   "cell_type": "code",
   "execution_count": 20,
   "metadata": {},
   "outputs": [
    {
     "name": "stdout",
     "output_type": "stream",
     "text": [
      "100.00%\n"
     ]
    },
    {
     "data": {
      "image/png": "[encoded data removed]",
      "text/plain": [
       "<Figure size 432x288 with 1 Axes>"
      ]
     },
     "metadata": {
      "needs_background": "light"
     },
     "output_type": "display_data"
    }
   ],
   "source": [
    "N = 100            # número de agentes\n",
    "a = True           # thresholds negativos se tornam 0\n",
    "media = 25         # média da distribuição normal\n",
    "\n",
    "desvios_padroes = np.arange(0,81,0.25) # desvios padrões da distribuição normal (de 0 até 80.75 de 0.25 em 0.25)\n",
    "simulacoes = 1000                 # número de simulações por valor de desvio padrão\n",
    "medias = np.array([])\n",
    "\n",
    "thresholds = np.array([])\n",
    "\n",
    "for i in desvios_padroes:         # um conjunto de simulações por valor de desvio padrão\n",
    "    media_tamanhos = 0\n",
    "    clear_output(wait=True)\n",
    "    print(str(\"%.2f\" % ((i/80.75)*100)+\"%\"), end=\"\\n\")\n",
    "    \n",
    "    for j in range(simulacoes):   # simulação de uma greve\n",
    "        thresholds = cria_thresholds(N,a,media,int(i))\n",
    "        greve = simula_greve(thresholds)\n",
    "        tamanho = greve[1]\n",
    "        media_tamanhos += tamanho\n",
    "    \n",
    "    media_tamanhos = media_tamanhos/simulacoes\n",
    "    medias = np.append(medias, media_tamanhos)\n",
    "\n",
    "plt.figure()\n",
    "plt.plot(desvios_padroes,medias)\n",
    "plt.show()"
   ]
  },
  {
   "cell_type": "code",
   "execution_count": 21,
   "metadata": {},
   "outputs": [
    {
     "name": "stdout",
     "output_type": "stream",
     "text": [
      "100.00%\n"
     ]
    },
    {
     "data": {
      "image/png": "[encoded data removed]",
      "text/plain": [
       "<Figure size 432x288 with 1 Axes>"
      ]
     },
     "metadata": {
      "needs_background": "light"
     },
     "output_type": "display_data"
    }
   ],
   "source": [
    "N = 100            # número de agentes\n",
    "a = True           # thresholds negativos se tornam 0\n",
    "media = 25         # média da distribuição normal\n",
    "\n",
    "desvios_padroes = np.arange(0,81) # desvios padrões da distribuição normal (de 0 até 80 de 1 em 1)\n",
    "simulacoes = 1000                 # número de simulações por valor de desvio padrão\n",
    "medias = np.array([])\n",
    "\n",
    "thresholds = np.array([])\n",
    "\n",
    "for i in desvios_padroes:         # um conjunto de simulações por valor de desvio padrão\n",
    "    media_tamanhos = 0\n",
    "    clear_output(wait=True)\n",
    "    print(str(\"%.2f\" % ((i/80)*100)+\"%\"), end=\"\\n\")\n",
    "    \n",
    "    for j in range(simulacoes):   # simulação de uma greve\n",
    "        thresholds = cria_thresholds(N,a,media,int(i))\n",
    "        greve = simula_greve(thresholds)\n",
    "        tamanho = greve[1]\n",
    "        media_tamanhos += tamanho\n",
    "    \n",
    "    media_tamanhos = media_tamanhos/simulacoes\n",
    "    medias = np.append(medias, media_tamanhos)\n",
    "\n",
    "plt.figure()\n",
    "plt.plot(desvios_padroes,medias)\n",
    "plt.show()"
   ]
  },
  {
   "cell_type": "code",
   "execution_count": null,
   "metadata": {},
   "outputs": [],
   "source": []
  }
 ],
 "metadata": {
  "kernelspec": {
   "display_name": "Python 3",
   "language": "python",
   "name": "python3"
  },
  "language_info": {
   "codemirror_mode": {
    "name": "ipython",
    "version": 3
   },
   "file_extension": ".py",
   "mimetype": "text/x-python",
   "name": "python",
   "nbconvert_exporter": "python",
   "pygments_lexer": "ipython3",
   "version": "3.7.4"
  }
 },
 "nbformat": 4,
 "nbformat_minor": 4
}
