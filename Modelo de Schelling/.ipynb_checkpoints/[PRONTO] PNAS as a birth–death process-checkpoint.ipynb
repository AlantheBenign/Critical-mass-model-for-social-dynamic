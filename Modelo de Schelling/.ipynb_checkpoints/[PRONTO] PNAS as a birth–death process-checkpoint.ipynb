{
 "cells": [
  {
   "cell_type": "markdown",
   "id": "c012a319-1713-434a-a0e4-55f724f479e4",
   "metadata": {},
   "source": [
    "### Libraries used"
   ]
  },
  {
   "cell_type": "code",
   "execution_count": 94,
   "id": "480e05ee-1e2b-4553-b5bd-5bf1f3788307",
   "metadata": {},
   "outputs": [],
   "source": [
    "import numpy as np\n",
    "import matplotlib.pyplot as plt\n",
    "from scipy import linalg as LA"
   ]
  },
  {
   "cell_type": "markdown",
   "id": "f7447ac8-6bda-43e9-900c-f0fd9e8e4072",
   "metadata": {
    "tags": []
   },
   "source": [
    "### Functions and constants"
   ]
  },
  {
   "cell_type": "code",
   "execution_count": 203,
   "id": "f7e3abcf-4e9c-4e2c-9f4f-85cf40eb72f4",
   "metadata": {},
   "outputs": [],
   "source": [
    "global T, m\n",
    "T = 0\n",
    "m = 0.5"
   ]
  },
  {
   "cell_type": "code",
   "execution_count": 212,
   "id": "b9e1ed37-87eb-4c4c-88bc-cc5d5600fc82",
   "metadata": {},
   "outputs": [],
   "source": [
    "def utility(N, H):\n",
    "    pho = N/H\n",
    "    if(pho <= 0.5):\n",
    "        res = 2*pho\n",
    "    else:\n",
    "        res = 2*(m-1)*pho + (2 - m)\n",
    "    return res"
   ]
  },
  {
   "cell_type": "code",
   "execution_count": 218,
   "id": "996aa13d-91e7-4e06-9e66-2434f0d1a9eb",
   "metadata": {},
   "outputs": [],
   "source": [
    "def compute_gain(N_1, N_2, H, case):\n",
    "    if(case == 'minus'):\n",
    "        agent_utility = utility(N_1, H)\n",
    "        new_agent_utility = utility(N_2 + 1, H)\n",
    "        delta_agent_utility = new_agent_utility - agent_utility\n",
    "    elif(case == 'plus'):\n",
    "        agent_utility = utility(N_2, H)\n",
    "        new_agent_utility = utility(N_1 + 1, H)\n",
    "        delta_agent_utility = new_agent_utility - agent_utility\n",
    "        \n",
    "    return delta_agent_utility"
   ]
  },
  {
   "cell_type": "code",
   "execution_count": 219,
   "id": "511e1d60-63cb-436a-a611-7bcd6caf5b54",
   "metadata": {},
   "outputs": [],
   "source": [
    "def probability(N_1, N_2, H, case):\n",
    "    gain = compute_gain(N_1, N_2, H, case)\n",
    "    \n",
    "    if(T == 0):\n",
    "        if gain < 0:\n",
    "            prob = 0\n",
    "        elif gain > 0:\n",
    "            prob = 1\n",
    "        else:\n",
    "            prob = 0.5\n",
    "            \n",
    "    else:\n",
    "        exp = np.exp(-gain/T)\n",
    "        prob = 1/(1+exp)\n",
    "        \n",
    "    return prob"
   ]
  },
  {
   "cell_type": "code",
   "execution_count": 220,
   "id": "247bbb8b-9d66-42ab-b95b-016900265731",
   "metadata": {},
   "outputs": [],
   "source": [
    "def create_matrix(N, H):\n",
    "    M = np.zeros((N+1, N+1))\n",
    "    \n",
    "    if N/(2*H) >= 0.5:\n",
    "        i_min = N - H\n",
    "        i_max = H\n",
    "    else:\n",
    "        i_min = 0\n",
    "        i_max = N\n",
    "    \n",
    "    for i in range(i_min, i_max+1):\n",
    "        M_i_plus  = ((N-i) * (H-i))/(H*H) * probability(i, N - i, H, 'plus')\n",
    "        M_i_minus = (i * (H-N+i))/(H*H) * probability(i, N - i, H, 'minus')\n",
    "        M_i_i = 1 - M_i_plus - M_i_minus\n",
    "        \n",
    "        if(i == i_min):\n",
    "            M[i,i] = M_i_i\n",
    "            M[i, i+1] = M_i_plus\n",
    "        \n",
    "        elif(i == i_max):\n",
    "            M[i,i] = M_i_i\n",
    "            M[i, i-1] = M_i_minus\n",
    "            \n",
    "        else:\n",
    "            M[i,i] = M_i_i\n",
    "            M[i, i-1] = M_i_minus\n",
    "            M[i, i+1] = M_i_plus\n",
    "        \n",
    "    return M"
   ]
  },
  {
   "cell_type": "code",
   "execution_count": 221,
   "id": "4d9c1216-f878-40f7-8371-772541774d59",
   "metadata": {},
   "outputs": [],
   "source": [
    "def initial_vector(i_min, i_max, N):\n",
    "    array = np.zeros(i_max - i_min + 1)\n",
    "    array[N - i_min] = 1\n",
    "    return array"
   ]
  },
  {
   "cell_type": "markdown",
   "id": "2040da65-28c8-4f5d-879f-ed9f20aefa32",
   "metadata": {
    "tags": []
   },
   "source": [
    "### Analysis"
   ]
  },
  {
   "cell_type": "markdown",
   "id": "a7e87beb-cc44-440a-ab3d-38ea5365a92f",
   "metadata": {},
   "source": [
    "This code calculates the evolution of the number of agents in a block in a 2-blocks city system treating it as a birth-death process using linear algebra."
   ]
  },
  {
   "cell_type": "code",
   "execution_count": 265,
   "id": "e96e6188-b208-4a18-a44b-a9ae74a67739",
   "metadata": {},
   "outputs": [
    {
     "name": "stdout",
     "output_type": "stream",
     "text": [
      "[1. 0. 0. 0. 0. 0. 0. 0. 0. 0. 0. 0. 0. 0. 0. 0. 0. 0. 0. 0. 0. 0. 0. 0.\n",
      " 0. 0. 0. 0. 0. 0.]\n",
      "[0. 0. 0. 0. 0. 0. 0. 0. 0. 0. 0. 0. 0. 0. 0. 0. 0. 0. 0. 0. 0. 0. 0. 0.\n",
      " 0. 0. 0. 0. 0. 1.]\n",
      "if close to 1 the final state is statiscally possible: 0.9999999999999861\n"
     ]
    },
    {
     "data": {
      "image/png": "[encoded data removed]",
      "text/plain": [
       "<Figure size 640x480 with 1 Axes>"
      ]
     },
     "metadata": {},
     "output_type": "display_data"
    },
    {
     "data": {
      "image/png": "[encoded data removed]",
      "text/plain": [
       "<Figure size 640x480 with 1 Axes>"
      ]
     },
     "metadata": {},
     "output_type": "display_data"
    }
   ],
   "source": [
    "# total number of agents\n",
    "N = 29\n",
    "# maximum number of agents per block\n",
    "H = 30\n",
    "\n",
    "# minimum and maximum number of agents in a block\n",
    "\n",
    "# if total density is greater then 0.5\n",
    "if N/(2*H) >= 0.5:\n",
    "    i_min = N - H\n",
    "    i_max = H\n",
    "\n",
    "# if total density is less then 0.5\n",
    "else:\n",
    "    i_min = 0\n",
    "    i_max = N\n",
    "\n",
    "# creates the birth-death process matrix\n",
    "M = create_matrix(N, H)\n",
    "# actually we need the transpose to do the calculations\n",
    "M = np.transpose(M)\n",
    "\n",
    "# eigenvectors\n",
    "eigenvalues, eigenvectors = np.linalg.eig(M)\n",
    "    \n",
    "eigenvectors_inv = LA.inv(eigenvectors)\n",
    "\n",
    "error = 0.000\n",
    "for i in range(len(eigenvalues)):\n",
    "    if abs(eigenvalues[i] - 1) <= error and all(value >= 0 for value in eigenvectors[:,i]):\n",
    "        print(eigenvectors[:,i])\n",
    "\n",
    "\n",
    "\"\"\"\n",
    "# being V the vector representing the probability of a block have N_t agents (between i_min and i_max) and M the matrix of the birth-death process,\n",
    "# which evolves the system over time, so we want to find the vector V_equi that doesn't change when M is applied in it: M * V_equi = V_equi. So\n",
    "# V_equi is the eigenvector of M with eigenvalue 1.\n",
    "eigenvalues, eigenvectors = LA.eig(M, left = True, right = False)\n",
    "\n",
    "eigenvalues = eigenvalues.real\n",
    "eigenvectors = eigenvectors.real\n",
    "        \n",
    "eigenvectors_inverse = LA.inv(eigenvectors)\n",
    "\n",
    "D = np.diag(eigenvalues)\n",
    "\n",
    "# num tests how good is our calculations of the eigenvectors_inverse\n",
    "num = LA.norm(np.matmul(eigenvectors, eigenvectors_inverse) - np.identity(len(eigenvalues)))\n",
    "print(f\"\\n How good is eigenvectros_inverse (the closer to 0 the better): {num}\")\n",
    "\"\"\"\n",
    "\n",
    "# P is the initial vector. It represents the initial state of our system, for example, a block with initial_number_of_agents agents.\n",
    "# So it is a vector with i_max - i_min + 1 spaces (a block can have from i_min up to i_max agents) with value 0, but the\n",
    "# P[initial_number_of_agents] = 1, which represents the inital condition\n",
    "initial_number_of_agents = 15\n",
    "\n",
    "P = initial_vector(i_min, i_max, initial_number_of_agents)\n",
    "\n",
    "# direct multiplication\n",
    "a = np.matmul(M,P)\n",
    "\n",
    "steps = 5000\n",
    "for i in range(steps):\n",
    "    a = np.matmul(M,a)\n",
    "\n",
    "# checks if the final state has sum 1 of all values (statistically possible)\n",
    "summ = 0\n",
    "for value in a:\n",
    "    summ += value\n",
    "print(f\"if close to 1 the final state is statiscally possible: {summ}\")\n",
    "\n",
    "# here we calculate the time evolution of the system, we apply the M matrix time_steps times in the P\n",
    "\"\"\"\n",
    "a = np.matmul(eigenvectors_inverse,P)\n",
    "time_steps = 1000\n",
    "D_k = np.diag(np.array([x**time_steps for x in eigenvalues]))\n",
    "\n",
    "a = np.matmul(D_k,a)\n",
    "    \n",
    "a = np.matmul(eigenvectors, a)\n",
    "sum = 0\n",
    "for value in a:\n",
    "    sum += value\n",
    "\n",
    "print(sum)\n",
    "\"\"\"\n",
    "plt.figure()\n",
    "plt.plot(P)\n",
    "plt.show()\n",
    "\n",
    "plt.figure()\n",
    "plt.plot(a)\n",
    "plt.show()"
   ]
  },
  {
   "cell_type": "code",
   "execution_count": null,
   "id": "50461b53-4646-4680-94ee-ce2874abc9f7",
   "metadata": {},
   "outputs": [],
   "source": []
  }
 ],
 "metadata": {
  "kernelspec": {
   "display_name": "Python 3 (ipykernel)",
   "language": "python",
   "name": "python3"
  },
  "language_info": {
   "codemirror_mode": {
    "name": "ipython",
    "version": 3
   },
   "file_extension": ".py",
   "mimetype": "text/x-python",
   "name": "python",
   "nbconvert_exporter": "python",
   "pygments_lexer": "ipython3",
   "version": "3.12.0"
  }
 },
 "nbformat": 4,
 "nbformat_minor": 5
}
