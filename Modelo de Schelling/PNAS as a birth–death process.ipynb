{
 "cells": [
  {
   "cell_type": "markdown",
   "id": "c012a319-1713-434a-a0e4-55f724f479e4",
   "metadata": {},
   "source": [
    "### Libraries used"
   ]
  },
  {
   "cell_type": "code",
   "execution_count": 147,
   "id": "480e05ee-1e2b-4553-b5bd-5bf1f3788307",
   "metadata": {},
   "outputs": [],
   "source": [
    "import numpy as np\n",
    "import matplotlib.pyplot as plt\n",
    "from numpy import linalg as LA"
   ]
  },
  {
   "cell_type": "markdown",
   "id": "f7447ac8-6bda-43e9-900c-f0fd9e8e4072",
   "metadata": {
    "tags": []
   },
   "source": [
    "### Functions and constants"
   ]
  },
  {
   "cell_type": "code",
   "execution_count": 213,
   "id": "f7e3abcf-4e9c-4e2c-9f4f-85cf40eb72f4",
   "metadata": {},
   "outputs": [],
   "source": [
    "global alpha, T, m, n, H, Q, Z\n",
    "n = 10\n",
    "H = n*n\n",
    "alpha = 0\n",
    "T = 0\n",
    "m = 0.5"
   ]
  },
  {
   "cell_type": "code",
   "execution_count": 14,
   "id": "b9e1ed37-87eb-4c4c-88bc-cc5d5600fc82",
   "metadata": {},
   "outputs": [],
   "source": [
    "def utility(N):\n",
    "    pho = N/H\n",
    "    if(pho <= 0.5):\n",
    "        res = 2*pho\n",
    "    else:\n",
    "        res = 2*(m-1)*pho + (2 - m)\n",
    "    return res"
   ]
  },
  {
   "cell_type": "code",
   "execution_count": 58,
   "id": "996aa13d-91e7-4e06-9e66-2434f0d1a9eb",
   "metadata": {},
   "outputs": [],
   "source": [
    "def compute_gain(N_1, N_2, case):\n",
    "    if(case == 'minus'):\n",
    "        agent_utility = utility(N_1)\n",
    "        new_agent_utility = utility(N_2 + 1)\n",
    "        delta_agent_utility = new_agent_utility - agent_utility\n",
    "    elif(case == 'plus'):\n",
    "        agent_utility = utility(N_2)\n",
    "        new_agent_utility = utility(N_1 + 1)\n",
    "        delta_agent_utility = new_agent_utility - agent_utility\n",
    "        \n",
    "    return delta_agent_utility"
   ]
  },
  {
   "cell_type": "code",
   "execution_count": 59,
   "id": "511e1d60-63cb-436a-a611-7bcd6caf5b54",
   "metadata": {},
   "outputs": [],
   "source": [
    "def probability(N_1, N_2, case):\n",
    "    \n",
    "    gain = compute_gain(N_1, N_2, case)\n",
    "    \n",
    "    if(T == 0):\n",
    "        if gain < 0:\n",
    "            prob = 0\n",
    "        elif gain > 0:\n",
    "            prob = 1\n",
    "        else:\n",
    "            prob = 0.5\n",
    "            \n",
    "    else:\n",
    "        exp = np.exp(-gain/T)\n",
    "        prob = 1/(1+exp)\n",
    "        \n",
    "    return prob"
   ]
  },
  {
   "cell_type": "code",
   "execution_count": 63,
   "id": "247bbb8b-9d66-42ab-b95b-016900265731",
   "metadata": {},
   "outputs": [],
   "source": [
    "def create_matrix(N):\n",
    "    M = np.zeros((N+1, N+1))\n",
    "    \n",
    "    if N/(2*H) >= 0.5:\n",
    "        i_min = N - H\n",
    "        i_max = H\n",
    "    else:\n",
    "        i_min = 0\n",
    "        i_max = N\n",
    "    \n",
    "    for i in range(i_min, i_max+1):\n",
    "        M_i_plus  = ((N-i) * (H-i))/(H*H) * probability(i, N - i, 'plus')\n",
    "        M_i_minus = (i * (H-N+i))/(H*H) * probability(i, N - i, 'minus')\n",
    "        M_i_i = 1 - M_i_plus - M_i_minus\n",
    "        \n",
    "        if(i == i_min):\n",
    "            M[i,i] = M_i_i\n",
    "            M[i, i+1] = M_i_plus\n",
    "        \n",
    "        elif(i == i_max):\n",
    "            M[i,i] = M_i_i\n",
    "            M[i, i-1] = M_i_minus\n",
    "            \n",
    "        else:\n",
    "            M[i,i] = M_i_i\n",
    "            M[i, i-1] = M_i_minus\n",
    "            M[i, i+1] = M_i_plus\n",
    "        \n",
    "    return M"
   ]
  },
  {
   "cell_type": "code",
   "execution_count": 161,
   "id": "4d9c1216-f878-40f7-8371-772541774d59",
   "metadata": {},
   "outputs": [],
   "source": [
    "def initial_vector(i_min, i_max, N):\n",
    "    array = np.zeros(i_max - i_min + 1)\n",
    "    array[N - i_min] = 1\n",
    "    return array"
   ]
  },
  {
   "cell_type": "markdown",
   "id": "2040da65-28c8-4f5d-879f-ed9f20aefa32",
   "metadata": {
    "tags": []
   },
   "source": [
    "### Analysis"
   ]
  },
  {
   "cell_type": "code",
   "execution_count": 264,
   "id": "e96e6188-b208-4a18-a44b-a9ae74a67739",
   "metadata": {},
   "outputs": [
    {
     "name": "stdout",
     "output_type": "stream",
     "text": [
      "200 100 0.5\n",
      "\n",
      "0.003415879689515239\n",
      "[0. 0. 0. 0. 0. 0. 0. 0. 0. 0. 0. 0. 0. 0. 0. 0. 0. 0. 0. 0. 0. 0. 0. 0.\n",
      " 0. 0. 0. 0. 0. 0. 0. 0. 0. 0. 0. 0. 0. 0. 0. 0. 0. 0. 0. 0. 0. 0. 0. 0.\n",
      " 0. 0. 0. 0. 0. 0. 0. 0. 0. 0. 0. 0. 0. 0. 0. 0. 0. 0. 0. 0. 0. 0. 0. 0.\n",
      " 0. 0. 0. 0. 0. 0. 0. 0. 0. 0. 0. 0. 0. 0. 0. 0. 0. 0. 0. 0. 0. 0. 0. 0.\n",
      " 0. 0. 0. 0. 1.]\n",
      "1.0\n",
      "1.0000495255929682\n",
      "[ 0.00000000e+00  0.00000000e+00  0.00000000e+00  0.00000000e+00\n",
      "  0.00000000e+00  0.00000000e+00  0.00000000e+00  0.00000000e+00\n",
      "  0.00000000e+00  0.00000000e+00  0.00000000e+00  0.00000000e+00\n",
      "  0.00000000e+00  0.00000000e+00  0.00000000e+00  0.00000000e+00\n",
      "  0.00000000e+00  0.00000000e+00  0.00000000e+00  0.00000000e+00\n",
      "  0.00000000e+00  0.00000000e+00  0.00000000e+00  0.00000000e+00\n",
      "  0.00000000e+00  0.00000000e+00  0.00000000e+00  0.00000000e+00\n",
      "  0.00000000e+00  0.00000000e+00  0.00000000e+00  0.00000000e+00\n",
      "  0.00000000e+00  0.00000000e+00  0.00000000e+00  0.00000000e+00\n",
      "  0.00000000e+00  0.00000000e+00  0.00000000e+00  0.00000000e+00\n",
      "  0.00000000e+00  0.00000000e+00  0.00000000e+00  0.00000000e+00\n",
      "  0.00000000e+00  0.00000000e+00  0.00000000e+00  0.00000000e+00\n",
      "  0.00000000e+00  0.00000000e+00  0.00000000e+00  1.94289029e-16\n",
      "  4.44089210e-16  8.88178420e-16  6.66133815e-16  2.22044605e-16\n",
      "  2.22044605e-16  2.22044605e-16  0.00000000e+00  4.44089210e-16\n",
      "  6.66133815e-16  4.44089210e-16  6.66133815e-16  1.11022302e-15\n",
      "  1.33226763e-15  1.11022302e-15  1.11022302e-15  1.33226763e-15\n",
      "  2.22044605e-16  8.88178420e-16  8.88178420e-16  1.11022302e-15\n",
      "  2.22044605e-16  8.88178420e-16  2.22044605e-16  1.11022302e-15\n",
      "  6.66133815e-16  6.66133815e-16  2.22044605e-16  2.22044605e-16\n",
      "  4.44089210e-16  0.00000000e+00 -2.22044605e-16  0.00000000e+00\n",
      "  4.44089210e-16  2.22044605e-16  2.22044605e-16  4.44089210e-16\n",
      "  6.66133815e-16  1.55431223e-15  1.68753900e-14  1.93955962e-13\n",
      "  2.46014320e-12  3.45953266e-11  5.47298207e-10  9.94184401e-09\n",
      "  2.13273047e-07  5.62749479e-06  1.94798684e-04  9.95066131e-03\n",
      "  1.00000000e+00]\n"
     ]
    },
    {
     "data": {
      "image/png": "[encoded data removed]",
      "text/plain": [
       "<Figure size 640x480 with 1 Axes>"
      ]
     },
     "metadata": {},
     "output_type": "display_data"
    },
    {
     "data": {
      "image/png": "[encoded data removed]",
      "text/plain": [
       "<Figure size 640x480 with 1 Axes>"
      ]
     },
     "metadata": {},
     "output_type": "display_data"
    },
    {
     "data": {
      "text/plain": [
       "'\\nfor j in collection:\\n    print(eigenvectors[:,j], end=\"\\n\\n\")\\n'"
      ]
     },
     "execution_count": 264,
     "metadata": {},
     "output_type": "execute_result"
    }
   ],
   "source": [
    "N = 100\n",
    "\n",
    "if N/(2*H) >= 0.5:\n",
    "    i_min = N - H\n",
    "    i_max = H\n",
    "else:\n",
    "    i_min = 0\n",
    "    i_max = N\n",
    "\n",
    "M = create_matrix(N)\n",
    "print(2*H,N, N/(2*H), end=\"\\n\\n\")\n",
    "\n",
    "eigenvalues, eigenvectors = LA.eig(M)\n",
    "eigenvectors_inverse = LA.inv(eigenvectors)\n",
    "\n",
    "D = np.diag(eigenvalues)\n",
    "\n",
    "num = LA.norm(np.matmul(eigenvectors, eigenvectors_inverse) - np.identity(len(eigenvalues)))\n",
    "print(num)\n",
    "\n",
    "P = initial_vector(i_min, i_max, 100)\n",
    "print(P)\n",
    "print(LA.norm(P))\n",
    "\n",
    "a = np.matmul(eigenvectors_inverse,P)\n",
    "\n",
    "k = 100\n",
    "D_k = np.diag(np.array([x**k for x in eigenvalues]))\n",
    "\n",
    "a = np.matmul(D_k,a)\n",
    "    \n",
    "a = np.matmul(eigenvectors, a)\n",
    "print(LA.norm(a))\n",
    "print(a)\n",
    "\n",
    "plt.figure()\n",
    "plt.plot(P)\n",
    "plt.show()\n",
    "\n",
    "plt.figure()\n",
    "plt.plot(a)\n",
    "plt.show()\n",
    "\n",
    "        \n",
    "\"\"\"\n",
    "for j in collection:\n",
    "    print(eigenvectors[:,j], end=\"\\n\\n\")\n",
    "\"\"\""
   ]
  },
  {
   "cell_type": "code",
   "execution_count": 233,
   "id": "9a8d911a-a472-40ce-b6ff-8c8e7c1eb3f1",
   "metadata": {},
   "outputs": [
    {
     "name": "stdout",
     "output_type": "stream",
     "text": [
      "[[-1.          0.5         0.        ]\n",
      " [-2.5         0.5         0.5       ]\n",
      " [ 2.33333333 -0.5        -0.33333333]]\n"
     ]
    }
   ],
   "source": [
    "matriz_a = [[1, 2, 3],\n",
    "            [4, 4, 6],\n",
    "            [1, 8, 9]]\n",
    "\n",
    "matriz_a_inv = LA.inv(matriz_a)\n",
    "print(matriz_a_inv)"
   ]
  },
  {
   "cell_type": "code",
   "execution_count": 229,
   "id": "28309cde-f89e-4771-8da1-03be7e4f77db",
   "metadata": {},
   "outputs": [
    {
     "data": {
      "text/plain": [
       "array([[ 58,  64],\n",
       "       [139, 154]])"
      ]
     },
     "execution_count": 229,
     "metadata": {},
     "output_type": "execute_result"
    }
   ],
   "source": [
    "resultado"
   ]
  },
  {
   "cell_type": "code",
   "execution_count": null,
   "id": "e38a7554-b3e8-4ca5-8b9c-c71c45606644",
   "metadata": {},
   "outputs": [],
   "source": []
  }
 ],
 "metadata": {
  "kernelspec": {
   "display_name": "Python 3 (ipykernel)",
   "language": "python",
   "name": "python3"
  },
  "language_info": {
   "codemirror_mode": {
    "name": "ipython",
    "version": 3
   },
   "file_extension": ".py",
   "mimetype": "text/x-python",
   "name": "python",
   "nbconvert_exporter": "python",
   "pygments_lexer": "ipython3",
   "version": "3.10.9"
  }
 },
 "nbformat": 4,
 "nbformat_minor": 5
}
