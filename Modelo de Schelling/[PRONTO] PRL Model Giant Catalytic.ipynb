{
 "cells": [
  {
   "cell_type": "markdown",
   "id": "ddc7ccf5-f391-4f0d-9092-a72c240954ac",
   "metadata": {},
   "source": [
    "#### LIBRARIES USED"
   ]
  },
  {
   "cell_type": "code",
   "execution_count": 8,
   "id": "ae93d065-0b60-48e9-99d3-de67a995d00a",
   "metadata": {},
   "outputs": [],
   "source": [
    "import numba\n",
    "from numba import njit\n",
    "import numpy as np\n",
    "import matplotlib.pyplot as plt\n",
    "import random as rd\n",
    "from matplotlib import colors\n",
    "from IPython import display\n",
    "import time\n",
    "from scipy.signal import convolve2d"
   ]
  },
  {
   "cell_type": "markdown",
   "id": "e37f4809-2757-4941-ac06-80cffadf1850",
   "metadata": {},
   "source": [
    "#### SEGREGATION MODEL"
   ]
  },
  {
   "cell_type": "markdown",
   "id": "829b13e5-7607-43dd-8b45-39a418a2d369",
   "metadata": {},
   "source": [
    "The model describes the evolution of an population in a city, that is divided in Q blocks with H sites each. Each site can be occupied by 0 or 1 agent. The agents move around the city according to some rule, for example, maximize its utility."
   ]
  },
  {
   "cell_type": "markdown",
   "id": "61c0bbfc-823d-4562-bb9f-1ab9737a67ec",
   "metadata": {},
   "source": [
    "#### FUNCTIONS'S DEFINITIONS"
   ]
  },
  {
   "cell_type": "code",
   "execution_count": 9,
   "id": "5bf17557-8e02-40d6-b93f-1e8fac1c29e0",
   "metadata": {},
   "outputs": [],
   "source": [
    "vacancy_value = 0\n",
    "altruist_value = 1\n",
    "egoist_value = 2"
   ]
  },
  {
   "cell_type": "code",
   "execution_count": 10,
   "id": "82c85bc2-0cf2-48c6-b8d8-2a4392a0598e",
   "metadata": {},
   "outputs": [],
   "source": [
    "def plot_grid(agents, n):\n",
    "    # creates a discrete colormap\n",
    "    vacancy = np.array([147.0/255, 148.0/255, 150.0/255])     # grey\n",
    "    yellow =  np.array([247.0/255, 247.0/255, 0.0/255])       # yellow\n",
    "    red = np.array([255.0/255, 0.0/255, 0.0/255])             # red\n",
    "    cmap = colors.ListedColormap([vacancy, yellow, red])\n",
    "    # determines the limits of each color:\n",
    "    bounds = [vacancy_value, altruist_value, egoist_value, egoist_value + 1]            \n",
    "    norm = colors.BoundaryNorm(bounds, cmap.N)\n",
    "\n",
    "    size = 8\n",
    "    fig, ax = plt.subplots(figsize=(size,size))\n",
    "    ax.imshow(agents, cmap=cmap, norm=norm)\n",
    "\n",
    "    # draws gridlines\n",
    "    ax.grid(which='major', axis='both', linestyle='-', color='k', linewidth=2)\n",
    "    ax.set_xticks(np.arange(-0.5, agents.shape[1], n));\n",
    "    ax.set_yticks(np.arange(-0.5, agents.shape[0], n));\n",
    "\n",
    "    plt.show()"
   ]
  },
  {
   "cell_type": "code",
   "execution_count": 11,
   "id": "7aa17bcc-4182-455f-bec3-4628323186d4",
   "metadata": {},
   "outputs": [],
   "source": [
    "def create_city(n, q, altruist_densiy, egoist_density):\n",
    "    vacancy_array = np.array([[-1,-1,-1]])\n",
    "    agent_array   = np.array([[-1,-1,-1, -1]])\n",
    "    density_array = np.full(q*q,0.0)\n",
    "    city_side = n*q\n",
    "    \n",
    "    # creates a city without borders, that will be a toroidal grid\n",
    "    city = np.full((city_side,city_side), vacancy_value)\n",
    "    altruists = 0\n",
    "    egoists = 0\n",
    "    \n",
    "    for code in range(q*q):\n",
    "        block_x = int((code%q) * n)\n",
    "        block_y = int(np.floor(code/q) * n)\n",
    "        \n",
    "        agents_in_block = 0.0\n",
    "        \n",
    "        for di in range(0,n):\n",
    "            for dj in range(0,n):\n",
    "                i = block_y + di\n",
    "                j = block_x + dj\n",
    "                rnd = np.random.random()\n",
    "                if rnd <= altruist_densiy:\n",
    "                    city[i,j] = altruist_value\n",
    "                    agents_in_block += 1\n",
    "                    altruists += 1\n",
    "                    agent_array = np.append(agent_array, [[code, i, j, altruist_value]], axis=0)\n",
    "                elif altruist_densiy < rnd <= altruist_densiy + egoist_density:\n",
    "                    city[i,j] = egoist_value\n",
    "                    agents_in_block += 1\n",
    "                    egoists += 1\n",
    "                    agent_array = np.append(agent_array, [[code, i, j, egoist_value]], axis=0)\n",
    "                else:\n",
    "                    vacancy_array = np.append(vacancy_array, [[code, i, j]], axis=0)\n",
    "        \n",
    "        block_density = agents_in_block/(n*n)\n",
    "        density_array[code] = block_density \n",
    "\n",
    "    vacancy_array = np.delete(vacancy_array, 0,0)\n",
    "    agent_array = np.delete(agent_array, 0,0)\n",
    "    \n",
    "    return city, vacancy_array, agent_array, density_array, altruists, egoists"
   ]
  },
  {
   "cell_type": "code",
   "execution_count": 12,
   "id": "15ea34cd-0676-44c8-adef-22281d0e9696",
   "metadata": {},
   "outputs": [],
   "source": [
    "def utility_function(pho):\n",
    "    if(pho <= 0.5):\n",
    "        utility = 2*pho\n",
    "    else:\n",
    "        utility = 2*(1 - pho)\n",
    "    \n",
    "    return utility"
   ]
  },
  {
   "cell_type": "code",
   "execution_count": 13,
   "id": "d9f43913-0c41-451d-aaa9-174d50c83a35",
   "metadata": {},
   "outputs": [],
   "source": [
    "def detect_utility(agent_array, num, density_array):\n",
    "    #check agent utility\n",
    "    code = agent_array[num,0]\n",
    "    pho = density_array[code]\n",
    "    utility = utility_function(pho)\n",
    "\n",
    "    return utility"
   ]
  },
  {
   "cell_type": "code",
   "execution_count": 14,
   "id": "1e59a76d-9391-4308-bdb3-f815c1d6fce6",
   "metadata": {},
   "outputs": [],
   "source": [
    "def detect_city_utility(n, density_array): \n",
    "    #check city utility\n",
    "    city_utility = 0.0\n",
    "\n",
    "    for pho in density_array:\n",
    "        city_utility += utility_function(pho)*pho*n*n\n",
    "    \n",
    "    return city_utility"
   ]
  },
  {
   "cell_type": "code",
   "execution_count": 15,
   "id": "77ba91ab-9382-43af-a641-267b95d4527f",
   "metadata": {},
   "outputs": [],
   "source": [
    "def simulation_step(n, city, vacancy_array, agent_array, density_array, city_utility):\n",
    "    #we choose an agent and a vancant site in another block, it moves if its utility function increases.\n",
    "    change = False\n",
    "    rndV = np.random.randint(0, len(vacancy_array))\n",
    "    rndA = np.random.randint(0, len(agent_array))\n",
    "    codeV = vacancy_array[rndV,0] \n",
    "    codeA = agent_array[rndA,0]\n",
    "    phoV = density_array[codeV]\n",
    "    phoA = density_array[codeA]\n",
    "    \n",
    "    iV, jV = vacancy_array[rndV,1:3]\n",
    "    iA, jA = agent_array[rndA,1:3]\n",
    "    \n",
    "    #altruist movement condition\n",
    "    if(agent_array[rndA,3] == altruist_value):\n",
    "        density_array[codeV] += 1/(n*n)\n",
    "        density_array[codeA] -= 1/(n*n)\n",
    "        \n",
    "        new_city_utility = detect_city_utility(n, density_array)\n",
    "        \n",
    "        density_array[codeV] = phoV\n",
    "        density_array[codeA] = phoA\n",
    "        \n",
    "        if(new_city_utility > city_utility):\n",
    "            change = True\n",
    "    \n",
    "    #egoist movement condition\n",
    "    elif(agent_array[rndA,3] == egoist_value):\n",
    "        agent_utility = utility_function(phoA)\n",
    "        new_agent_utility = utility_function(phoV + 1/(n*n))\n",
    "        \n",
    "        if(new_agent_utility > agent_utility):\n",
    "            change = True\n",
    "    \n",
    "    \n",
    "    if(change):\n",
    "        #update system\n",
    "        \n",
    "        #update vacancy and agent arrays\n",
    "        vacancy_array[rndV] = [codeA,iA,jA]\n",
    "        agent_array[rndA,0:3] = [codeV,iV,jV]\n",
    "\n",
    "        #update city grid\n",
    "        city[iA,jA] = vacancy_value\n",
    "        city[iV,jV] = agent_array[rndA,3]\n",
    "        \n",
    "        #update density array\n",
    "        density_array[codeV] += 1/(n*n)\n",
    "        density_array[codeA] -= 1/(n*n)\n",
    "        \n",
    "        #update city_utility\n",
    "        city_utility = detect_city_utility(n, density_array)\n",
    "    \n",
    "    return city, vacancy_array, agent_array, density_array, city_utility"
   ]
  },
  {
   "cell_type": "markdown",
   "id": "c600305b-9114-4a11-81fb-e77ddd7553be",
   "metadata": {},
   "source": [
    "#### MODEL TESTING"
   ]
  },
  {
   "cell_type": "code",
   "execution_count": 17,
   "id": "61bad86f-f728-4133-b5da-73ef5c0e708a",
   "metadata": {},
   "outputs": [
    {
     "data": {
      "image/png": "[encoded data removed]",
      "text/plain": [
       "<Figure size 800x800 with 1 Axes>"
      ]
     },
     "metadata": {},
     "output_type": "display_data"
    }
   ],
   "source": [
    "n = 15\n",
    "q = 6\n",
    "agent_density = 0.4\n",
    "altruist_density = 0.03\n",
    "egoist_density = agent_density - altruist_density\n",
    "\n",
    "city, vacancy_array, agent_array, density_array, altruists, egoists = create_city(n, q, altruist_density, egoist_density)\n",
    "\n",
    "city_utility = detect_city_utility(n, density_array)\n",
    "\n",
    "steps = 100000\n",
    "passo = steps/50\n",
    "for a in range(steps):\n",
    "    city, vacancy_array, agent_array, density_array, city_utility = simulation_step(n, city, vacancy_array, agent_array, density_array, city_utility)\n",
    "    \n",
    "    if(a%passo == 0):\n",
    "        plot_grid(city, n)\n",
    "        time.sleep(0.1)\n",
    "        display.clear_output(wait=True)\n",
    "        \n",
    "plot_grid(city, n)"
   ]
  },
  {
   "cell_type": "code",
   "execution_count": null,
   "id": "6e6bc9b7-2f1f-48ab-b069-ec9fd95f380a",
   "metadata": {},
   "outputs": [],
   "source": []
  }
 ],
 "metadata": {
  "kernelspec": {
   "display_name": "Python 3 (ipykernel)",
   "language": "python",
   "name": "python3"
  },
  "language_info": {
   "codemirror_mode": {
    "name": "ipython",
    "version": 3
   },
   "file_extension": ".py",
   "mimetype": "text/x-python",
   "name": "python",
   "nbconvert_exporter": "python",
   "pygments_lexer": "ipython3",
   "version": "3.10.9"
  }
 },
 "nbformat": 4,
 "nbformat_minor": 5
}
