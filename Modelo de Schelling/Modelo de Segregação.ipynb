{
 "cells": [
  {
   "cell_type": "markdown",
   "metadata": {},
   "source": [
    "#### LIBRARIES USED"
   ]
  },
  {
   "cell_type": "code",
   "execution_count": 56,
   "metadata": {},
   "outputs": [],
   "source": [
    "import numba\n",
    "from numba import njit\n",
    "import numpy as np\n",
    "import matplotlib.pyplot as plt\n",
    "import random as rd\n",
    "from matplotlib import colors\n",
    "from IPython import display\n",
    "import time\n",
    "from scipy.signal import convolve2d"
   ]
  },
  {
   "cell_type": "code",
   "execution_count": 149,
   "metadata": {},
   "outputs": [],
   "source": [
    "border_value = -2.0\n",
    "vacancy_value = -1.0\n",
    "red_value = 0.0\n",
    "blue_value = 1.0\n",
    "unhappy_red_value = 2.0\n",
    "unhappy_blue_value = 3.0\n",
    "highlight_value = 4.0"
   ]
  },
  {
   "cell_type": "code",
   "execution_count": 150,
   "metadata": {},
   "outputs": [],
   "source": [
    "def plot_grid(agents):\n",
    "   \n",
    "    # creates a discrete colormap\n",
    "    border = np.array([0,0,0,0.8])                                  # black\n",
    "    vacancy = np.array([147.0/255, 148.0/255, 150.0/255])           # grey\n",
    "    red = np.array([255.0/255, 0.0/255, 0.0/255])             # red\n",
    "    blue = np.array([0.0/255, 0.0/255, 255.0/255])          # blue\n",
    "    unhappy_red = np.array([127.0/255, 0.0/255, 0.0/255])      # dark red\n",
    "    unhappy_blue = np.array([0.0/255, 0.0/255, 127.0/255])    # dark blue\n",
    "    highlight = np.array([247.0/255, 236.0/255, 0])           #yellow\n",
    "    cmap = colors.ListedColormap([border, vacancy, red, blue, unhappy_red, unhappy_blue,highlight])\n",
    "    # determines the limits of each color:\n",
    "    # if the agent number x is in the range [border_value,border_value + 1), it's color is black,\n",
    "    # if x is in the range [vacancy_value, vacancy_value + 1), it's color is grey,\n",
    "    # and so on...\n",
    "    bounds = [border_value,vacancy_value,red_value,blue_value,unhappy_red_value,unhappy_blue_value,highlight_value, highlight_value + 1]            \n",
    "    norm = colors.BoundaryNorm(bounds, cmap.N)\n",
    "\n",
    "    size = 8\n",
    "    fig, ax = plt.subplots(figsize=(size,size))\n",
    "    ax.imshow(agents, cmap=cmap, norm=norm)\n",
    "\n",
    "    # draws gridlines\n",
    "    #ax.grid(which='major', axis='both', linestyle='-', color='k', linewidth=2)\n",
    "    #ax.set_xticks(np.arange(-0.5, agents.shape[1], 1));\n",
    "    #ax.set_yticks(np.arange(-0.5, agents.shape[0], 1));\n",
    "\n",
    "    plt.show()"
   ]
  },
  {
   "cell_type": "markdown",
   "metadata": {
    "tags": []
   },
   "source": [
    "#### SEGREGATION MODEL"
   ]
  },
  {
   "cell_type": "markdown",
   "metadata": {},
   "source": [
    "The model describes the evolution of an population in a space with two types of agents: reds and blues. A red agent is happy in it's site depending of it's neighbours; it is the same for the blues."
   ]
  },
  {
   "cell_type": "code",
   "execution_count": 151,
   "metadata": {},
   "outputs": [],
   "source": [
    "def create_city(N, red_density, blue_density, city_type):\n",
    "    vacancy_array = np.array([[-1,-1]])\n",
    "    # creates a city with borders\n",
    "    if (city_type == \"closed\"):\n",
    "        city = np.full((N+2,N+2), border_value)\n",
    "        reds = 0.0\n",
    "        blues = 0.0\n",
    "        for i in range(1,N+1):\n",
    "            for j in range(1,N+1):\n",
    "                rnd = np.random.random()\n",
    "                if rnd <= red_density:\n",
    "                    city[i,j] = red_value\n",
    "                    reds += 1\n",
    "                elif (red_density < rnd <= red_density + blue_density):\n",
    "                    city[i,j] = blue_value\n",
    "                    blues += 1\n",
    "                else:\n",
    "                    city[i,j] = vacancy_value\n",
    "                    vacancy_array = np.append(vacancy_array, [[i,j]], axis=0)\n",
    "    \n",
    "    # creates a city without borders, that will be a toroidal grid\n",
    "    elif (city_type == \"open\"):\n",
    "        city = np.full((N,N), vacancy_value)\n",
    "        reds = 0.0\n",
    "        blues = 0.0\n",
    "        for i in range(0,N):\n",
    "            for j in range(0,N):\n",
    "                rnd = np.random.random()\n",
    "                if rnd <= red_density:\n",
    "                    city[i,j] = red_value\n",
    "                    reds += 1\n",
    "                elif (red_density < rnd <= red_density + blue_density):\n",
    "                    city[i,j] = blue_value\n",
    "                    blues += 1\n",
    "                else:\n",
    "                    vacancy_array = np.append(vacancy_array, [[i,j]], axis=0)\n",
    "    \n",
    "    vacancy_array = np.delete(vacancy_array, 0,0)\n",
    "    \n",
    "    return city, vacancy_array, reds, blues"
   ]
  },
  {
   "cell_type": "code",
   "execution_count": 205,
   "metadata": {},
   "outputs": [],
   "source": [
    "def detect_unhappiness(city, city_type, i, j, neighbourhood_range):\n",
    "    value = city[i,j]\n",
    "    red_neighbours = 0\n",
    "    blue_neighbours = 0\n",
    "    \n",
    "    if(city_type == \"closed\"):\n",
    "        #check red unhappiness\n",
    "        if(city[i,j] == red_value or city[i,j] == unhappy_red_value):\n",
    "            red_neighbours -= 1\n",
    "            for Di in range(-neighbourhood_range,neighbourhood_range+1):\n",
    "                for Dj in range(-neighbourhood_range,neighbourhood_range+1):\n",
    "                    if(city[(i+Di)%N,(j+Dj)%N] == red_value or city[(i+Di)%N,(j+Dj)%N] == unhappy_red_value):\n",
    "                        red_neighbours += 1\n",
    "                    elif(city[(i+Di)%N,(j+Dj)%N] == blue_value or city[(i+Di)%N,(j+Dj)%N] == unhappy_blue_value):\n",
    "                        blue_neighbours += 1\n",
    "\n",
    "            # red happiness condition\n",
    "            if (blue_neighbours > red_neighbours):\n",
    "                value = unhappy_red_value\n",
    "            else:\n",
    "                value = red_value\n",
    "\n",
    "        #check blue unhappiness\n",
    "        elif(city[i,j] == blue_value or city[i,j] == unhappy_blue_value):\n",
    "            blue_neighbours -= 1\n",
    "            for Di in range(-neighbourhood_range,neighbourhood_range+1):\n",
    "                for Dj in range(-neighbourhood_range,neighbourhood_range+1):\n",
    "                    if(city[(i+Di)%N,(j+Dj)%N] == red_value or city[(i+Di)%N,(j+Dj)%N] == unhappy_red_value):\n",
    "                        red_neighbours += 1\n",
    "                    elif(city[(i+Di)%N,(j+Dj)%N] == blue_value or city[(i+Di)%N,(j+Dj)%N] == unhappy_blue_value):\n",
    "                        blue_neighbours += 1\n",
    "\n",
    "            # blue happiness condition\n",
    "            if (red_neighbours > blue_neighbours):\n",
    "                value = unhappy_blue_value\n",
    "            else:\n",
    "                value = blue_value\n",
    "\n",
    "                \n",
    "    elif(city_type == \"open\"):\n",
    "        #check red unhappiness\n",
    "        if(city[i,j] == red_value or city[i,j] == unhappy_red_value):\n",
    "            red_neighbours -= 1\n",
    "            for Di in range(-neighbourhood_range,neighbourhood_range+1):\n",
    "                for Dj in range(-neighbourhood_range,neighbourhood_range+1):\n",
    "                    if(city[(i+Di)%N,(j+Dj)%N] == red_value or city[(i+Di)%N,(j+Dj)%N] == unhappy_red_value):\n",
    "                        red_neighbours += 1\n",
    "                    elif(city[(i+Di)%N,(j+Dj)%N] == blue_value or city[(i+Di)%N,(j+Dj)%N] == unhappy_blue_value):\n",
    "                        blue_neighbours += 1\n",
    "\n",
    "            # red happiness condition\n",
    "            if (blue_neighbours > red_neighbours):\n",
    "                value = unhappy_red_value\n",
    "            else:\n",
    "                value = red_value\n",
    "\n",
    "        #check blue unhappiness\n",
    "        elif(city[i,j] == blue_value or city[i,j] == unhappy_blue_value):\n",
    "            blue_neighbours -= 1\n",
    "            for Di in range(-neighbourhood_range,neighbourhood_range+1):\n",
    "                for Dj in range(-neighbourhood_range,neighbourhood_range+1):\n",
    "                    if(city[(i+Di)%N,(j+Dj)%N] == red_value or city[(i+Di)%N,(j+Dj)%N] == unhappy_red_value):\n",
    "                        red_neighbours += 1\n",
    "                    elif(city[(i+Di)%N,(j+Dj)%N] == blue_value or city[(i+Di)%N,(j+Dj)%N] == unhappy_blue_value):\n",
    "                        blue_neighbours += 1\n",
    "\n",
    "            # blue happiness condition\n",
    "            if (red_neighbours > blue_neighbours):\n",
    "                value = unhappy_blue_value\n",
    "            else:\n",
    "                value = blue_value\n",
    "\n",
    "    return value"
   ]
  },
  {
   "cell_type": "code",
   "execution_count": 206,
   "metadata": {},
   "outputs": [],
   "source": [
    "def detect_city_unhappiness(city, city_type, neighbourhood_range):\n",
    "    N = city.shape[0]\n",
    "    unhappy_agents = np.full(((N*N)+1, 2), [-1,-1])\n",
    "    unhappy_map = np.full((N,N),-1)\n",
    "    count = 0\n",
    "    \n",
    "    if(city_type == \"closed\"):\n",
    "        for i in range(1,N+1):\n",
    "            for j in range(1,N+1):\n",
    "                value = detect_unhappiness(city, city_type, i, j, neighbourhood_range)\n",
    "                if(value == unhappy_red_value or value == unhappy_blue_value):\n",
    "                    count += 1\n",
    "                    city[i,j] = value\n",
    "                    unhappy_agents[count] = [i,j]\n",
    "                    unhappy_map[i,j] = count\n",
    "                        \n",
    "    elif(city_type == \"open\"):\n",
    "        for i in range(0,N):\n",
    "            for j in range(0,N):\n",
    "                value = detect_unhappiness(city, city_type, i, j, neighbourhood_range)\n",
    "                if(value == unhappy_red_value or value == unhappy_blue_value):\n",
    "                    count += 1\n",
    "                    city[i,j] = value\n",
    "                    unhappy_agents[count] = [i,j]\n",
    "                    unhappy_map[i,j] = count\n",
    "    \n",
    "    unhappy_agents[0] = [count, count]\n",
    "    \n",
    "    return city, unhappy_agents, unhappy_map"
   ]
  },
  {
   "cell_type": "code",
   "execution_count": 207,
   "metadata": {},
   "outputs": [],
   "source": [
    "def simulation_step(city, city_type, unhappy_agents, unhappy_map, vacancy_array, neighbourhood_range):\n",
    "    if(city_type == \"open\"):\n",
    "        n = unhappy_agents[0,0]\n",
    "        rnd = np.random.randint(1,n+1)\n",
    "        i = unhappy_agents[rnd,0]\n",
    "        j = unhappy_agents[rnd,1]\n",
    "\n",
    "        n2 = vacancy_array.shape[0]\n",
    "        rnd2 = np.random.randint(0,n2)\n",
    "        \n",
    "        # update the vacancy_array\n",
    "        new_i, new_j = vacancy_array[rnd2]\n",
    "        vacancy_array[rnd2] = [i,j]\n",
    "        \n",
    "        # update the city, unhappy_array and unhappy_map\n",
    "        a = city[i,j]\n",
    "        city[new_i,new_j] = city[i,j] - 2\n",
    "        city[i,j] = vacancy_value\n",
    "        \n",
    "        count = unhappy_agents[0,0]\n",
    "        unhappy_agents[rnd] = unhappy_agents[count]\n",
    "        unhappy_agents[count] = [-1,-1]\n",
    "        count -= 1\n",
    "        unhappy_agents[0] = [count,count]\n",
    "        unhappy_map[i,j] = -1\n",
    "        \n",
    "        # testing purposes\n",
    "        for _ in range(3):\n",
    "            city[i,j] = highlight_value\n",
    "            city[new_i,new_j] = highlight_value\n",
    "            plot_grid(city)\n",
    "            time.sleep(0.1)\n",
    "            display.clear_output(wait=True)\n",
    "            city[i,j] = vacancy_value\n",
    "            city[new_i,new_j] = a - 2 \n",
    "            plot_grid(city)\n",
    "            time.sleep(0.1)\n",
    "            display.clear_output(wait=True)\n",
    "        \n",
    "        \n",
    "        # recalculate which agents are unhappy (only the ones affected by the agent that moved)\n",
    "        for Di in range(-neighbourhood_range,neighbourhood_range+1):\n",
    "            for Dj in range(-neighbourhood_range,neighbourhood_range+1):\n",
    "                old_value = city[(i+Di)%N,(j+Dj)%N]\n",
    "                value = detect_unhappiness(city, city_type, (i+Di)%N, (j+Dj)%N, neighbourhood_range)\n",
    "                if(value != old_value and value != vacancy_value):\n",
    "                    city[(i+Di)%N,(j+Dj)%N] = value\n",
    "                    if(value == unhappy_red_value or value == unhappy_blue_value):\n",
    "                        count += 1\n",
    "                        unhappy_agents[count] = [(i+Di)%N,(j+Dj)%N]\n",
    "                        unhappy_agents[0] = [count,count]\n",
    "                        unhappy_map[(i+Di)%N,(j+Dj)%N] = count\n",
    "                    else:\n",
    "                        pos = unhappy_map[(i+Di)%N,(j+Dj)%N]\n",
    "                        unhappy_map[(i+Di)%N,(j+Dj)%N] = -1\n",
    "                        unhappy_agents[pos] = unhappy_agents[count]\n",
    "                        unhappy_agents[count] = [-1,-1]\n",
    "                        count -= 1\n",
    "                        unhappy_agents[0] = [count,count]     \n",
    "                        \n",
    "        for Di in range(-neighbourhood_range,neighbourhood_range+1):\n",
    "            for Dj in range(-neighbourhood_range,neighbourhood_range+1):\n",
    "                old_value = city[(new_i+Di)%N,(new_j+Dj)%N]\n",
    "                value = detect_unhappiness(city, city_type, (new_i+Di)%N, (new_j+Dj)%N, neighbourhood_range)\n",
    "                if(value != old_value and value != vacancy_value):\n",
    "                    city[(new_i+Di)%N,(new_j+Dj)%N] = value\n",
    "                    if(value == unhappy_red_value or value == unhappy_blue_value):\n",
    "                        count += 1\n",
    "                        unhappy_agents[count] = [(new_i+Di)%N,(new_j+Dj)%N]\n",
    "                        unhappy_agents[0] = [count,count]\n",
    "                        unhappy_map[(new_i+Di)%N,(new_j+Dj)%N] = count\n",
    "                    else:\n",
    "                        pos = unhappy_map[(new_i+Di)%N,(new_j+Dj)%N]\n",
    "                        unhappy_map[(new_i+Di)%N,(new_j+Dj)%N] = -1\n",
    "                        unhappy_agents[pos] = unhappy_agents[count]\n",
    "                        unhappy_agents[count] = [-1,-1]\n",
    "                        count -= 1\n",
    "                        unhappy_agents[0] = [count,count]\n",
    "                        \n",
    "        print(unhappy_agents[0,0])\n",
    "            \n",
    "    return city, unhappy_agents, unhappy_map, vacancy_array"
   ]
  },
  {
   "cell_type": "code",
   "execution_count": 208,
   "metadata": {},
   "outputs": [],
   "source": [
    "KERNEL = np.array([[1, 1, 1],\n",
    "                   [1, 0, 1],\n",
    "                   [1, 1, 1]], dtype=np.int8)\n",
    "\n",
    "SIM_T = 0.75\n",
    "\n",
    "def evolve(M, boundary='wrap'):\n",
    "    \"\"\"\n",
    "    Args:\n",
    "        M (numpy.array): the matrix to be evolved\n",
    "        boundary (str): Either wrap, fill, or symm\n",
    "    If the similarity ratio of neighbours\n",
    "    to the entire neighbourhood population\n",
    "    is lower than the SIM_T,\n",
    "    then the individual moves to an empty house.\n",
    "    \"\"\"\n",
    "    kws = dict(mode='same', boundary=boundary)\n",
    "    B_neighs = convolve2d(M == 0, KERNEL, **kws)\n",
    "    R_neighs = convolve2d(M == 1, KERNEL, **kws)\n",
    "    Neighs   = convolve2d(M != -1,  KERNEL, **kws)\n",
    "\n",
    "    B_dissatified = (np.divide(B_neighs, Neighs, where=Neighs!=0.0) < SIM_T) & (M == 0)\n",
    "    R_dissatified = (np.divide(R_neighs, Neighs, where=Neighs!=0.0) < SIM_T) & (M == 1)\n",
    "    M[R_dissatified | B_dissatified] = - 1\n",
    "    vacant = (M == -1).sum()\n",
    "\n",
    "    N_B_dissatified, N_R_dissatified = B_dissatified.sum(), R_dissatified.sum()\n",
    "    filling = -np.ones(vacant, dtype=np.int8)\n",
    "    filling[:N_B_dissatified] = 0\n",
    "    filling[N_B_dissatified:N_B_dissatified + N_R_dissatified] = 1\n",
    "    np.random.shuffle(filling)\n",
    "    M[M==-1] = filling"
   ]
  },
  {
   "cell_type": "code",
   "execution_count": 209,
   "metadata": {},
   "outputs": [
    {
     "name": "stdout",
     "output_type": "stream",
     "text": [
      "2\n"
     ]
    },
    {
     "data": {
      "image/png": "[encoded data removed]",
      "text/plain": [
       "<Figure size 800x800 with 1 Axes>"
      ]
     },
     "metadata": {},
     "output_type": "display_data"
    },
    {
     "name": "stdout",
     "output_type": "stream",
     "text": [
      "se acabó\n"
     ]
    },
    {
     "ename": "KeyboardInterrupt",
     "evalue": "",
     "output_type": "error",
     "traceback": [
      "\u001b[1;31m---------------------------------------------------------------------------\u001b[0m",
      "\u001b[1;31mKeyboardInterrupt\u001b[0m                         Traceback (most recent call last)",
      "Cell \u001b[1;32mIn[209], line 24\u001b[0m\n\u001b[0;32m     22\u001b[0m     plot_grid(city)\n\u001b[0;32m     23\u001b[0m     \u001b[38;5;28mprint\u001b[39m(\u001b[38;5;124m\"\u001b[39m\u001b[38;5;124mse acabó\u001b[39m\u001b[38;5;124m\"\u001b[39m)\n\u001b[1;32m---> 24\u001b[0m     \u001b[43mtime\u001b[49m\u001b[38;5;241;43m.\u001b[39;49m\u001b[43msleep\u001b[49m\u001b[43m(\u001b[49m\u001b[38;5;241;43m2\u001b[39;49m\u001b[43m)\u001b[49m\n\u001b[0;32m     25\u001b[0m     display\u001b[38;5;241m.\u001b[39mclear_output(wait\u001b[38;5;241m=\u001b[39m\u001b[38;5;28;01mTrue\u001b[39;00m)\n\u001b[0;32m     28\u001b[0m \u001b[38;5;124;03m\"\"\"\u001b[39;00m\n\u001b[0;32m     29\u001b[0m \u001b[38;5;124;03mfor i in range(150):\u001b[39;00m\n\u001b[0;32m     30\u001b[0m \u001b[38;5;124;03m    evolve(city)\u001b[39;00m\n\u001b[1;32m   (...)\u001b[0m\n\u001b[0;32m     35\u001b[0m \u001b[38;5;124;03mplot_grid(city)\u001b[39;00m\n\u001b[0;32m     36\u001b[0m \u001b[38;5;124;03m\"\"\"\u001b[39;00m\n",
      "\u001b[1;31mKeyboardInterrupt\u001b[0m: "
     ]
    }
   ],
   "source": [
    "N = 10\n",
    "red_density = 0.15\n",
    "blue_density = 0.15\n",
    "city_type = \"open\"\n",
    "neighbourhood_range = 1\n",
    "\n",
    "city, vacancy_array, reds, blues = create_city(N, red_density, blue_density, city_type) \n",
    "\n",
    "plot_grid(city)\n",
    "time.sleep(2)\n",
    "display.clear_output(wait=True)\n",
    "\n",
    "city, unhappy_agents, unhappy_map = detect_city_unhappiness(city, city_type, neighbourhood_range)\n",
    "plot_grid(city)\n",
    "print(unhappy_agents)\n",
    "print(unhappy_map)\n",
    "time.sleep(2)\n",
    "display.clear_output(wait=True)\n",
    "\n",
    "for i in range(50):\n",
    "    city, unhappy_agents, unhappy_map, vacancy_array = simulation_step(city, city_type, unhappy_agents, unhappy_map, vacancy_array, neighbourhood_range)\n",
    "    plot_grid(city)\n",
    "    print(\"se acabó\")\n",
    "    time.sleep(2)\n",
    "    display.clear_output(wait=True)\n",
    "\n",
    "\n",
    "\"\"\"\n",
    "for i in range(150):\n",
    "    evolve(city)\n",
    "    if(i%2 == 0):\n",
    "        plot_grid(city)\n",
    "        display.clear_output(wait=True)\n",
    "    \n",
    "plot_grid(city)\n",
    "\"\"\""
   ]
  },
  {
   "cell_type": "code",
   "execution_count": 63,
   "metadata": {},
   "outputs": [
    {
     "name": "stdout",
     "output_type": "stream",
     "text": [
      "0.7376105785369873\n",
      "0.3869490623474121\n",
      "0.0059947967529296875\n",
      "0.3594381809234619\n"
     ]
    }
   ],
   "source": [
    "arr = np.array([[i,i] for i in range(1000000)])\n",
    "arr2 = np.full((1000000,2), [1,1])\n",
    "#print(arr)\n",
    "\n",
    "start = time.time()\n",
    "for i in range(100):\n",
    "    arr = np.delete(arr,i,0)\n",
    "    arr = np.append(arr,[[i,i]],axis=0)\n",
    "end = time.time()\n",
    "print(end - start)\n",
    "#print(arr)\n",
    "\n",
    "start = time.time()\n",
    "for i in range(100):\n",
    "    arr = np.insert(arr, i, [[1,1]], axis=0)\n",
    "end = time.time()\n",
    "print(end - start)\n",
    "#print(arr)\n",
    "\n",
    "start = time.time()\n",
    "for i in range(10000):\n",
    "    arr2[i] = [i,i]\n",
    "end = time.time()\n",
    "print(end - start)\n",
    "\n",
    "start = time.time()\n",
    "for i in range(100):\n",
    "    arr = np.append(arr, [i,i])\n",
    "end = time.time()\n",
    "print(end - start)"
   ]
  },
  {
   "cell_type": "code",
   "execution_count": 134,
   "metadata": {},
   "outputs": [
    {
     "name": "stdout",
     "output_type": "stream",
     "text": [
      "1 [1] 0 [0] 0 [0] 1 [1] 2 [2] 0 [0] 3 [3] 3 [3] 0 [0] 2 [2] 0 [0] 1 [1] 2 [2] 0 [0] 0 [0] 0 [0] 2 [2] 3 [3] 1 [1] 0 [0] 0 [0] 1 [1] 1 [1] 1 [1] 2 [2] 1 [1] 0 [0] 2 [2] 1 [1] 2 [2] 0 [0] 0 [0] 1 [1] 3 [3] 2 [2] 3 [3] 3 [3] 3 [3] 1 [1] 2 [2] 3 [3] 1 [1] 2 [2] 1 [1] 1 [1] 3 [3] 3 [3] 2 [2] 2 [2] 2 [2] 1 [1] 3 [3] 0 [0] 2 [2] 1 [1] 1 [1] 1 [1] 3 [3] 1 [1] 2 [2] 1 [1] 0 [0] 3 [3] 1 [1] 1 [1] 2 [2] 2 [2] 2 [2] 1 [1] 0 [0] 1 [1] 1 [1] 0 [0] 2 [2] 1 [1] 0 [0] 3 [3] 1 [1] 0 [0] 3 [3] 1 [1] 3 [3] 3 [3] 1 [1] 0 [0] 2 [2] 3 [3] 1 [1] 2 [2] 0 [0] 0 [0] 2 [2] 0 [0] 0 [0] 1 [1] 2 [2] 0 [0] 0 [0] 2 [2] 1 [1] "
     ]
    }
   ],
   "source": [
    "arr = np.array([[0],[1],[2],[3]])\n",
    "n2 = arr.shape[0]\n",
    "for _ in range(100):\n",
    "    a = np.random.randint(0,n2)\n",
    "    print(a,end=\" \")\n",
    "    print(arr[a],end=\" \")"
   ]
  },
  {
   "cell_type": "markdown",
   "metadata": {
    "jp-MarkdownHeadingCollapsed": true,
    "tags": []
   },
   "source": [
    "#### CREATING A GIF"
   ]
  },
  {
   "cell_type": "code",
   "execution_count": 226,
   "metadata": {},
   "outputs": [
    {
     "name": "stdout",
     "output_type": "stream",
     "text": [
      "[[ 0.  0.  0. ...  0.  0.  0.]\n",
      " [ 0.  0.  0. ...  0.  0.  0.]\n",
      " [ 0.  0.  0. ... -1.  0.  0.]\n",
      " ...\n",
      " [ 0.  0. -1. ...  0.  0.  0.]\n",
      " [ 0.  0.  0. ...  0.  0.  0.]\n",
      " [ 0.  0.  0. ...  0.  0.  0.]]\n"
     ]
    },
    {
     "data": {
      "image/png": "[encoded data removed]",
      "text/plain": [
       "<Figure size 800x800 with 1 Axes>"
      ]
     },
     "metadata": {},
     "output_type": "display_data"
    }
   ],
   "source": [
    "N = 150\n",
    "red_density = 0.35\n",
    "blue_density = 0.35\n",
    "\n",
    "city, city_type, reds, blues = create_city_open(N, red_density, blue_density) \n",
    "\n",
    "plot_grid(city)\n",
    "\n",
    "time.sleep(1)\n",
    "display.clear_output(wait=True)\n",
    "#city, unhappy_agents = detect_city_unhappiness(city, city_type)\n",
    "\n",
    "#plot_grid(city)\n",
    "\n",
    "for i in range(150):\n",
    "    evolve(city)\n",
    "    if(i%2 == 0):\n",
    "        # REMOVE plt.show() FROM THE plot_grid FUNCTION\n",
    "        plot_grid(city)\n",
    "        plt.savefig(str(i) + \".png\")\n",
    "        plt.show()\n",
    "        \n",
    "        display.clear_output(wait=True)\n",
    "    \n",
    "plot_grid(city)\n",
    "print(city)\n",
    "\n",
    "#for _ in range(1000):\n",
    "#    city, unhappy_agents = simulation_step(city, city_type, unhappy_agents)\n",
    "\n",
    "#plot_grid(city)"
   ]
  },
  {
   "cell_type": "code",
   "execution_count": 217,
   "metadata": {},
   "outputs": [
    {
     "name": "stdout",
     "output_type": "stream",
     "text": [
      " '0.png', '2.png', '4.png', '6.png', '8.png', '10.png', '12.png', '14.png', '16.png', '18.png', '20.png', '22.png', '24.png', '26.png', '28.png', '30.png', '32.png', '34.png', '36.png', '38.png', '40.png', '42.png', '44.png', '46.png', '48.png', '50.png', '52.png', '54.png', '56.png', '58.png', '60.png', '62.png', '64.png', '66.png', '68.png', '70.png', '72.png', '74.png', '76.png', '78.png', '80.png', '82.png', '84.png', '86.png', '88.png', '90.png', '92.png', '94.png', '96.png', '98.png', '100.png', '102.png', '104.png', '106.png', '108.png', '110.png', '112.png', '114.png', '116.png', '118.png', '120.png', '122.png', '124.png', '126.png', '128.png', '130.png', '132.png', '134.png', '136.png', '138.png', '140.png', '142.png', '144.png', '146.png', '148.png',"
     ]
    }
   ],
   "source": [
    "for i in range(0,150,2):\n",
    "    print(\" \\'\" + str(i) + \".png\\',\",end='')"
   ]
  },
  {
   "cell_type": "code",
   "execution_count": 223,
   "metadata": {},
   "outputs": [],
   "source": [
    "import os\n",
    "import imageio.v2 as imageio"
   ]
  },
  {
   "cell_type": "code",
   "execution_count": 227,
   "metadata": {},
   "outputs": [],
   "source": [
    "with imageio.get_writer('evolucao.gif', mode='I') as writer:\n",
    "    for filename in ['0.png', '2.png', '4.png', '6.png', '8.png', '10.png', '12.png', '14.png', '16.png', '18.png', '20.png', '22.png', '24.png', '26.png', '28.png', '30.png', '32.png', '34.png', '36.png', '38.png', '40.png', '42.png', '44.png', '46.png', '48.png', '50.png', '52.png', '54.png', '56.png', '58.png', '60.png', '62.png', '64.png', '66.png', '68.png', '70.png', '72.png', '74.png', '76.png', '78.png', '80.png', '82.png', '84.png', '86.png', '88.png', '90.png', '92.png', '94.png', '96.png', '98.png', '100.png', '102.png', '104.png', '106.png', '108.png', '110.png', '112.png', '114.png', '116.png', '118.png', '120.png', '122.png', '124.png', '126.png', '128.png', '130.png', '132.png', '134.png', '136.png', '138.png', '140.png', '142.png', '144.png', '146.png', '148.png']:\n",
    "        image = imageio.imread(filename)\n",
    "        writer.append_data(image)"
   ]
  },
  {
   "cell_type": "code",
   "execution_count": null,
   "metadata": {},
   "outputs": [],
   "source": []
  }
 ],
 "metadata": {
  "kernelspec": {
   "display_name": "Python 3 (ipykernel)",
   "language": "python",
   "name": "python3"
  },
  "language_info": {
   "codemirror_mode": {
    "name": "ipython",
    "version": 3
   },
   "file_extension": ".py",
   "mimetype": "text/x-python",
   "name": "python",
   "nbconvert_exporter": "python",
   "pygments_lexer": "ipython3",
   "version": "3.10.9"
  }
 },
 "nbformat": 4,
 "nbformat_minor": 4
}
