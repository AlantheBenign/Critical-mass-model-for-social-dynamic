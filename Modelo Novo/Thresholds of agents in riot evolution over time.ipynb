{
 "cells": [
  {
   "cell_type": "code",
   "execution_count": 28,
   "metadata": {},
   "outputs": [],
   "source": [
    "import functions_new_jit as func\n",
    "import importlib\n",
    "importlib.reload(func)\n",
    "\n",
    "###########################################################################################################################################\n",
    "\n",
    "import numpy as np\n",
    "import matplotlib.pyplot as plt\n",
    "import random as rd\n",
    "from IPython.display import clear_output\n",
    "import time\n",
    "\n",
    "import numba"
   ]
  },
  {
   "cell_type": "code",
   "execution_count": 29,
   "metadata": {},
   "outputs": [
    {
     "data": {
      "image/png": "[encoded data removed]",
      "text/plain": [
       "<Figure size 432x288 with 1 Axes>"
      ]
     },
     "metadata": {
      "needs_background": "light"
     },
     "output_type": "display_data"
    }
   ],
   "source": [
    "N = 100\n",
    "average = 24\n",
    "deviation = 12\n",
    "\n",
    "agents = func.create_agents(N,average,deviation)\n",
    "\n",
    "steps = 100\n",
    "\n",
    "progression = func.simulate_riot_stochastic_exit(agents, steps)\n",
    "\n",
    "plt.figure()\n",
    "plt.plot(progression)\n",
    "plt.ylim(-5,105)\n",
    "plt.show()"
   ]
  },
  {
   "cell_type": "code",
   "execution_count": 34,
   "metadata": {},
   "outputs": [
    {
     "data": {
      "image/png": "[encoded data removed]",
      "text/plain": [
       "<Figure size 432x288 with 1 Axes>"
      ]
     },
     "metadata": {
      "needs_background": "light"
     },
     "output_type": "display_data"
    }
   ],
   "source": [
    "N = 10000\n",
    "average = 24\n",
    "deviation = 12\n",
    "\n",
    "agents = func.create_agents(N,average,deviation)\n",
    "\n",
    "steps = 500\n",
    "\n",
    "progression, states = func.simulate_riot_stochastic_exit_intermediary(agents, steps)\n",
    "\n",
    "plt.figure()\n",
    "plt.plot(progression)\n",
    "plt.ylim(-5,N+N/20)\n",
    "plt.show()"
   ]
  },
  {
   "cell_type": "code",
   "execution_count": 35,
   "metadata": {},
   "outputs": [],
   "source": [
    "thresholds = np.zeros(len(agents))\n",
    "\n",
    "for i in range(len(agents)):\n",
    "    thresholds[i] = agents[i].threshold\n",
    "    \n",
    "thresholds = sorted(thresholds)\n",
    "#print(thresholds)\n",
    "\n",
    "threshs = np.linspace(0,101, 102,endpoint = True)"
   ]
  },
  {
   "cell_type": "code",
   "execution_count": 36,
   "metadata": {},
   "outputs": [
    {
     "data": {
      "image/png": "[encoded data removed]",
      "text/plain": [
       "<Figure size 432x288 with 1 Axes>"
      ]
     },
     "metadata": {
      "needs_background": "light"
     },
     "output_type": "display_data"
    }
   ],
   "source": [
    "plt.figure()\n",
    "plt.hist(thresholds,threshs)\n",
    "plt.xlim(0,thresholds[-1] + 5)\n",
    "plt.show()"
   ]
  },
  {
   "cell_type": "code",
   "execution_count": 46,
   "metadata": {},
   "outputs": [
    {
     "name": "stdout",
     "output_type": "stream",
     "text": [
      "23.7043\n"
     ]
    },
    {
     "data": {
      "image/png": "[encoded data removed]",
      "text/plain": [
       "<Figure size 432x288 with 1 Axes>"
      ]
     },
     "metadata": {
      "needs_background": "light"
     },
     "output_type": "display_data"
    },
    {
     "name": "stdout",
     "output_type": "stream",
     "text": [
      "100.0\n"
     ]
    }
   ],
   "source": [
    "passo = 1\n",
    "for i in range(steps):\n",
    "    if i%passo == 0:\n",
    "        \n",
    "        soma = 0\n",
    "        for j in range(len(states[0])):\n",
    "            if states[i][j] != -1:\n",
    "                soma += states[i][j]\n",
    "        media = soma/progression[i]\n",
    "        print(media)\n",
    "        \n",
    "        plt.figure()\n",
    "        plt.hist(thresholds,threshs)\n",
    "        plt.hist(states[i], threshs)\n",
    "        plt.xlim(0,thresholds[-1] + 5)\n",
    "        plt.plot([int(progression[i]/N * 100) + 1,int(progression[i]/N * 100) + 1],[0,360])\n",
    "        plt.plot([media,media],[0,360],'r')\n",
    "        plt.show()\n",
    "        \n",
    "        print(progression[i]/N * 100)\n",
    "        clear_output(wait=True)\n",
    "        time.sleep(2)\n",
    "        if progression[i] == N:\n",
    "            break"
   ]
  }
 ],
 "metadata": {
  "kernelspec": {
   "display_name": "Python 3",
   "language": "python",
   "name": "python3"
  },
  "language_info": {
   "codemirror_mode": {
    "name": "ipython",
    "version": 3
   },
   "file_extension": ".py",
   "mimetype": "text/x-python",
   "name": "python",
   "nbconvert_exporter": "python",
   "pygments_lexer": "ipython3",
   "version": "3.7.4"
  }
 },
 "nbformat": 4,
 "nbformat_minor": 4
}
