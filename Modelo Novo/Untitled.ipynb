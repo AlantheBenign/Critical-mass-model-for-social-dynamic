{
 "cells": [
  {
   "cell_type": "code",
   "execution_count": 9,
   "metadata": {},
   "outputs": [],
   "source": [
    "import functions_new as func\n",
    "import importlib\n",
    "importlib.reload(func)\n",
    "\n",
    "###########################################################################################################################################\n",
    "\n",
    "import numpy as np\n",
    "import matplotlib.pyplot as plt\n",
    "import random as rd\n",
    "from IPython.display import clear_output\n",
    "import time"
   ]
  },
  {
   "cell_type": "code",
   "execution_count": 10,
   "metadata": {},
   "outputs": [],
   "source": [
    "import numba\n",
    "from numba.experimental import jitclass\n",
    "from numba import njit"
   ]
  },
  {
   "cell_type": "code",
   "execution_count": 3,
   "metadata": {},
   "outputs": [
    {
     "name": "stdout",
     "output_type": "stream",
     "text": [
      "instance.jitclass.Combined#21c84b07f48<ListA:reflected list(instance.jitclass.First#21c84afce08<type:int32,val:array(float64, 1d, A),result:float64>)<iv=None>>\n",
      "[100.0, 100.0]\n"
     ]
    }
   ],
   "source": [
    "import numpy as np\n",
    "import numba as nb\n",
    "\n",
    "spec = [\n",
    "    ('type', nb.int32),\n",
    "    ('val', nb.float64[:]),\n",
    "    ('result', nb.float64)\n",
    "]\n",
    "\n",
    "@nb.experimental.jitclass(spec)\n",
    "class First:\n",
    "    def __init__(self):\n",
    "        self.type = 1\n",
    "        self.val = np.ones(100)\n",
    "        self.result = 0.\n",
    "    def sum(self):\n",
    "        self.result = np.sum(self.val)\n",
    "\n",
    "spec1 = [('ListA',  nb.types.List(First.class_type.instance_type, reflected=True))]\n",
    "\n",
    "@nb.experimental.jitclass(spec1)\n",
    "class Combined:\n",
    "    def __init__(self):\n",
    "        self.ListA = [First(), First()] \n",
    "    def sum(self):\n",
    "        for i, c in enumerate(self.ListA):\n",
    "            c.sum()\n",
    "    def getresult(self):\n",
    "        result = []\n",
    "        for i, c in enumerate(self.ListA):\n",
    "            result.append(c.result)\n",
    "        return result\n",
    "\n",
    "C = Combined()\n",
    "C.sum()\n",
    "print(numba.typeof(C))\n",
    "result = C.getresult()\n",
    "print(result)\n"
   ]
  },
  {
   "cell_type": "code",
   "execution_count": 661,
   "metadata": {},
   "outputs": [],
   "source": [
    "from numba.typed import List\n",
    "mylist = List()\n",
    "mylist.append(Agent(10))"
   ]
  },
  {
   "cell_type": "code",
   "execution_count": 673,
   "metadata": {},
   "outputs": [
    {
     "name": "stdout",
     "output_type": "stream",
     "text": [
      "ListType[instance.jitclass.Agent#21e584cf4c8<threshold:int64,wish:int64,sector:int64,state:int64>]\n"
     ]
    },
    {
     "ename": "TypingError",
     "evalue": "Failed in nopython mode pipeline (step: nopython frontend)\n\u001b[1m\u001b[1m\u001b[1m\u001b[1mFailed in nopython mode pipeline (step: nopython frontend)\n\u001b[1mCannot infer the type of variable '$14call_method.5' (temporary variable), have imprecise type: ListType[undefined]. \n\u001b[1m\nFile \"<ipython-input-671-903dff0c8eb9>\", line 15:\u001b[0m\n\u001b[1m    def __init__(self, agents, sector0_size, sector1_size):\n        <source elided>\n        self.reservoir = agents\n\u001b[1m        self.sector0 = numba.typed.List()\n\u001b[0m        \u001b[1m^\u001b[0m\u001b[0m\n\u001b[0m\n\u001b[0m\u001b[1mDuring: resolving callee type: jitclass.System#21e5889c548<reservoir:reflected list(instance.jitclass.Agent#21e584cf4c8<threshold:int64,wish:int64,sector:int64,state:int64>)<iv=None>,sector0:list(instance.jitclass.Agent#21e584cf4c8<threshold:int64,wish:int64,sector:int64,state:int64>)<iv=None>,sector0_size:int64,sector1:list(instance.jitclass.Agent#21e584cf4c8<threshold:int64,wish:int64,sector:int64,state:int64>)<iv=None>,sector1_size:int64>\u001b[0m\n\u001b[0m\u001b[1mDuring: typing of call at <string> (3)\n\u001b[0m\n\u001b[0m\u001b[1mDuring: resolving callee type: jitclass.System#21e5889c548<reservoir:reflected list(instance.jitclass.Agent#21e584cf4c8<threshold:int64,wish:int64,sector:int64,state:int64>)<iv=None>,sector0:list(instance.jitclass.Agent#21e584cf4c8<threshold:int64,wish:int64,sector:int64,state:int64>)<iv=None>,sector0_size:int64,sector1:list(instance.jitclass.Agent#21e584cf4c8<threshold:int64,wish:int64,sector:int64,state:int64>)<iv=None>,sector1_size:int64>\u001b[0m\n\u001b[0m\u001b[1mDuring: typing of call at <string> (3)\n\u001b[0m\n\u001b[1m\nFile \"<string>\", line 3:\u001b[0m\n\u001b[1m<source missing, REPL/exec in use?>\u001b[0m\n",
     "output_type": "error",
     "traceback": [
      "\u001b[1;31m---------------------------------------------------------------------------\u001b[0m",
      "\u001b[1;31mTypingError\u001b[0m                               Traceback (most recent call last)",
      "\u001b[1;32m<ipython-input-673-61f5188e6501>\u001b[0m in \u001b[0;36m<module>\u001b[1;34m\u001b[0m\n\u001b[0;32m      2\u001b[0m \u001b[0mprint\u001b[0m\u001b[1;33m(\u001b[0m\u001b[0mnumba\u001b[0m\u001b[1;33m.\u001b[0m\u001b[0mtypeof\u001b[0m\u001b[1;33m(\u001b[0m\u001b[0magents\u001b[0m\u001b[1;33m)\u001b[0m\u001b[1;33m)\u001b[0m\u001b[1;33m\u001b[0m\u001b[1;33m\u001b[0m\u001b[0m\n\u001b[0;32m      3\u001b[0m \u001b[1;33m\u001b[0m\u001b[0m\n\u001b[1;32m----> 4\u001b[1;33m \u001b[0msystem\u001b[0m \u001b[1;33m=\u001b[0m \u001b[0mSystem\u001b[0m\u001b[1;33m(\u001b[0m\u001b[0magents\u001b[0m\u001b[1;33m,\u001b[0m \u001b[1;36m100\u001b[0m\u001b[1;33m,\u001b[0m \u001b[1;36m100\u001b[0m\u001b[1;33m)\u001b[0m\u001b[1;33m\u001b[0m\u001b[1;33m\u001b[0m\u001b[0m\n\u001b[0m",
      "\u001b[1;32mD:\\Anaconda\\lib\\site-packages\\numba\\experimental\\jitclass\\base.py\u001b[0m in \u001b[0;36m__call__\u001b[1;34m(cls, *args, **kwargs)\u001b[0m\n\u001b[0;32m    122\u001b[0m         \u001b[0mbind\u001b[0m \u001b[1;33m=\u001b[0m \u001b[0mcls\u001b[0m\u001b[1;33m.\u001b[0m\u001b[0m_ctor_sig\u001b[0m\u001b[1;33m.\u001b[0m\u001b[0mbind\u001b[0m\u001b[1;33m(\u001b[0m\u001b[1;32mNone\u001b[0m\u001b[1;33m,\u001b[0m \u001b[1;33m*\u001b[0m\u001b[0margs\u001b[0m\u001b[1;33m,\u001b[0m \u001b[1;33m**\u001b[0m\u001b[0mkwargs\u001b[0m\u001b[1;33m)\u001b[0m\u001b[1;33m\u001b[0m\u001b[1;33m\u001b[0m\u001b[0m\n\u001b[0;32m    123\u001b[0m         \u001b[0mbind\u001b[0m\u001b[1;33m.\u001b[0m\u001b[0mapply_defaults\u001b[0m\u001b[1;33m(\u001b[0m\u001b[1;33m)\u001b[0m\u001b[1;33m\u001b[0m\u001b[1;33m\u001b[0m\u001b[0m\n\u001b[1;32m--> 124\u001b[1;33m         \u001b[1;32mreturn\u001b[0m \u001b[0mcls\u001b[0m\u001b[1;33m.\u001b[0m\u001b[0m_ctor\u001b[0m\u001b[1;33m(\u001b[0m\u001b[1;33m*\u001b[0m\u001b[0mbind\u001b[0m\u001b[1;33m.\u001b[0m\u001b[0margs\u001b[0m\u001b[1;33m[\u001b[0m\u001b[1;36m1\u001b[0m\u001b[1;33m:\u001b[0m\u001b[1;33m]\u001b[0m\u001b[1;33m,\u001b[0m \u001b[1;33m**\u001b[0m\u001b[0mbind\u001b[0m\u001b[1;33m.\u001b[0m\u001b[0mkwargs\u001b[0m\u001b[1;33m)\u001b[0m\u001b[1;33m\u001b[0m\u001b[1;33m\u001b[0m\u001b[0m\n\u001b[0m\u001b[0;32m    125\u001b[0m \u001b[1;33m\u001b[0m\u001b[0m\n\u001b[0;32m    126\u001b[0m \u001b[1;33m\u001b[0m\u001b[0m\n",
      "\u001b[1;32mD:\\Anaconda\\lib\\site-packages\\numba\\core\\dispatcher.py\u001b[0m in \u001b[0;36m_compile_for_args\u001b[1;34m(self, *args, **kws)\u001b[0m\n\u001b[0;32m    466\u001b[0m                 \u001b[0me\u001b[0m\u001b[1;33m.\u001b[0m\u001b[0mpatch_message\u001b[0m\u001b[1;33m(\u001b[0m\u001b[0mmsg\u001b[0m\u001b[1;33m)\u001b[0m\u001b[1;33m\u001b[0m\u001b[1;33m\u001b[0m\u001b[0m\n\u001b[0;32m    467\u001b[0m \u001b[1;33m\u001b[0m\u001b[0m\n\u001b[1;32m--> 468\u001b[1;33m             \u001b[0merror_rewrite\u001b[0m\u001b[1;33m(\u001b[0m\u001b[0me\u001b[0m\u001b[1;33m,\u001b[0m \u001b[1;34m'typing'\u001b[0m\u001b[1;33m)\u001b[0m\u001b[1;33m\u001b[0m\u001b[1;33m\u001b[0m\u001b[0m\n\u001b[0m\u001b[0;32m    469\u001b[0m         \u001b[1;32mexcept\u001b[0m \u001b[0merrors\u001b[0m\u001b[1;33m.\u001b[0m\u001b[0mUnsupportedError\u001b[0m \u001b[1;32mas\u001b[0m \u001b[0me\u001b[0m\u001b[1;33m:\u001b[0m\u001b[1;33m\u001b[0m\u001b[1;33m\u001b[0m\u001b[0m\n\u001b[0;32m    470\u001b[0m             \u001b[1;31m# Something unsupported is present in the user code, add help info\u001b[0m\u001b[1;33m\u001b[0m\u001b[1;33m\u001b[0m\u001b[1;33m\u001b[0m\u001b[0m\n",
      "\u001b[1;32mD:\\Anaconda\\lib\\site-packages\\numba\\core\\dispatcher.py\u001b[0m in \u001b[0;36merror_rewrite\u001b[1;34m(e, issue_type)\u001b[0m\n\u001b[0;32m    407\u001b[0m                 \u001b[1;32mraise\u001b[0m \u001b[0me\u001b[0m\u001b[1;33m\u001b[0m\u001b[1;33m\u001b[0m\u001b[0m\n\u001b[0;32m    408\u001b[0m             \u001b[1;32melse\u001b[0m\u001b[1;33m:\u001b[0m\u001b[1;33m\u001b[0m\u001b[1;33m\u001b[0m\u001b[0m\n\u001b[1;32m--> 409\u001b[1;33m                 \u001b[1;32mraise\u001b[0m \u001b[0me\u001b[0m\u001b[1;33m.\u001b[0m\u001b[0mwith_traceback\u001b[0m\u001b[1;33m(\u001b[0m\u001b[1;32mNone\u001b[0m\u001b[1;33m)\u001b[0m\u001b[1;33m\u001b[0m\u001b[1;33m\u001b[0m\u001b[0m\n\u001b[0m\u001b[0;32m    410\u001b[0m \u001b[1;33m\u001b[0m\u001b[0m\n\u001b[0;32m    411\u001b[0m         \u001b[0margtypes\u001b[0m \u001b[1;33m=\u001b[0m \u001b[1;33m[\u001b[0m\u001b[1;33m]\u001b[0m\u001b[1;33m\u001b[0m\u001b[1;33m\u001b[0m\u001b[0m\n",
      "\u001b[1;31mTypingError\u001b[0m: Failed in nopython mode pipeline (step: nopython frontend)\n\u001b[1m\u001b[1m\u001b[1m\u001b[1mFailed in nopython mode pipeline (step: nopython frontend)\n\u001b[1mCannot infer the type of variable '$14call_method.5' (temporary variable), have imprecise type: ListType[undefined]. \n\u001b[1m\nFile \"<ipython-input-671-903dff0c8eb9>\", line 15:\u001b[0m\n\u001b[1m    def __init__(self, agents, sector0_size, sector1_size):\n        <source elided>\n        self.reservoir = agents\n\u001b[1m        self.sector0 = numba.typed.List()\n\u001b[0m        \u001b[1m^\u001b[0m\u001b[0m\n\u001b[0m\n\u001b[0m\u001b[1mDuring: resolving callee type: jitclass.System#21e5889c548<reservoir:reflected list(instance.jitclass.Agent#21e584cf4c8<threshold:int64,wish:int64,sector:int64,state:int64>)<iv=None>,sector0:list(instance.jitclass.Agent#21e584cf4c8<threshold:int64,wish:int64,sector:int64,state:int64>)<iv=None>,sector0_size:int64,sector1:list(instance.jitclass.Agent#21e584cf4c8<threshold:int64,wish:int64,sector:int64,state:int64>)<iv=None>,sector1_size:int64>\u001b[0m\n\u001b[0m\u001b[1mDuring: typing of call at <string> (3)\n\u001b[0m\n\u001b[0m\u001b[1mDuring: resolving callee type: jitclass.System#21e5889c548<reservoir:reflected list(instance.jitclass.Agent#21e584cf4c8<threshold:int64,wish:int64,sector:int64,state:int64>)<iv=None>,sector0:list(instance.jitclass.Agent#21e584cf4c8<threshold:int64,wish:int64,sector:int64,state:int64>)<iv=None>,sector0_size:int64,sector1:list(instance.jitclass.Agent#21e584cf4c8<threshold:int64,wish:int64,sector:int64,state:int64>)<iv=None>,sector1_size:int64>\u001b[0m\n\u001b[0m\u001b[1mDuring: typing of call at <string> (3)\n\u001b[0m\n\u001b[1m\nFile \"<string>\", line 3:\u001b[0m\n\u001b[1m<source missing, REPL/exec in use?>\u001b[0m\n"
     ]
    }
   ],
   "source": [
    "agents = create_agents_jit(200,25,12)\n",
    "print(numba.typeof(agents))\n",
    "\n",
    "system = System(agents, 100, 100)"
   ]
  },
  {
   "cell_type": "code",
   "execution_count": 6,
   "metadata": {},
   "outputs": [],
   "source": [
    "spec1 = [\n",
    "    ('reservoir', numba.types.List(Agent.class_type.instance_type, reflected = True)),               \n",
    "    ('sector0', numba.types.List(Agent.class_type.instance_type)),\n",
    "    ('sector0_size', numba.int64),\n",
    "    ('sector1', numba.types.List(Agent.class_type.instance_type)),\n",
    "    ('sector1_size', numba.int64),\n",
    "]\n",
    "\n",
    "@jitclass(spec1)\n",
    "class System:\n",
    "    \n",
    "    # creates a system to be simulated. With one reservoir of Agents, and two riot sectors\n",
    "    def __init__(self, agents, sector0_size, sector1_size):\n",
    "        self.reservoir = agents\n",
    "        self.sector0 = numba.typed.List()\n",
    "        self.sector0_size = sector0_size\n",
    "        self.sector1 = numba.typed.List()\n",
    "        self.sector1_size = sector1_size\n",
    "     \n",
    "    \n",
    "    # migrates an Agent \"i\" from the sector \"sector\"\n",
    "    def migrate(self, sector, i):\n",
    "        if sector == 0:\n",
    "            agent = self.sector0[i]\n",
    "            self.sector0 = np.delete(self.sector0, i)\n",
    "            self.sector1 = np.append(self.sector1, agent)\n",
    "            \n",
    "        else:\n",
    "            agent = self.sector1[i]\n",
    "            self.sector1 = np.delete(self.sector1, i)\n",
    "            self.sector0 = np.append(self.sector0, agent)\n",
    "     \n",
    "    \n",
    "    # checks which Agent, in the reservoir, wants to riot according to it's threshold. It can go in sector 0 or 1.         \n",
    "    def update_wishes_reservoir(self):\n",
    "        for i in range(len(self.reservoir)):\n",
    "            num = rd.randint(0,1)\n",
    "            rnd = rd.random()\n",
    "            if num == 0:\n",
    "                if len(self.sector0) < self.sector0_size:\n",
    "                    percentage = len(self.sector0)/self.sector0_size * 100\n",
    "                    if rnd <= self.reservoir[i].threshold_model(percentage):\n",
    "                        self.reservoir[i].wish = 0\n",
    "                        continue\n",
    "                \n",
    "                if len(self.sector1) < self.sector1_size:                    \n",
    "                    percentage = len(self.sector1)/self.sector1_size * 100\n",
    "                    if rnd <= self.reservoir[i].threshold_model(percentage):\n",
    "                        self.reservoir[i].wish = 1\n",
    "                        continue\n",
    "                    \n",
    "            else:\n",
    "                if len(self.sector1) < self.sector1_size:                    \n",
    "                    percentage = len(self.sector1)/self.sector1_size * 100\n",
    "                    if rnd <= self.reservoir[i].threshold_model(percentage):\n",
    "                        self.reservoir[i].wish = 1\n",
    "                        continue\n",
    "                    \n",
    "                if len(self.sector0) < self.sector0_size:\n",
    "                    percentage = len(self.sector0)/self.sector0_size * 100\n",
    "                    if rnd <= self.reservoir[i].threshold_model(percentage):\n",
    "                        self.reservoir[i].wish = 0\n",
    "                        continue\n",
    "    \n",
    "    \n",
    "    # checks which Agent, in both sectros, wants to exit the riot.              \n",
    "    def update_wishes_sectors_exit(self):\n",
    "        for i in range(len(self.sector0)):\n",
    "            rnd = rd.random()\n",
    "            percentage = len(self.sector0)/self.sector0_size * 100\n",
    "            if rnd > self.sector0[i].threshold_model(percentage):\n",
    "                self.sector0[i].wish = -1\n",
    "                \n",
    "        for i in range(len(self.sector1)):\n",
    "            rnd = rd.random()\n",
    "            percentage = len(self.sector1)/self.sector1_size * 100\n",
    "            if rnd > self.sector1[i].threshold_model(percentage):\n",
    "                self.sector1[i].wish = -1\n",
    "     \n",
    "    \n",
    "    # checks which Agent, on both sectors, wants to migrate to other sector (random model)\n",
    "    def update_wishes_sectors_migration_random(self,migration_probability):\n",
    "        for i in range(len(self.sector0)):\n",
    "            rnd = rd.random()\n",
    "            if rnd <= migration_probability:\n",
    "                self.sector0[i].wish = 1\n",
    "                \n",
    "        for i in range(len(self.sector1)):\n",
    "            rnd = rd.random()\n",
    "            if rnd <= migration_probability:\n",
    "                self.sector1[i].wish = 0\n",
    "                \n",
    "                \n",
    "    # checks which Agent, on both sectors, wants to migrate to other sector (gregarious model)             \n",
    "    def update_wishes_sectors_migration_gregarious(self):\n",
    "        m = 3*10e-5\n",
    "        dif = len(system.sector1) - len(system.sector0)\n",
    "        probability = 1 - np.exp(-m * dif)\n",
    "        \n",
    "        for i in range(len(self.sector0)):\n",
    "            rnd = rd.random()\n",
    "            if dif > 0 and rnd <= probability:\n",
    "                self.sector0[i].wish = 1\n",
    "                \n",
    "        dif = len(system.sector0) - len(system.sector1)\n",
    "        probability = 1 - np.exp(-m * dif)\n",
    "        \n",
    "        for i in range(len(self.sector1)):\n",
    "            rnd = rd.random()\n",
    "            if dif > 0 and rnd <= probability:\n",
    "                self.sector1[i].wish = 0\n",
    "    \n",
    "    \n",
    "    # moves the Agents from the reservoir to the sectors of their wishes values\n",
    "    def update_reservoir(self):\n",
    "        i = 0\n",
    "        while i < len(self.reservoir):\n",
    "            if self.reservoir[i].wish == 0 and len(self.sector0) < self.sector0_size:\n",
    "                agent = self.reservoir[i]\n",
    "                self.reservoir = np.delete(self.reservoir, i)\n",
    "                self.sector0 = np.append(self.sector0, agent)\n",
    "                agent.sector = agent.wish\n",
    "                i -= 1\n",
    "            elif self.reservoir[i].wish == 1 and len(self.sector1) < self.sector1_size:\n",
    "                agent = self.reservoir[i]\n",
    "                self.reservoir = np.delete(self.reservoir, i)\n",
    "                self.sector1 = np.append(self.sector1, agent)\n",
    "                agent.sector = agent.wish\n",
    "                i -= 1\n",
    "            else:\n",
    "                self.reservoir[i].wish = self.reservoir[i].sector\n",
    "            i += 1\n",
    "    \n",
    "    \n",
    "    # moves the Agents from the sectors to the reservoir or to the other sector\n",
    "    def update_sectors(self):\n",
    "        i = 0\n",
    "        while i < len(self.sector0):\n",
    "            if self.sector0[i].wish == -1:\n",
    "                agent = self.sector0[i]\n",
    "                self.sector0 = np.delete(self.sector0, i)\n",
    "                self.reservoir = np.append(self.reservoir, agent)\n",
    "                agent.sector = agent.wish\n",
    "                i -= 1\n",
    "            elif self.sector0[i].wish == 1 and len(self.sector1) < self.sector1_size:\n",
    "                agent = self.sector0[i]\n",
    "                self.sector0 = np.delete(self.sector0, i)\n",
    "                self.sector1 = np.append(self.sector1, agent)\n",
    "                agent.sector = agent.wish\n",
    "                i -= 1\n",
    "            else:\n",
    "                self.reservoir[i].wish = self.reservoir[i].sector\n",
    "            i += 1\n",
    "            \n",
    "        i = 0\n",
    "        while i < len(self.sector1):\n",
    "            if self.sector1[i].wish == -1:\n",
    "                agent = self.sector1[i]\n",
    "                self.sector1 = np.delete(self.sector1, i)\n",
    "                self.reservoir = np.append(self.reservoir, agent)\n",
    "                agent.sector = agent.wish\n",
    "                i -= 1\n",
    "            elif self.sector1[i].wish == 0 and len(self.sector0) < self.sector0_size:\n",
    "                agent = self.sector1[i]\n",
    "                self.sector0 = np.delete(self.sector1, i)\n",
    "                self.sector1 = np.append(self.sector0, agent)\n",
    "                agent.sector = agent.wish\n",
    "                i -= 1\n",
    "            else:\n",
    "                self.reservoir[i].wish = self.reservoir[i].sector\n",
    "            i += 1"
   ]
  },
  {
   "cell_type": "code",
   "execution_count": 5,
   "metadata": {},
   "outputs": [],
   "source": [
    "spec2 = [\n",
    "    ('threshold', numba.int64),               \n",
    "    ('wish', numba.int64),\n",
    "    ('sector', numba.int64),\n",
    "    ('state', numba.int64),\n",
    "]\n",
    "\n",
    "@jitclass(spec2)\n",
    "class Agent():\n",
    "    \n",
    "    def __init__(self, threshold):\n",
    "        self.threshold = threshold\n",
    "        self.wish = -1\n",
    "        self.sector = -1\n",
    "        self.state = 0\n",
    "    \n",
    "    \n",
    "    def threshold_model(self, percentage):\n",
    "        m = 0.2                                                                # if m -> inf, the model approaches the Granovetter's binary model of thresholds.\n",
    "        probability = 1 / (1 + np.exp( m * (self.threshold - percentage) ) )   # stochastic model of thresholds [0 <= percentage <= 100]\n",
    "        return probability\n",
    "    \n",
    "        \n",
    "    # updates the state of an agent according with it's threshold, returns 1 if the agent enters the riot, for exemple, and returns 0 if nothing changes.     \n",
    "    def update_state(self, percentage):              \n",
    "        rnd = rd.random()\n",
    "        if self.state == 0:\n",
    "            if rnd <= self.threshold_model(percentage):\n",
    "                self.state = 1\n",
    "                return 1\n",
    "            else:\n",
    "                return 0\n",
    "        else:\n",
    "            return 0\n",
    "\n",
    "        \n",
    "    # updates the state of an agent according with it's threshold, returns 1 if the agent enters the riot, returns 0 if nothing chances and returns -1 if the agent exits the riot.\n",
    "    def update_state_exit(self, percentage):  \n",
    "        rnd = rd.random()\n",
    "        if self.state == 0:\n",
    "            if rnd <= self.threshold_model(percentage):\n",
    "                self.state = 1\n",
    "                return 1\n",
    "            else:\n",
    "                return 0\n",
    "        else:\n",
    "            if rnd > self.threshold_model(percentage):\n",
    "                self.state = 0\n",
    "                return -1\n",
    "            else:\n",
    "                return 0"
   ]
  },
  {
   "cell_type": "code",
   "execution_count": 447,
   "metadata": {},
   "outputs": [
    {
     "data": {
      "text/plain": [
       "instance.jitclass.Agent#21e56604608<threshold:int64,wish:int64,sector:int64,state:int64>"
      ]
     },
     "execution_count": 447,
     "metadata": {},
     "output_type": "execute_result"
    }
   ],
   "source": [
    "agent = Agent(10)\n",
    "numba.typeof(agent)"
   ]
  },
  {
   "cell_type": "code",
   "execution_count": 485,
   "metadata": {},
   "outputs": [],
   "source": [
    "def create_thresholds(N = 100, a = True, average = 25, deviation = 10):\n",
    "    \"\"\"\n",
    "    Inputs:\n",
    "        Sample parameters:\n",
    "          N := total number of agents\n",
    "          a := if a == True all thresholdds below 0 are converted to 0 and all thresholds above 100 are converted to 100, otherwise nothing happens\n",
    "        Normal distribution parameters:\n",
    "          average := average value of the normal distribution\n",
    "          deviation := standard deviation of the normal distribution\n",
    "    \n",
    "    This function creates an array with N threshold values (0 <= x <= 100) according with a normal distribution with the given parameters\n",
    "          \n",
    "    Outputs:      \n",
    "        A np.array with the sorted thresholds values\n",
    "    \n",
    "    \"\"\"\n",
    "    thresholds = np.empty(N)\n",
    "    \n",
    "    # generating the values\n",
    "    for i in range(N):\n",
    "        threshold = rd.gauss(average, deviation)     # generates a random value according with a normal distribution\n",
    "\n",
    "        if a:\n",
    "            # all thresholdds below 0 are converted to 0 and all thresholds above 100 are converted to 100\n",
    "            if threshold < 0:\n",
    "                threshold = 0\n",
    "            elif threshold > 100:\n",
    "                threshold = 100\n",
    "\n",
    "        thresholds[i] = threshold\n",
    "    print(numba.typeof(thresholds))\n",
    "    thresholds = sorted(thresholds) #sorts the array\n",
    "    print(numba.typeof(thresholds))\n",
    "    return thresholds"
   ]
  },
  {
   "cell_type": "code",
   "execution_count": 486,
   "metadata": {},
   "outputs": [
    {
     "name": "stdout",
     "output_type": "stream",
     "text": [
      "array(float64, 1d, C)\n",
      "reflected list(float64)<iv=None>\n",
      "Wall time: 152 ms\n"
     ]
    }
   ],
   "source": [
    "%time _ = create_thresholds(100000,10,10)"
   ]
  },
  {
   "cell_type": "code",
   "execution_count": 684,
   "metadata": {},
   "outputs": [],
   "source": [
    "# RUIM #\n",
    "@numba.njit\n",
    "def create_thresholds(N = 100, a = True, average = 25, deviation = 10):\n",
    "    \"\"\"\n",
    "    Inputs:\n",
    "        Sample parameters:\n",
    "          N := total number of agents\n",
    "          a := if a == True all thresholdds below 0 are converted to 0 and all thresholds above 100 are converted to 100, otherwise nothing happens\n",
    "        Normal distribution parameters:\n",
    "          average := average value of the normal distribution\n",
    "          deviation := standard deviation of the normal distribution\n",
    "    \n",
    "    This function creates an array with N threshold values (0 <= x <= 100) according with a normal distribution with the given parameters\n",
    "          \n",
    "    Outputs:      \n",
    "        A np.array with the sorted thresholds values\n",
    "    \n",
    "    \"\"\"\n",
    "    thresholds = numba.typed.List.empty_list(numba.types.float64)\n",
    "    \n",
    "    # generating the values\n",
    "    for i in range(N):\n",
    "        threshold = rd.gauss(average, deviation)     # generates a random value according with a normal distribution\n",
    "\n",
    "        if a:\n",
    "            # all thresholdds below 0 are converted to 0 and all thresholds above 100 are converted to 100\n",
    "            if threshold < 0:\n",
    "                threshold = 0\n",
    "            elif threshold > 100:\n",
    "                threshold = 100\n",
    "\n",
    "        thresholds.append(threshold)\n",
    "        \n",
    "    thresholds = sorted(thresholds) #sorts the array\n",
    "    \n",
    "    return thresholds"
   ]
  },
  {
   "cell_type": "code",
   "execution_count": 696,
   "metadata": {},
   "outputs": [
    {
     "name": "stdout",
     "output_type": "stream",
     "text": [
      "Wall time: 17 ms\n"
     ]
    }
   ],
   "source": [
    "%time _ = create_thresholds(100000,10,10)"
   ]
  },
  {
   "cell_type": "code",
   "execution_count": 489,
   "metadata": {},
   "outputs": [],
   "source": [
    "@numba.njit(parallel=True)\n",
    "def create_thresholds_jit_parallel(N = 100, average = 25, deviation = 10):\n",
    "    \"\"\"\n",
    "    Inputs:\n",
    "        Sample parameters:\n",
    "          N := total number of agents\n",
    "          a := if a == True all thresholdds below 0 are converted to 0 and all thresholds above 100 are converted to 100, otherwise nothing happens\n",
    "        Normal distribution parameters:\n",
    "          average := average value of the normal distribution\n",
    "          deviation := standard deviation of the normal distribution\n",
    "    \n",
    "    This function creates an array with N threshold values (0 <= x <= 100) according with a normal distribution with the given parameters\n",
    "          \n",
    "    Outputs:      \n",
    "        A np.array with the sorted thresholds values\n",
    "    \n",
    "    \"\"\"\n",
    "    thresholds = np.zeros(N, dtype = 'float64')\n",
    "    \n",
    "    # generating the values\n",
    "    for i in range(N):\n",
    "        threshold = rd.gauss(average, deviation)     # generates a random value according with a normal distribution\n",
    "\n",
    "        # all thresholdds below 0 are converted to 0 and all thresholds above 100 are converted to 100\n",
    "        if threshold < 0:\n",
    "            threshold = 0\n",
    "        elif threshold > 100:\n",
    "            threshold = 100\n",
    "\n",
    "        thresholds[i] = threshold\n",
    "        \n",
    "    thresholds = sorted(thresholds) #sorts the array\n",
    "    \n",
    "    return thresholds"
   ]
  },
  {
   "cell_type": "code",
   "execution_count": 23,
   "metadata": {},
   "outputs": [],
   "source": [
    "@numba.njit\n",
    "def create_thresholds_jit(N = 100, average = 25, deviation = 10):\n",
    "    \"\"\"\n",
    "    Inputs:\n",
    "        Sample parameters:\n",
    "          N := total number of agents\n",
    "          a := if a == True all thresholdds below 0 are converted to 0 and all thresholds above 100 are converted to 100, otherwise nothing happens\n",
    "        Normal distribution parameters:\n",
    "          average := average value of the normal distribution\n",
    "          deviation := standard deviation of the normal distribution\n",
    "    \n",
    "    This function creates an array with N threshold values (0 <= x <= 100) according with a normal distribution with the given parameters\n",
    "          \n",
    "    Outputs:      \n",
    "        A np.array with the sorted thresholds values\n",
    "    \n",
    "    \"\"\"\n",
    "    \n",
    "    thresholds = np.zeros(N, dtype = 'float64')\n",
    "    \n",
    "    # generating the values\n",
    "    for i in range(N):\n",
    "        threshold = rd.gauss(average, deviation)     # generates a random value according with a normal distribution\n",
    "\n",
    "        # all thresholdds below 0 are converted to 0 and all thresholds above 100 are converted to 100\n",
    "        if threshold < 0:\n",
    "            threshold = 0\n",
    "        elif threshold > 100:\n",
    "            threshold = 100\n",
    "\n",
    "        thresholds[i] = threshold\n",
    "        \n",
    "    #thresholds = sorted(thresholds) #sorts the array\n",
    "    \n",
    "    return thresholds"
   ]
  },
  {
   "cell_type": "code",
   "execution_count": 697,
   "metadata": {},
   "outputs": [],
   "source": [
    "# IGUAL #\n",
    "@numba.njit\n",
    "def create_thresholds_jit2(N = 100, average = 25, deviation = 10):\n",
    "    \"\"\"\n",
    "    Inputs:\n",
    "        Sample parameters:\n",
    "          N := total number of agents\n",
    "          a := if a == True all thresholdds below 0 are converted to 0 and all thresholds above 100 are converted to 100, otherwise nothing happens\n",
    "        Normal distribution parameters:\n",
    "          average := average value of the normal distribution\n",
    "          deviation := standard deviation of the normal distribution\n",
    "    \n",
    "    This function creates an array with N threshold values (0 <= x <= 100) according with a normal distribution with the given parameters\n",
    "          \n",
    "    Outputs:      \n",
    "        A np.array with the sorted thresholds values\n",
    "    \n",
    "    \"\"\"\n",
    "    thresholds = numba.typed.List.empty_list(numba.types.float64)\n",
    "    \n",
    "    # generating the values\n",
    "    for i in range(N):\n",
    "        threshold = rd.gauss(average, deviation)     # generates a random value according with a normal distribution\n",
    "\n",
    "        # all thresholdds below 0 are converted to 0 and all thresholds above 100 are converted to 100\n",
    "        if threshold < 0:\n",
    "            threshold = 0\n",
    "        elif threshold > 100:\n",
    "            threshold = 100\n",
    "\n",
    "        thresholds.append(threshold)\n",
    "        \n",
    "    #thresholds = sorted(thresholds) #sorts the array\n",
    "    \n",
    "    return thresholds"
   ]
  },
  {
   "cell_type": "code",
   "execution_count": 492,
   "metadata": {},
   "outputs": [
    {
     "name": "stdout",
     "output_type": "stream",
     "text": [
      "Wall time: 803 ms\n"
     ]
    }
   ],
   "source": [
    "%time _ = create_thresholds_jit_parallel(1000000,10,10)"
   ]
  },
  {
   "cell_type": "code",
   "execution_count": 699,
   "metadata": {},
   "outputs": [
    {
     "data": {
      "text/plain": [
       "array(float64, 1d, C)"
      ]
     },
     "execution_count": 699,
     "metadata": {},
     "output_type": "execute_result"
    }
   ],
   "source": [
    "thresholds = create_thresholds_jit(100,10,10)\n",
    "numba.typeof(thresholds)"
   ]
  },
  {
   "cell_type": "code",
   "execution_count": 494,
   "metadata": {},
   "outputs": [
    {
     "name": "stdout",
     "output_type": "stream",
     "text": [
      "Wall time: 209 ms\n"
     ]
    }
   ],
   "source": [
    "%time _ = create_thresholds_jit2(100000,10,10)"
   ]
  },
  {
   "cell_type": "code",
   "execution_count": 735,
   "metadata": {},
   "outputs": [],
   "source": [
    "@numba.njit\n",
    "def create_agents(N = 100, average = 25, deviation = 10):\n",
    "    \"\"\"\n",
    "    Inputs:\n",
    "        N := total number of agents\n",
    "        average := average value of the normal distribution\n",
    "        deviation := standard deviation of the normal distribution\n",
    "        \n",
    "        The function creates an array of Agents according with the normal distribution of threshold values\n",
    "        \n",
    "    Outputs:\n",
    "        agents := array with all Agents\n",
    "    \n",
    "    \"\"\"\n",
    "    \n",
    "    agents = np.empty(N, dtype=Agent)\n",
    "    \n",
    "    thresholds = create_thresholds_jit(N, average, deviation)\n",
    "    \n",
    "    for i in range(N):\n",
    "        agent = Agent(thresholds[i])\n",
    "        agents[i] = agent\n",
    "        \n",
    "    return agents"
   ]
  },
  {
   "cell_type": "code",
   "execution_count": 737,
   "metadata": {},
   "outputs": [
    {
     "ename": "TypingError",
     "evalue": "Failed in nopython mode pipeline (step: nopython frontend)\n\u001b[1m\u001b[1m\u001b[1mNo implementation of function Function(<built-in function empty>) found for signature:\n \n >>> empty(Literal[int](100), dtype=jitclass.Agent#21e584cf4c8<threshold:int64,wish:int64,sector:int64,state:int64>)\n \nThere are 2 candidate implementations:\n\u001b[1m      - Of which 1 did not match due to:\n      Overload in function 'ol_np_empty': File: numba\\np\\arrayobj.py: Line 4086.\n        With argument(s): '(int64, dtype=jitclass.Agent#21e584cf4c8<threshold:int64,wish:int64,sector:int64,state:int64>)':\u001b[0m\n\u001b[1m       Rejected as the implementation raised a specific error:\n         TypingError: \u001b[1mCannot parse input types to function np.empty(int64, jitclass.Agent#21e584cf4c8<threshold:int64,wish:int64,sector:int64,state:int64>)\u001b[0m\u001b[0m\n  raised from D:\\Anaconda\\lib\\site-packages\\numba\\np\\arrayobj.py:4105\n\u001b[1m      - Of which 1 did not match due to:\n      Overload in function 'ol_np_empty': File: numba\\np\\arrayobj.py: Line 4086.\n        With argument(s): '(Literal[int](100), dtype=jitclass.Agent#21e584cf4c8<threshold:int64,wish:int64,sector:int64,state:int64>)':\u001b[0m\n\u001b[1m       Rejected as the implementation raised a specific error:\n         TypingError: \u001b[1mCannot parse input types to function np.empty(Literal[int](100), jitclass.Agent#21e584cf4c8<threshold:int64,wish:int64,sector:int64,state:int64>)\u001b[0m\u001b[0m\n  raised from D:\\Anaconda\\lib\\site-packages\\numba\\np\\arrayobj.py:4105\n\u001b[0m\n\u001b[0m\u001b[1mDuring: resolving callee type: Function(<built-in function empty>)\u001b[0m\n\u001b[0m\u001b[1mDuring: typing of call at <ipython-input-735-8446062a021c> (16)\n\u001b[0m\n\u001b[1m\nFile \"<ipython-input-735-8446062a021c>\", line 16:\u001b[0m\n\u001b[1mdef create_agents(N = 100, average = 25, deviation = 10):\n    <source elided>\n    \n\u001b[1m    agents = np.empty(N, dtype=Agent)\n\u001b[0m    \u001b[1m^\u001b[0m\u001b[0m\n",
     "output_type": "error",
     "traceback": [
      "\u001b[1;31m---------------------------------------------------------------------------\u001b[0m",
      "\u001b[1;31mTypingError\u001b[0m                               Traceback (most recent call last)",
      "\u001b[1;32m<ipython-input-737-d87ee39bc3d1>\u001b[0m in \u001b[0;36m<module>\u001b[1;34m\u001b[0m\n\u001b[1;32m----> 1\u001b[1;33m \u001b[0magents\u001b[0m \u001b[1;33m=\u001b[0m \u001b[0mcreate_agents\u001b[0m\u001b[1;33m(\u001b[0m\u001b[1;33m)\u001b[0m\u001b[1;33m\u001b[0m\u001b[1;33m\u001b[0m\u001b[0m\n\u001b[0m",
      "\u001b[1;32mD:\\Anaconda\\lib\\site-packages\\numba\\core\\dispatcher.py\u001b[0m in \u001b[0;36m_compile_for_args\u001b[1;34m(self, *args, **kws)\u001b[0m\n\u001b[0;32m    466\u001b[0m                 \u001b[0me\u001b[0m\u001b[1;33m.\u001b[0m\u001b[0mpatch_message\u001b[0m\u001b[1;33m(\u001b[0m\u001b[0mmsg\u001b[0m\u001b[1;33m)\u001b[0m\u001b[1;33m\u001b[0m\u001b[1;33m\u001b[0m\u001b[0m\n\u001b[0;32m    467\u001b[0m \u001b[1;33m\u001b[0m\u001b[0m\n\u001b[1;32m--> 468\u001b[1;33m             \u001b[0merror_rewrite\u001b[0m\u001b[1;33m(\u001b[0m\u001b[0me\u001b[0m\u001b[1;33m,\u001b[0m \u001b[1;34m'typing'\u001b[0m\u001b[1;33m)\u001b[0m\u001b[1;33m\u001b[0m\u001b[1;33m\u001b[0m\u001b[0m\n\u001b[0m\u001b[0;32m    469\u001b[0m         \u001b[1;32mexcept\u001b[0m \u001b[0merrors\u001b[0m\u001b[1;33m.\u001b[0m\u001b[0mUnsupportedError\u001b[0m \u001b[1;32mas\u001b[0m \u001b[0me\u001b[0m\u001b[1;33m:\u001b[0m\u001b[1;33m\u001b[0m\u001b[1;33m\u001b[0m\u001b[0m\n\u001b[0;32m    470\u001b[0m             \u001b[1;31m# Something unsupported is present in the user code, add help info\u001b[0m\u001b[1;33m\u001b[0m\u001b[1;33m\u001b[0m\u001b[1;33m\u001b[0m\u001b[0m\n",
      "\u001b[1;32mD:\\Anaconda\\lib\\site-packages\\numba\\core\\dispatcher.py\u001b[0m in \u001b[0;36merror_rewrite\u001b[1;34m(e, issue_type)\u001b[0m\n\u001b[0;32m    407\u001b[0m                 \u001b[1;32mraise\u001b[0m \u001b[0me\u001b[0m\u001b[1;33m\u001b[0m\u001b[1;33m\u001b[0m\u001b[0m\n\u001b[0;32m    408\u001b[0m             \u001b[1;32melse\u001b[0m\u001b[1;33m:\u001b[0m\u001b[1;33m\u001b[0m\u001b[1;33m\u001b[0m\u001b[0m\n\u001b[1;32m--> 409\u001b[1;33m                 \u001b[1;32mraise\u001b[0m \u001b[0me\u001b[0m\u001b[1;33m.\u001b[0m\u001b[0mwith_traceback\u001b[0m\u001b[1;33m(\u001b[0m\u001b[1;32mNone\u001b[0m\u001b[1;33m)\u001b[0m\u001b[1;33m\u001b[0m\u001b[1;33m\u001b[0m\u001b[0m\n\u001b[0m\u001b[0;32m    410\u001b[0m \u001b[1;33m\u001b[0m\u001b[0m\n\u001b[0;32m    411\u001b[0m         \u001b[0margtypes\u001b[0m \u001b[1;33m=\u001b[0m \u001b[1;33m[\u001b[0m\u001b[1;33m]\u001b[0m\u001b[1;33m\u001b[0m\u001b[1;33m\u001b[0m\u001b[0m\n",
      "\u001b[1;31mTypingError\u001b[0m: Failed in nopython mode pipeline (step: nopython frontend)\n\u001b[1m\u001b[1m\u001b[1mNo implementation of function Function(<built-in function empty>) found for signature:\n \n >>> empty(Literal[int](100), dtype=jitclass.Agent#21e584cf4c8<threshold:int64,wish:int64,sector:int64,state:int64>)\n \nThere are 2 candidate implementations:\n\u001b[1m      - Of which 1 did not match due to:\n      Overload in function 'ol_np_empty': File: numba\\np\\arrayobj.py: Line 4086.\n        With argument(s): '(int64, dtype=jitclass.Agent#21e584cf4c8<threshold:int64,wish:int64,sector:int64,state:int64>)':\u001b[0m\n\u001b[1m       Rejected as the implementation raised a specific error:\n         TypingError: \u001b[1mCannot parse input types to function np.empty(int64, jitclass.Agent#21e584cf4c8<threshold:int64,wish:int64,sector:int64,state:int64>)\u001b[0m\u001b[0m\n  raised from D:\\Anaconda\\lib\\site-packages\\numba\\np\\arrayobj.py:4105\n\u001b[1m      - Of which 1 did not match due to:\n      Overload in function 'ol_np_empty': File: numba\\np\\arrayobj.py: Line 4086.\n        With argument(s): '(Literal[int](100), dtype=jitclass.Agent#21e584cf4c8<threshold:int64,wish:int64,sector:int64,state:int64>)':\u001b[0m\n\u001b[1m       Rejected as the implementation raised a specific error:\n         TypingError: \u001b[1mCannot parse input types to function np.empty(Literal[int](100), jitclass.Agent#21e584cf4c8<threshold:int64,wish:int64,sector:int64,state:int64>)\u001b[0m\u001b[0m\n  raised from D:\\Anaconda\\lib\\site-packages\\numba\\np\\arrayobj.py:4105\n\u001b[0m\n\u001b[0m\u001b[1mDuring: resolving callee type: Function(<built-in function empty>)\u001b[0m\n\u001b[0m\u001b[1mDuring: typing of call at <ipython-input-735-8446062a021c> (16)\n\u001b[0m\n\u001b[1m\nFile \"<ipython-input-735-8446062a021c>\", line 16:\u001b[0m\n\u001b[1mdef create_agents(N = 100, average = 25, deviation = 10):\n    <source elided>\n    \n\u001b[1m    agents = np.empty(N, dtype=Agent)\n\u001b[0m    \u001b[1m^\u001b[0m\u001b[0m\n"
     ]
    }
   ],
   "source": [
    "agents = create_agents()"
   ]
  },
  {
   "cell_type": "code",
   "execution_count": 22,
   "metadata": {},
   "outputs": [],
   "source": [
    "@numba.njit\n",
    "def create_agents_jit(N = 100, average = 25, deviation = 10):\n",
    "    \"\"\"\n",
    "    Inputs:\n",
    "        N := total number of agents\n",
    "        average := average value of the normal distribution\n",
    "        deviation := standard deviation of the normal distribution\n",
    "        \n",
    "        The function creates an array of Agents according with the normal distribution of threshold values\n",
    "        \n",
    "    Outputs:\n",
    "        agents := array with all Agents\n",
    "    \n",
    "    \"\"\"\n",
    "    \n",
    "    agents = numba.typed.List()\n",
    "    \n",
    "    thresholds = create_thresholds_jit(N, average, deviation)\n",
    "    \n",
    "    for i in range(N):\n",
    "        agents.append(Agent(thresholds[i]))\n",
    "        \n",
    "    return agents"
   ]
  },
  {
   "cell_type": "code",
   "execution_count": 24,
   "metadata": {},
   "outputs": [
    {
     "data": {
      "text/plain": [
       "ListType[instance.jitclass.Agent#21c86bdc508<threshold:int64,wish:int64,sector:int64,state:int64>]"
      ]
     },
     "execution_count": 24,
     "metadata": {},
     "output_type": "execute_result"
    }
   ],
   "source": [
    "agents = create_agents_jit(100,25,10)\n",
    "numba.typeof(agents)"
   ]
  },
  {
   "cell_type": "code",
   "execution_count": 25,
   "metadata": {},
   "outputs": [],
   "source": [
    "agents = numba.typed.List()"
   ]
  },
  {
   "cell_type": "code",
   "execution_count": 26,
   "metadata": {},
   "outputs": [
    {
     "name": "stdout",
     "output_type": "stream",
     "text": [
      "Wall time: 1 ms\n"
     ]
    }
   ],
   "source": [
    "%time _ = create_agents_jit(100,10,10)"
   ]
  },
  {
   "cell_type": "code",
   "execution_count": 612,
   "metadata": {},
   "outputs": [
    {
     "name": "stdout",
     "output_type": "stream",
     "text": [
      "Wall time: 0 ns\n"
     ]
    }
   ],
   "source": [
    "agents = create_agents_jit(100,0,10)\n",
    "%time _ = create_agents_jit(100,10,10)"
   ]
  },
  {
   "cell_type": "code",
   "execution_count": 154,
   "metadata": {},
   "outputs": [],
   "source": [
    "@numba.njit\n",
    "def creat_agent_jit(N):\n",
    "    agents = numba.typed.List()\n",
    "    for i in range(N):\n",
    "        agent = Agent(10)\n",
    "        agents.append(agent)\n",
    "\n",
    "    return agent"
   ]
  },
  {
   "cell_type": "code",
   "execution_count": 155,
   "metadata": {},
   "outputs": [],
   "source": [
    "def creat_agent(N):\n",
    "    agents = np.empty(N, dtype = Agent)\n",
    "    for i in range(N):\n",
    "        agent = Agent(10)\n",
    "        agents[i]= agent\n",
    "\n",
    "    return agent"
   ]
  },
  {
   "cell_type": "code",
   "execution_count": 156,
   "metadata": {},
   "outputs": [
    {
     "name": "stdout",
     "output_type": "stream",
     "text": [
      "Wall time: 289 ms\n"
     ]
    }
   ],
   "source": [
    "%time _ = creat_agent_jit(100000)"
   ]
  },
  {
   "cell_type": "code",
   "execution_count": 157,
   "metadata": {},
   "outputs": [
    {
     "name": "stdout",
     "output_type": "stream",
     "text": [
      "Wall time: 1.21 s\n"
     ]
    }
   ],
   "source": [
    "%time _ = creat_agent(100000)"
   ]
  },
  {
   "cell_type": "code",
   "execution_count": 537,
   "metadata": {},
   "outputs": [],
   "source": [
    "def simulate_riot(thresholds):\n",
    "    \n",
    "    riot_size = 0\n",
    "    progression = np.zeros(len(thresholds)+1)    # array that stores the riot's evolution over time\n",
    "    aux = 0\n",
    "    \n",
    "    while True:\n",
    "        for i in range(1,len(thresholds)):\n",
    "            if thresholds[i] <= riot_size: # check all Agents and counts which of them enters the riot\n",
    "                aux += 1\n",
    "        progression[i] = aux\n",
    "        if riot_size == aux:   # if the riot size doesn't change in a time step it is stable\n",
    "            break\n",
    "        riot_size = aux\n",
    "        aux = 0\n",
    "        \n",
    "    return [progression, riot_size]"
   ]
  },
  {
   "cell_type": "code",
   "execution_count": 538,
   "metadata": {},
   "outputs": [],
   "source": [
    "@numba.njit(numba.int64[:](numba.float64[:]))\n",
    "def simulate_riot_jit(thresholds):\n",
    "    \n",
    "    riot_size = 0\n",
    "    progression = np.zeros(len(thresholds)+1, dtype = np.int64)    # array that stores the riot's evolution over time\n",
    "    aux = 0\n",
    "    \n",
    "    while True:\n",
    "        for i in range(1,len(thresholds)):\n",
    "            if thresholds[i] <= riot_size: # check all Agents and counts which of them enters the riot\n",
    "                aux += 1\n",
    "        progression[i] = aux\n",
    "        if riot_size == aux:   # if the riot size doesn't change in a time step it is stable\n",
    "            break\n",
    "        riot_size = aux\n",
    "        aux = 0\n",
    "        \n",
    "    return progression"
   ]
  },
  {
   "cell_type": "code",
   "execution_count": 539,
   "metadata": {},
   "outputs": [],
   "source": [
    "@numba.njit(numba.float64[:](numba.int64,numba.int64,numba.int64))\n",
    "def create_thresholds_jit(N = 100, average = 25, deviation = 10):\n",
    "    thresholds = np.zeros(N)\n",
    "    \n",
    "    # generating the values\n",
    "    for i in range(N):\n",
    "        threshold = rd.gauss(average, deviation)     # generates a random value according with a normal distribution\n",
    "\n",
    "        if threshold < 0:\n",
    "            threshold = 0\n",
    "        elif threshold > 100:\n",
    "            threshold = 100\n",
    "\n",
    "        thresholds[i] = threshold\n",
    "        \n",
    "    #thresholds = sorted(thresholds) #sorts the array\n",
    "    \n",
    "    return thresholds"
   ]
  },
  {
   "cell_type": "code",
   "execution_count": 540,
   "metadata": {},
   "outputs": [
    {
     "name": "stdout",
     "output_type": "stream",
     "text": [
      "Wall time: 0 ns\n"
     ]
    }
   ],
   "source": [
    "%time _ = simulate_riot(thresholds)"
   ]
  },
  {
   "cell_type": "code",
   "execution_count": 541,
   "metadata": {},
   "outputs": [],
   "source": [
    "from numba import typeof, types"
   ]
  },
  {
   "cell_type": "code",
   "execution_count": 542,
   "metadata": {},
   "outputs": [
    {
     "data": {
      "text/plain": [
       "'0.56.2'"
      ]
     },
     "execution_count": 542,
     "metadata": {},
     "output_type": "execute_result"
    }
   ],
   "source": [
    "numba.__version__"
   ]
  },
  {
   "cell_type": "code",
   "execution_count": null,
   "metadata": {},
   "outputs": [],
   "source": []
  },
  {
   "cell_type": "code",
   "execution_count": 543,
   "metadata": {},
   "outputs": [
    {
     "name": "stdout",
     "output_type": "stream",
     "text": [
      "array(float64, 1d, C)\n",
      "typeref[array(float32, 1d, C)]\n"
     ]
    }
   ],
   "source": [
    "print(numba.typeof(np.empty(10)))\n",
    "print(numba.typeof(numba.float32[::1]))"
   ]
  },
  {
   "cell_type": "code",
   "execution_count": 544,
   "metadata": {},
   "outputs": [],
   "source": [
    "thresholds = create_thresholds_jit(100000,25,10)"
   ]
  },
  {
   "cell_type": "code",
   "execution_count": 545,
   "metadata": {},
   "outputs": [
    {
     "name": "stdout",
     "output_type": "stream",
     "text": [
      "Wall time: 982 µs\n"
     ]
    }
   ],
   "source": [
    "%time _ = simulate_riot_jit(np.array(thresholds))"
   ]
  },
  {
   "cell_type": "code",
   "execution_count": null,
   "metadata": {},
   "outputs": [],
   "source": []
  },
  {
   "cell_type": "code",
   "execution_count": 546,
   "metadata": {},
   "outputs": [
    {
     "data": {
      "text/plain": [
       "array(int32, 1d, C)"
      ]
     },
     "execution_count": 546,
     "metadata": {},
     "output_type": "execute_result"
    }
   ],
   "source": [
    "a= np.array([10,10,11,12,13,8])\n",
    "typeof(a)"
   ]
  },
  {
   "cell_type": "code",
   "execution_count": 547,
   "metadata": {},
   "outputs": [],
   "source": [
    "def simulate_riot_stochastic(agents, steps = 100):\n",
    "    \"\"\"\n",
    "    Inputs:\n",
    "        agents := Agents array\n",
    "        steps := number of the simulation's time steps\n",
    "    \n",
    "    This function calculates the size of an riot according with the stochastic threshold model: The Agent has a higher probability of entering the riot if its threshold value \n",
    "    is less or equal to the number (or percentage) of people rioting, and has a low probability of entering the riot if its threshold value is less than the number (or percentage)\n",
    "    of people rioting.\n",
    "    \n",
    "    Outputs:\n",
    "        A \"answer\" np.array with two elements:\n",
    "            answer[0] := array with the riot's evolution over time\n",
    "            answer[1] := riot's final size\n",
    "    \n",
    "    \"\"\"\n",
    "    \n",
    "    riot_size = 0\n",
    "    progression = np.zeros(steps+1)              # array that stores the riot's evolution over time\n",
    "    \n",
    "    for i in range(1,steps+1):\n",
    "        for agent in agents:\n",
    "            riot_size += agent.update_state(riot_size)\n",
    "            \n",
    "        progression[i] = riot_size\n",
    "        \n",
    "    return progression"
   ]
  },
  {
   "cell_type": "code",
   "execution_count": 548,
   "metadata": {},
   "outputs": [],
   "source": [
    "@numba.njit\n",
    "def simulate_riot_stochastic_jit(agents, steps = 100):\n",
    "    \"\"\"\n",
    "    Inputs:\n",
    "        agents := Agents array\n",
    "        steps := number of the simulation's time steps\n",
    "    \n",
    "    This function calculates the size of an riot according with the stochastic threshold model: The Agent has a higher probability of entering the riot if its threshold value \n",
    "    is less or equal to the number (or percentage) of people rioting, and has a low probability of entering the riot if its threshold value is less than the number (or percentage)\n",
    "    of people rioting.\n",
    "    \n",
    "    Outputs:\n",
    "        A np.array with the sorted thresholds values\n",
    "    \n",
    "    \"\"\"\n",
    "    \n",
    "    riot_size = 0\n",
    "    progression = np.zeros(steps+1)              # array that stores the riot's evolution over time\n",
    "    \n",
    "    for i in range(1,steps+1):\n",
    "        for agent in agents:\n",
    "            riot_size += agent.update_state(riot_size)\n",
    "            \n",
    "        progression[i] = riot_size\n",
    "        \n",
    "    return progression"
   ]
  },
  {
   "cell_type": "code",
   "execution_count": 549,
   "metadata": {},
   "outputs": [
    {
     "data": {
      "image/png": "[encoded data removed]",
      "text/plain": [
       "<Figure size 432x288 with 1 Axes>"
      ]
     },
     "metadata": {
      "needs_background": "light"
     },
     "output_type": "display_data"
    }
   ],
   "source": [
    "agents = create_agents_jit(100, 25, 10)\n",
    "pro = simulate_riot_stochastic_jit(agents)\n",
    "plt.figure()\n",
    "plt.plot(pro)\n",
    "#plt.ylim(-5,105)\n",
    "plt.show()"
   ]
  },
  {
   "cell_type": "code",
   "execution_count": 550,
   "metadata": {},
   "outputs": [],
   "source": [
    "@numba.njit\n",
    "def simulate_riot_stochastic_jit2(agents, steps = 100):\n",
    "    \"\"\"\n",
    "    Inputs:\n",
    "        agents := Agents array\n",
    "        steps := number of the simulation's time steps\n",
    "    \n",
    "    This function calculates the size of an riot according with the stochastic threshold model: The Agent has a higher probability of entering the riot if its threshold value \n",
    "    is less or equal to the number (or percentage) of people rioting, and has a low probability of entering the riot if its threshold value is less than the number (or percentage)\n",
    "    of people rioting.\n",
    "    \n",
    "    Outputs:\n",
    "        A np.array with the sorted thresholds values\n",
    "    \n",
    "    \"\"\"\n",
    "    \n",
    "    riot_size = 0\n",
    "    progression = np.zeros(steps+1)              # array that stores the riot's evolution over time\n",
    "    aux = 0\n",
    "    \n",
    "    for i in range(1,steps+1):\n",
    "        for agent in agents:\n",
    "            aux += agent.update_state(riot_size)\n",
    "        \n",
    "        \n",
    "        if aux == 0:\n",
    "            break\n",
    "            \n",
    "        riot_size += aux            \n",
    "        progression[i] = riot_size\n",
    "        aux = 0\n",
    "        \n",
    "    return progression[:i]"
   ]
  },
  {
   "cell_type": "code",
   "execution_count": 551,
   "metadata": {},
   "outputs": [
    {
     "data": {
      "image/png": "[encoded data removed]",
      "text/plain": [
       "<Figure size 432x288 with 1 Axes>"
      ]
     },
     "metadata": {
      "needs_background": "light"
     },
     "output_type": "display_data"
    }
   ],
   "source": [
    "agents = create_agents_jit(100, 25, 10)\n",
    "pro = simulate_riot_stochastic_jit2(agents)\n",
    "plt.figure()\n",
    "plt.plot(pro)\n",
    "#plt.ylim(-5,105)\n",
    "plt.show()"
   ]
  },
  {
   "cell_type": "code",
   "execution_count": 12,
   "metadata": {},
   "outputs": [],
   "source": [
    "@njit\n",
    "def simulate_riot_stochastic_exit(agents, steps = 100):\n",
    "    \"\"\"\n",
    "    Inputs:\n",
    "        agents := Agents array\n",
    "        steps := number of the simulation's time steps\n",
    "    \n",
    "    This function calculates the size of an riot according with the stochastic threshold model: The Agent has a higher probability of entering the riot if its threshold value is less or equal to the number\n",
    "    (or percentage) of people rioting, and has a low probability of entering the riot if its threshold value is less than the number (or percentage) of people rioting. Moreover, there is a chance of an Agent\n",
    "    to exit the riot according to a logistic function.\n",
    "    \n",
    "    Outputs:\n",
    "        A np.array with the sorted thresholds values\n",
    "    \n",
    "    \"\"\"\n",
    "    \n",
    "    riot_size = 0\n",
    "    progression = np.zeros(steps+1)                                     # array that stores the riot's evolution over time\n",
    "    \n",
    "    for i in range(1,steps+1):\n",
    "        for agent in agents:\n",
    "            riot_size += agent.update_state_exit(riot_size)\n",
    "\n",
    "        progression[i] = riot_size\n",
    "        \n",
    "    return progression"
   ]
  },
  {
   "cell_type": "code",
   "execution_count": 30,
   "metadata": {},
   "outputs": [
    {
     "data": {
      "image/png": "[encoded data removed]",
      "text/plain": [
       "<Figure size 432x288 with 1 Axes>"
      ]
     },
     "metadata": {
      "needs_background": "light"
     },
     "output_type": "display_data"
    }
   ],
   "source": [
    "agents = create_agents_jit(100, 30, 10)\n",
    "pro = simulate_riot_stochastic_exit(agents)\n",
    "plt.figure()\n",
    "plt.plot(pro)\n",
    "plt.ylim(-5,105)\n",
    "plt.show()"
   ]
  },
  {
   "cell_type": "code",
   "execution_count": 31,
   "metadata": {},
   "outputs": [],
   "source": [
    "@numba.njit\n",
    "def simulate_riot_sectors(system, steps = 50):\n",
    "    \"\"\"\n",
    "    Inputs:\n",
    "        system := System class variable that contains all Agents\n",
    "        steps := number of the simulation's time steps\n",
    "    \n",
    "    This functions simulates a set of 2 simultaneous riots that occur in 2 distinct sectors using the stochastic threshold model. There are a set of Agents in a reservoir that can\n",
    "    enter sectors 0 or 1 to riot. Each sector has a size, so the thrsehold of each Agent is based on the number of Agents rioting in a sector compared with the number of Agents that\n",
    "    can be in that sector.\n",
    "     \n",
    "    \n",
    "    Outpurs:\n",
    "         A np.array \"progression\" that contains the time evolution of each riots over time.\n",
    "         \n",
    "    \"\"\"\n",
    "\n",
    "    progression = np.zeros((2,steps+1), dtype = np.int64)              # array that stores the riot's evolution over time\n",
    "    \n",
    "    for i in range(1,steps+1):\n",
    "        system.update_wishes_reservoir()             # check reservoir Agents (enter riot)\n",
    "        system.update_reservoir()                    # move Agents from reservoir\n",
    "           \n",
    "        progression[0][i] = len(system.sector0)\n",
    "        progression[1][i] = len(system.sector1)\n",
    "            \n",
    "    return progression"
   ]
  },
  {
   "cell_type": "code",
   "execution_count": 32,
   "metadata": {},
   "outputs": [
    {
     "name": "stdout",
     "output_type": "stream",
     "text": [
      "ListType[instance.jitclass.Agent#21c86bdc508<threshold:int64,wish:int64,sector:int64,state:int64>]\n"
     ]
    },
    {
     "ename": "TypingError",
     "evalue": "Failed in nopython mode pipeline (step: nopython frontend)\n\u001b[1m\u001b[1m\u001b[1m\u001b[1mFailed in nopython mode pipeline (step: nopython frontend)\n\u001b[1mCannot infer the type of variable '$14call_method.5' (temporary variable), have imprecise type: ListType[undefined]. \n\u001b[1m\nFile \"<ipython-input-6-903dff0c8eb9>\", line 15:\u001b[0m\n\u001b[1m    def __init__(self, agents, sector0_size, sector1_size):\n        <source elided>\n        self.reservoir = agents\n\u001b[1m        self.sector0 = numba.typed.List()\n\u001b[0m        \u001b[1m^\u001b[0m\u001b[0m\n\u001b[0m\n\u001b[0m\u001b[1mDuring: resolving callee type: jitclass.System#21c8599d348<reservoir:reflected list(instance.jitclass.Agent#21c86bdc508<threshold:int64,wish:int64,sector:int64,state:int64>)<iv=None>,sector0:list(instance.jitclass.Agent#21c86bdc508<threshold:int64,wish:int64,sector:int64,state:int64>)<iv=None>,sector0_size:int64,sector1:list(instance.jitclass.Agent#21c86bdc508<threshold:int64,wish:int64,sector:int64,state:int64>)<iv=None>,sector1_size:int64>\u001b[0m\n\u001b[0m\u001b[1mDuring: typing of call at <string> (3)\n\u001b[0m\n\u001b[0m\u001b[1mDuring: resolving callee type: jitclass.System#21c8599d348<reservoir:reflected list(instance.jitclass.Agent#21c86bdc508<threshold:int64,wish:int64,sector:int64,state:int64>)<iv=None>,sector0:list(instance.jitclass.Agent#21c86bdc508<threshold:int64,wish:int64,sector:int64,state:int64>)<iv=None>,sector0_size:int64,sector1:list(instance.jitclass.Agent#21c86bdc508<threshold:int64,wish:int64,sector:int64,state:int64>)<iv=None>,sector1_size:int64>\u001b[0m\n\u001b[0m\u001b[1mDuring: typing of call at <string> (3)\n\u001b[0m\n\u001b[1m\nFile \"<string>\", line 3:\u001b[0m\n\u001b[1m<source missing, REPL/exec in use?>\u001b[0m\n",
     "output_type": "error",
     "traceback": [
      "\u001b[1;31m---------------------------------------------------------------------------\u001b[0m",
      "\u001b[1;31mTypingError\u001b[0m                               Traceback (most recent call last)",
      "\u001b[1;32m<ipython-input-32-f51a52673c25>\u001b[0m in \u001b[0;36m<module>\u001b[1;34m\u001b[0m\n\u001b[0;32m      8\u001b[0m \u001b[0msector1_size\u001b[0m \u001b[1;33m=\u001b[0m \u001b[1;36m100\u001b[0m\u001b[1;33m\u001b[0m\u001b[1;33m\u001b[0m\u001b[0m\n\u001b[0;32m      9\u001b[0m \u001b[1;33m\u001b[0m\u001b[0m\n\u001b[1;32m---> 10\u001b[1;33m \u001b[0msystem\u001b[0m \u001b[1;33m=\u001b[0m \u001b[0mSystem\u001b[0m\u001b[1;33m(\u001b[0m\u001b[0magents\u001b[0m\u001b[1;33m,\u001b[0m \u001b[0msector0_size\u001b[0m\u001b[1;33m,\u001b[0m \u001b[0msector1_size\u001b[0m\u001b[1;33m)\u001b[0m\u001b[1;33m\u001b[0m\u001b[1;33m\u001b[0m\u001b[0m\n\u001b[0m\u001b[0;32m     11\u001b[0m \u001b[1;33m\u001b[0m\u001b[0m\n\u001b[0;32m     12\u001b[0m \u001b[0msteps\u001b[0m \u001b[1;33m=\u001b[0m \u001b[1;36m100\u001b[0m\u001b[1;33m\u001b[0m\u001b[1;33m\u001b[0m\u001b[0m\n",
      "\u001b[1;32mD:\\Anaconda\\lib\\site-packages\\numba\\experimental\\jitclass\\base.py\u001b[0m in \u001b[0;36m__call__\u001b[1;34m(cls, *args, **kwargs)\u001b[0m\n\u001b[0;32m    122\u001b[0m         \u001b[0mbind\u001b[0m \u001b[1;33m=\u001b[0m \u001b[0mcls\u001b[0m\u001b[1;33m.\u001b[0m\u001b[0m_ctor_sig\u001b[0m\u001b[1;33m.\u001b[0m\u001b[0mbind\u001b[0m\u001b[1;33m(\u001b[0m\u001b[1;32mNone\u001b[0m\u001b[1;33m,\u001b[0m \u001b[1;33m*\u001b[0m\u001b[0margs\u001b[0m\u001b[1;33m,\u001b[0m \u001b[1;33m**\u001b[0m\u001b[0mkwargs\u001b[0m\u001b[1;33m)\u001b[0m\u001b[1;33m\u001b[0m\u001b[1;33m\u001b[0m\u001b[0m\n\u001b[0;32m    123\u001b[0m         \u001b[0mbind\u001b[0m\u001b[1;33m.\u001b[0m\u001b[0mapply_defaults\u001b[0m\u001b[1;33m(\u001b[0m\u001b[1;33m)\u001b[0m\u001b[1;33m\u001b[0m\u001b[1;33m\u001b[0m\u001b[0m\n\u001b[1;32m--> 124\u001b[1;33m         \u001b[1;32mreturn\u001b[0m \u001b[0mcls\u001b[0m\u001b[1;33m.\u001b[0m\u001b[0m_ctor\u001b[0m\u001b[1;33m(\u001b[0m\u001b[1;33m*\u001b[0m\u001b[0mbind\u001b[0m\u001b[1;33m.\u001b[0m\u001b[0margs\u001b[0m\u001b[1;33m[\u001b[0m\u001b[1;36m1\u001b[0m\u001b[1;33m:\u001b[0m\u001b[1;33m]\u001b[0m\u001b[1;33m,\u001b[0m \u001b[1;33m**\u001b[0m\u001b[0mbind\u001b[0m\u001b[1;33m.\u001b[0m\u001b[0mkwargs\u001b[0m\u001b[1;33m)\u001b[0m\u001b[1;33m\u001b[0m\u001b[1;33m\u001b[0m\u001b[0m\n\u001b[0m\u001b[0;32m    125\u001b[0m \u001b[1;33m\u001b[0m\u001b[0m\n\u001b[0;32m    126\u001b[0m \u001b[1;33m\u001b[0m\u001b[0m\n",
      "\u001b[1;32mD:\\Anaconda\\lib\\site-packages\\numba\\core\\dispatcher.py\u001b[0m in \u001b[0;36m_compile_for_args\u001b[1;34m(self, *args, **kws)\u001b[0m\n\u001b[0;32m    466\u001b[0m                 \u001b[0me\u001b[0m\u001b[1;33m.\u001b[0m\u001b[0mpatch_message\u001b[0m\u001b[1;33m(\u001b[0m\u001b[0mmsg\u001b[0m\u001b[1;33m)\u001b[0m\u001b[1;33m\u001b[0m\u001b[1;33m\u001b[0m\u001b[0m\n\u001b[0;32m    467\u001b[0m \u001b[1;33m\u001b[0m\u001b[0m\n\u001b[1;32m--> 468\u001b[1;33m             \u001b[0merror_rewrite\u001b[0m\u001b[1;33m(\u001b[0m\u001b[0me\u001b[0m\u001b[1;33m,\u001b[0m \u001b[1;34m'typing'\u001b[0m\u001b[1;33m)\u001b[0m\u001b[1;33m\u001b[0m\u001b[1;33m\u001b[0m\u001b[0m\n\u001b[0m\u001b[0;32m    469\u001b[0m         \u001b[1;32mexcept\u001b[0m \u001b[0merrors\u001b[0m\u001b[1;33m.\u001b[0m\u001b[0mUnsupportedError\u001b[0m \u001b[1;32mas\u001b[0m \u001b[0me\u001b[0m\u001b[1;33m:\u001b[0m\u001b[1;33m\u001b[0m\u001b[1;33m\u001b[0m\u001b[0m\n\u001b[0;32m    470\u001b[0m             \u001b[1;31m# Something unsupported is present in the user code, add help info\u001b[0m\u001b[1;33m\u001b[0m\u001b[1;33m\u001b[0m\u001b[1;33m\u001b[0m\u001b[0m\n",
      "\u001b[1;32mD:\\Anaconda\\lib\\site-packages\\numba\\core\\dispatcher.py\u001b[0m in \u001b[0;36merror_rewrite\u001b[1;34m(e, issue_type)\u001b[0m\n\u001b[0;32m    407\u001b[0m                 \u001b[1;32mraise\u001b[0m \u001b[0me\u001b[0m\u001b[1;33m\u001b[0m\u001b[1;33m\u001b[0m\u001b[0m\n\u001b[0;32m    408\u001b[0m             \u001b[1;32melse\u001b[0m\u001b[1;33m:\u001b[0m\u001b[1;33m\u001b[0m\u001b[1;33m\u001b[0m\u001b[0m\n\u001b[1;32m--> 409\u001b[1;33m                 \u001b[1;32mraise\u001b[0m \u001b[0me\u001b[0m\u001b[1;33m.\u001b[0m\u001b[0mwith_traceback\u001b[0m\u001b[1;33m(\u001b[0m\u001b[1;32mNone\u001b[0m\u001b[1;33m)\u001b[0m\u001b[1;33m\u001b[0m\u001b[1;33m\u001b[0m\u001b[0m\n\u001b[0m\u001b[0;32m    410\u001b[0m \u001b[1;33m\u001b[0m\u001b[0m\n\u001b[0;32m    411\u001b[0m         \u001b[0margtypes\u001b[0m \u001b[1;33m=\u001b[0m \u001b[1;33m[\u001b[0m\u001b[1;33m]\u001b[0m\u001b[1;33m\u001b[0m\u001b[1;33m\u001b[0m\u001b[0m\n",
      "\u001b[1;31mTypingError\u001b[0m: Failed in nopython mode pipeline (step: nopython frontend)\n\u001b[1m\u001b[1m\u001b[1m\u001b[1mFailed in nopython mode pipeline (step: nopython frontend)\n\u001b[1mCannot infer the type of variable '$14call_method.5' (temporary variable), have imprecise type: ListType[undefined]. \n\u001b[1m\nFile \"<ipython-input-6-903dff0c8eb9>\", line 15:\u001b[0m\n\u001b[1m    def __init__(self, agents, sector0_size, sector1_size):\n        <source elided>\n        self.reservoir = agents\n\u001b[1m        self.sector0 = numba.typed.List()\n\u001b[0m        \u001b[1m^\u001b[0m\u001b[0m\n\u001b[0m\n\u001b[0m\u001b[1mDuring: resolving callee type: jitclass.System#21c8599d348<reservoir:reflected list(instance.jitclass.Agent#21c86bdc508<threshold:int64,wish:int64,sector:int64,state:int64>)<iv=None>,sector0:list(instance.jitclass.Agent#21c86bdc508<threshold:int64,wish:int64,sector:int64,state:int64>)<iv=None>,sector0_size:int64,sector1:list(instance.jitclass.Agent#21c86bdc508<threshold:int64,wish:int64,sector:int64,state:int64>)<iv=None>,sector1_size:int64>\u001b[0m\n\u001b[0m\u001b[1mDuring: typing of call at <string> (3)\n\u001b[0m\n\u001b[0m\u001b[1mDuring: resolving callee type: jitclass.System#21c8599d348<reservoir:reflected list(instance.jitclass.Agent#21c86bdc508<threshold:int64,wish:int64,sector:int64,state:int64>)<iv=None>,sector0:list(instance.jitclass.Agent#21c86bdc508<threshold:int64,wish:int64,sector:int64,state:int64>)<iv=None>,sector0_size:int64,sector1:list(instance.jitclass.Agent#21c86bdc508<threshold:int64,wish:int64,sector:int64,state:int64>)<iv=None>,sector1_size:int64>\u001b[0m\n\u001b[0m\u001b[1mDuring: typing of call at <string> (3)\n\u001b[0m\n\u001b[1m\nFile \"<string>\", line 3:\u001b[0m\n\u001b[1m<source missing, REPL/exec in use?>\u001b[0m\n"
     ]
    }
   ],
   "source": [
    "N = 200\n",
    "average = 30\n",
    "deviation = 12\n",
    "\n",
    "agents = create_agents_jit(N,average,deviation)\n",
    "print(numba.typeof(agents))\n",
    "sector0_size = 100\n",
    "sector1_size = 100\n",
    "\n",
    "system = System(agents, sector0_size, sector1_size)\n",
    "\n",
    "steps = 100\n",
    "\n",
    "progression = simulate_riot_sectors(system, steps)\n",
    "\n",
    "plt.figure()\n",
    "plt.plot(progression[0])\n",
    "plt.plot(progression[1])\n",
    "plt.ylim(-3,N)\n",
    "plt.show()"
   ]
  },
  {
   "cell_type": "code",
   "execution_count": 202,
   "metadata": {},
   "outputs": [],
   "source": [
    "@numba.njit\n",
    "def simulate_riot_sectors_exit(system, steps = 50):\n",
    "    \"\"\"\n",
    "    Inputs:\n",
    "        system := System class variable that contains all Agents\n",
    "        steps := number of the simulation's time steps\n",
    "    \n",
    "    This functions simulates a set of 2 simultaneous riots that occur in 2 distinct sectors using the stochastic threshold model. There are a set of Agents in a reservoir that can\n",
    "    enter sectors 0 or 1 to riot. Each sector has a size, so the thrsehold of each Agent is based on the number of Agents rioting in a sector compared with the number of Agents that\n",
    "    can be in that sector. In this function, the Agents can exit the riot and return to the reservoir according to a logistic function.\n",
    "     \n",
    "    \n",
    "    Outpurs:\n",
    "         A np.array \"progression\" that contains the time evolution of each riots over time.\n",
    "         \n",
    "    \"\"\"\n",
    "    \n",
    "    progression = np.zeros((2,steps+1))              # array that stores the riot's evolution over time\n",
    "    \n",
    "    for i in range(1,steps+1):\n",
    "        system.update_wishes_reservoir()             # check reservoir Agents (enter riot)\n",
    "        system.update_wishes_sectors_exit()          # check sectors Agents (leave riot)\n",
    "        system.update_reservoir()                    # move Agents from reservoir\n",
    "        system.update_sectors()                      # move Agents from sectors\n",
    "           \n",
    "        progression[0][i] = len(system.sector0)\n",
    "        progression[1][i] = len(system.sector1)\n",
    "            \n",
    "    return progression"
   ]
  },
  {
   "cell_type": "code",
   "execution_count": 238,
   "metadata": {},
   "outputs": [
    {
     "ename": "TypingError",
     "evalue": "Failed in nopython mode pipeline (step: nopython frontend)\n\u001b[1m\u001b[1mnon-precise type pyobject\u001b[0m\n\u001b[0m\u001b[1mDuring: typing of argument at <ipython-input-202-68ffd3bd93d9> (18)\u001b[0m\n\u001b[1m\nFile \"<ipython-input-202-68ffd3bd93d9>\", line 18:\u001b[0m\n\u001b[1mdef simulate_riot_sectors_exit(system, steps = 50):\n    <source elided>\n    \n\u001b[1m    progression = np.zeros((2,steps+1))              # array that stores the riot's evolution over time\n\u001b[0m    \u001b[1m^\u001b[0m\u001b[0m \n\nThis error may have been caused by the following argument(s):\n- argument 0: \u001b[1mCannot determine Numba type of <class 'functions_new.System'>\u001b[0m \n\nThis error may have been caused by the following argument(s):\n- argument 0: \u001b[1mCannot determine Numba type of <class 'functions_new.System'>\u001b[0m \n\nThis error may have been caused by the following argument(s):\n- argument 0: \u001b[1mCannot determine Numba type of <class 'functions_new.System'>\u001b[0m \n\nThis error may have been caused by the following argument(s):\n- argument 0: \u001b[1mCannot determine Numba type of <class 'functions_new.System'>\u001b[0m \n\nThis error may have been caused by the following argument(s):\n- argument 0: \u001b[1mCannot determine Numba type of <class 'functions_new.System'>\u001b[0m \n\nThis error may have been caused by the following argument(s):\n- argument 0: \u001b[1mCannot determine Numba type of <class '__main__.System'>\u001b[0m \n\nThis error may have been caused by the following argument(s):\n- argument 0: \u001b[1mCannot determine Numba type of <class '__main__.System'>\u001b[0m\n",
     "output_type": "error",
     "traceback": [
      "\u001b[1;31m---------------------------------------------------------------------------\u001b[0m",
      "\u001b[1;31mTypingError\u001b[0m                               Traceback (most recent call last)",
      "\u001b[1;32m<ipython-input-238-15513b5fd369>\u001b[0m in \u001b[0;36m<module>\u001b[1;34m\u001b[0m\n\u001b[0;32m     11\u001b[0m \u001b[0msteps\u001b[0m \u001b[1;33m=\u001b[0m \u001b[1;36m100\u001b[0m\u001b[1;33m\u001b[0m\u001b[1;33m\u001b[0m\u001b[0m\n\u001b[0;32m     12\u001b[0m \u001b[1;33m\u001b[0m\u001b[0m\n\u001b[1;32m---> 13\u001b[1;33m \u001b[0mprogression\u001b[0m \u001b[1;33m=\u001b[0m \u001b[0msimulate_riot_sectors_exit\u001b[0m\u001b[1;33m(\u001b[0m\u001b[0msystem\u001b[0m\u001b[1;33m,\u001b[0m \u001b[0msteps\u001b[0m\u001b[1;33m)\u001b[0m\u001b[1;33m\u001b[0m\u001b[1;33m\u001b[0m\u001b[0m\n\u001b[0m\u001b[0;32m     14\u001b[0m \u001b[1;33m\u001b[0m\u001b[0m\n\u001b[0;32m     15\u001b[0m \u001b[1;33m\u001b[0m\u001b[0m\n",
      "\u001b[1;32mD:\\Anaconda\\lib\\site-packages\\numba\\core\\dispatcher.py\u001b[0m in \u001b[0;36m_compile_for_args\u001b[1;34m(self, *args, **kws)\u001b[0m\n\u001b[0;32m    466\u001b[0m                 \u001b[0me\u001b[0m\u001b[1;33m.\u001b[0m\u001b[0mpatch_message\u001b[0m\u001b[1;33m(\u001b[0m\u001b[0mmsg\u001b[0m\u001b[1;33m)\u001b[0m\u001b[1;33m\u001b[0m\u001b[1;33m\u001b[0m\u001b[0m\n\u001b[0;32m    467\u001b[0m \u001b[1;33m\u001b[0m\u001b[0m\n\u001b[1;32m--> 468\u001b[1;33m             \u001b[0merror_rewrite\u001b[0m\u001b[1;33m(\u001b[0m\u001b[0me\u001b[0m\u001b[1;33m,\u001b[0m \u001b[1;34m'typing'\u001b[0m\u001b[1;33m)\u001b[0m\u001b[1;33m\u001b[0m\u001b[1;33m\u001b[0m\u001b[0m\n\u001b[0m\u001b[0;32m    469\u001b[0m         \u001b[1;32mexcept\u001b[0m \u001b[0merrors\u001b[0m\u001b[1;33m.\u001b[0m\u001b[0mUnsupportedError\u001b[0m \u001b[1;32mas\u001b[0m \u001b[0me\u001b[0m\u001b[1;33m:\u001b[0m\u001b[1;33m\u001b[0m\u001b[1;33m\u001b[0m\u001b[0m\n\u001b[0;32m    470\u001b[0m             \u001b[1;31m# Something unsupported is present in the user code, add help info\u001b[0m\u001b[1;33m\u001b[0m\u001b[1;33m\u001b[0m\u001b[1;33m\u001b[0m\u001b[0m\n",
      "\u001b[1;32mD:\\Anaconda\\lib\\site-packages\\numba\\core\\dispatcher.py\u001b[0m in \u001b[0;36merror_rewrite\u001b[1;34m(e, issue_type)\u001b[0m\n\u001b[0;32m    407\u001b[0m                 \u001b[1;32mraise\u001b[0m \u001b[0me\u001b[0m\u001b[1;33m\u001b[0m\u001b[1;33m\u001b[0m\u001b[0m\n\u001b[0;32m    408\u001b[0m             \u001b[1;32melse\u001b[0m\u001b[1;33m:\u001b[0m\u001b[1;33m\u001b[0m\u001b[1;33m\u001b[0m\u001b[0m\n\u001b[1;32m--> 409\u001b[1;33m                 \u001b[1;32mraise\u001b[0m \u001b[0me\u001b[0m\u001b[1;33m.\u001b[0m\u001b[0mwith_traceback\u001b[0m\u001b[1;33m(\u001b[0m\u001b[1;32mNone\u001b[0m\u001b[1;33m)\u001b[0m\u001b[1;33m\u001b[0m\u001b[1;33m\u001b[0m\u001b[0m\n\u001b[0m\u001b[0;32m    410\u001b[0m \u001b[1;33m\u001b[0m\u001b[0m\n\u001b[0;32m    411\u001b[0m         \u001b[0margtypes\u001b[0m \u001b[1;33m=\u001b[0m \u001b[1;33m[\u001b[0m\u001b[1;33m]\u001b[0m\u001b[1;33m\u001b[0m\u001b[1;33m\u001b[0m\u001b[0m\n",
      "\u001b[1;31mTypingError\u001b[0m: Failed in nopython mode pipeline (step: nopython frontend)\n\u001b[1m\u001b[1mnon-precise type pyobject\u001b[0m\n\u001b[0m\u001b[1mDuring: typing of argument at <ipython-input-202-68ffd3bd93d9> (18)\u001b[0m\n\u001b[1m\nFile \"<ipython-input-202-68ffd3bd93d9>\", line 18:\u001b[0m\n\u001b[1mdef simulate_riot_sectors_exit(system, steps = 50):\n    <source elided>\n    \n\u001b[1m    progression = np.zeros((2,steps+1))              # array that stores the riot's evolution over time\n\u001b[0m    \u001b[1m^\u001b[0m\u001b[0m \n\nThis error may have been caused by the following argument(s):\n- argument 0: \u001b[1mCannot determine Numba type of <class 'functions_new.System'>\u001b[0m \n\nThis error may have been caused by the following argument(s):\n- argument 0: \u001b[1mCannot determine Numba type of <class 'functions_new.System'>\u001b[0m \n\nThis error may have been caused by the following argument(s):\n- argument 0: \u001b[1mCannot determine Numba type of <class 'functions_new.System'>\u001b[0m \n\nThis error may have been caused by the following argument(s):\n- argument 0: \u001b[1mCannot determine Numba type of <class 'functions_new.System'>\u001b[0m \n\nThis error may have been caused by the following argument(s):\n- argument 0: \u001b[1mCannot determine Numba type of <class 'functions_new.System'>\u001b[0m \n\nThis error may have been caused by the following argument(s):\n- argument 0: \u001b[1mCannot determine Numba type of <class '__main__.System'>\u001b[0m \n\nThis error may have been caused by the following argument(s):\n- argument 0: \u001b[1mCannot determine Numba type of <class '__main__.System'>\u001b[0m\n"
     ]
    }
   ],
   "source": [
    "N = 200\n",
    "average = 30\n",
    "deviaition = 12\n",
    "\n",
    "sector0_size = 100\n",
    "sector1_size = 100\n",
    "agents0 = create_agents(N,average,deviaition)\n",
    "\n",
    "system = System(agents0, sector0_size, sector1_size)\n",
    "\n",
    "steps = 100\n",
    "\n",
    "progression = simulate_riot_sectors_exit(system, steps)\n",
    "\n",
    "\n",
    "plt.figure()\n",
    "plt.plot(progression[0])\n",
    "plt.plot(progression[1])\n",
    "plt.ylim(-3,N)\n",
    "plt.show()"
   ]
  },
  {
   "cell_type": "code",
   "execution_count": 211,
   "metadata": {},
   "outputs": [],
   "source": [
    "@numba.njit\n",
    "def simulate_riot_sectors_migration(system, steps = 50, migration_probability = 0.01):\n",
    "    \"\"\"\n",
    "    Inputs:\n",
    "        system := System class variable that contains all Agents\n",
    "        steps := number of the simulation's time steps\n",
    "    \n",
    "    This functions simulates a set of 2 simultaneous riots that occur in 2 distinct sectors using the stochastic threshold model. There are a set of Agents in a reservoir that can\n",
    "    enter sectors 0 or 1 to riot. Each sector has a size, so the thrsehold of each Agent is based on the number of Agents rioting in a sector compared with the number of Agents that\n",
    "    can be in that sector. In this function, the Agents in a section can migrate to the other sector with probability equals to \"migration_probability\".\n",
    "     \n",
    "    \n",
    "    Outpurs:\n",
    "         A np.array \"progression\" that contains the time evolution of each riots over time.\n",
    "         \n",
    "    \"\"\"\n",
    "    \n",
    "    progression = np.zeros((2,steps+1))              # array that stores the riot's evolution over time\n",
    "    \n",
    "    for i in range(1,steps+1):\n",
    "        system.update_wishes_reservoir()                                     # check reservoir Agents (enter riot)\n",
    "        system.update_wishes_sectors_migration_random(migration_probability) # check sectors Agents (migrate to other sector)\n",
    "        system.update_reservoir()                                            # move Agents from reservoir\n",
    "        system.update_sectors()                                              # move Agents from sectors\n",
    "           \n",
    "        progression[0][i] = len(system.sector0)\n",
    "        progression[1][i] = len(system.sector1)\n",
    "            \n",
    "    return progression"
   ]
  },
  {
   "cell_type": "code",
   "execution_count": 223,
   "metadata": {},
   "outputs": [
    {
     "ename": "TypingError",
     "evalue": "Failed in nopython mode pipeline (step: nopython frontend)\n\u001b[1m\u001b[1mnon-precise type pyobject\u001b[0m\n\u001b[0m\u001b[1mDuring: typing of argument at <ipython-input-211-85362bb70cbe> (18)\u001b[0m\n\u001b[1m\nFile \"<ipython-input-211-85362bb70cbe>\", line 18:\u001b[0m\n\u001b[1mdef simulate_riot_sectors_migration(system, steps = 50, migration_probability = 0.01):\n    <source elided>\n    \n\u001b[1m    progression = np.zeros((2,steps+1))              # array that stores the riot's evolution over time\n\u001b[0m    \u001b[1m^\u001b[0m\u001b[0m \n\nThis error may have been caused by the following argument(s):\n- argument 0: \u001b[1mCannot determine Numba type of <class 'functions_new.System'>\u001b[0m\n",
     "output_type": "error",
     "traceback": [
      "\u001b[1;31m---------------------------------------------------------------------------\u001b[0m",
      "\u001b[1;31mTypingError\u001b[0m                               Traceback (most recent call last)",
      "\u001b[1;32m<ipython-input-223-1aa6b36e033c>\u001b[0m in \u001b[0;36m<module>\u001b[1;34m\u001b[0m\n\u001b[0;32m     12\u001b[0m \u001b[0msteps\u001b[0m \u001b[1;33m=\u001b[0m \u001b[1;36m100\u001b[0m\u001b[1;33m\u001b[0m\u001b[1;33m\u001b[0m\u001b[0m\n\u001b[0;32m     13\u001b[0m \u001b[1;33m\u001b[0m\u001b[0m\n\u001b[1;32m---> 14\u001b[1;33m \u001b[0mprogression\u001b[0m \u001b[1;33m=\u001b[0m \u001b[0msimulate_riot_sectors_migration\u001b[0m\u001b[1;33m(\u001b[0m\u001b[0msystem\u001b[0m\u001b[1;33m,\u001b[0m \u001b[0msteps\u001b[0m\u001b[1;33m)\u001b[0m\u001b[1;33m\u001b[0m\u001b[1;33m\u001b[0m\u001b[0m\n\u001b[0m\u001b[0;32m     15\u001b[0m \u001b[1;33m\u001b[0m\u001b[0m\n\u001b[0;32m     16\u001b[0m \u001b[1;33m\u001b[0m\u001b[0m\n",
      "\u001b[1;32mD:\\Anaconda\\lib\\site-packages\\numba\\core\\dispatcher.py\u001b[0m in \u001b[0;36m_compile_for_args\u001b[1;34m(self, *args, **kws)\u001b[0m\n\u001b[0;32m    466\u001b[0m                 \u001b[0me\u001b[0m\u001b[1;33m.\u001b[0m\u001b[0mpatch_message\u001b[0m\u001b[1;33m(\u001b[0m\u001b[0mmsg\u001b[0m\u001b[1;33m)\u001b[0m\u001b[1;33m\u001b[0m\u001b[1;33m\u001b[0m\u001b[0m\n\u001b[0;32m    467\u001b[0m \u001b[1;33m\u001b[0m\u001b[0m\n\u001b[1;32m--> 468\u001b[1;33m             \u001b[0merror_rewrite\u001b[0m\u001b[1;33m(\u001b[0m\u001b[0me\u001b[0m\u001b[1;33m,\u001b[0m \u001b[1;34m'typing'\u001b[0m\u001b[1;33m)\u001b[0m\u001b[1;33m\u001b[0m\u001b[1;33m\u001b[0m\u001b[0m\n\u001b[0m\u001b[0;32m    469\u001b[0m         \u001b[1;32mexcept\u001b[0m \u001b[0merrors\u001b[0m\u001b[1;33m.\u001b[0m\u001b[0mUnsupportedError\u001b[0m \u001b[1;32mas\u001b[0m \u001b[0me\u001b[0m\u001b[1;33m:\u001b[0m\u001b[1;33m\u001b[0m\u001b[1;33m\u001b[0m\u001b[0m\n\u001b[0;32m    470\u001b[0m             \u001b[1;31m# Something unsupported is present in the user code, add help info\u001b[0m\u001b[1;33m\u001b[0m\u001b[1;33m\u001b[0m\u001b[1;33m\u001b[0m\u001b[0m\n",
      "\u001b[1;32mD:\\Anaconda\\lib\\site-packages\\numba\\core\\dispatcher.py\u001b[0m in \u001b[0;36merror_rewrite\u001b[1;34m(e, issue_type)\u001b[0m\n\u001b[0;32m    407\u001b[0m                 \u001b[1;32mraise\u001b[0m \u001b[0me\u001b[0m\u001b[1;33m\u001b[0m\u001b[1;33m\u001b[0m\u001b[0m\n\u001b[0;32m    408\u001b[0m             \u001b[1;32melse\u001b[0m\u001b[1;33m:\u001b[0m\u001b[1;33m\u001b[0m\u001b[1;33m\u001b[0m\u001b[0m\n\u001b[1;32m--> 409\u001b[1;33m                 \u001b[1;32mraise\u001b[0m \u001b[0me\u001b[0m\u001b[1;33m.\u001b[0m\u001b[0mwith_traceback\u001b[0m\u001b[1;33m(\u001b[0m\u001b[1;32mNone\u001b[0m\u001b[1;33m)\u001b[0m\u001b[1;33m\u001b[0m\u001b[1;33m\u001b[0m\u001b[0m\n\u001b[0m\u001b[0;32m    410\u001b[0m \u001b[1;33m\u001b[0m\u001b[0m\n\u001b[0;32m    411\u001b[0m         \u001b[0margtypes\u001b[0m \u001b[1;33m=\u001b[0m \u001b[1;33m[\u001b[0m\u001b[1;33m]\u001b[0m\u001b[1;33m\u001b[0m\u001b[1;33m\u001b[0m\u001b[0m\n",
      "\u001b[1;31mTypingError\u001b[0m: Failed in nopython mode pipeline (step: nopython frontend)\n\u001b[1m\u001b[1mnon-precise type pyobject\u001b[0m\n\u001b[0m\u001b[1mDuring: typing of argument at <ipython-input-211-85362bb70cbe> (18)\u001b[0m\n\u001b[1m\nFile \"<ipython-input-211-85362bb70cbe>\", line 18:\u001b[0m\n\u001b[1mdef simulate_riot_sectors_migration(system, steps = 50, migration_probability = 0.01):\n    <source elided>\n    \n\u001b[1m    progression = np.zeros((2,steps+1))              # array that stores the riot's evolution over time\n\u001b[0m    \u001b[1m^\u001b[0m\u001b[0m \n\nThis error may have been caused by the following argument(s):\n- argument 0: \u001b[1mCannot determine Numba type of <class 'functions_new.System'>\u001b[0m\n"
     ]
    }
   ],
   "source": [
    "importlib.reload(func)\n",
    "N = 200\n",
    "average = 45\n",
    "deviaition = 20\n",
    "\n",
    "sector0_size = 100\n",
    "sector1_size = 100\n",
    "agents0 = func.create_agents(N,average,deviaition)\n",
    "\n",
    "system = func.System(agents0, sector0_size, sector1_size)\n",
    "\n",
    "steps = 100\n",
    "\n",
    "progression = simulate_riot_sectors_migration(system, steps)\n",
    "\n",
    "\n",
    "plt.figure()\n",
    "plt.plot(progression[0])\n",
    "plt.plot(progression[1])\n",
    "plt.ylim(-3,N)\n",
    "plt.show()"
   ]
  },
  {
   "cell_type": "code",
   "execution_count": 218,
   "metadata": {},
   "outputs": [],
   "source": [
    "@numba.njit\n",
    "def simulate_riot_sectors_migration_exit(system, steps = 50, migration_probability = 0.01, start = 0):\n",
    "    \"\"\"\n",
    "    Inputs:\n",
    "        system := System class variable that contains all Agents\n",
    "        steps := number of the simulation's time steps\n",
    "        start := the time step value when the Agents can migrate between sectors\n",
    "    \n",
    "    This functions simulates a set of 2 simultaneous riots that occur in 2 distinct sectors using the stochastic threshold model. There are a set of Agents in a reservoir that can\n",
    "    enter sectors 0 or 1 to riot. Each sector has a size, so the thrsehold of each Agent is based on the number of Agents rioting in a sector compared with the number of Agents that\n",
    "    can be in that sector. In this function, the Agents in a section can migrate to the other sector with probability equals to \"migration_probability\" if \"i\", the current time step is\n",
    "    greater or equal to \"start\". Moreover, the Agents can exit the riot and return to the reservoir according to a logistic function.\n",
    "     \n",
    "    \n",
    "    Outpurs:\n",
    "         A np.array \"progression\" that contains the time evolution of each riots over time.\n",
    "        \n",
    "    \"\"\"\n",
    "    \n",
    "    progression = np.zeros((2,steps+1))              # array that stores the riot's evolution over time\n",
    "    \n",
    "    for i in range(1,steps+1):\n",
    "        system.update_wishes_reservoir()                                         # check reservoir Agents (enter riot)\n",
    "        system.update_wishes_sectors_exit()                                      # check sectors Agents (leave riot)\n",
    "        if i >= start:\n",
    "            system.update_wishes_sectors_migration_random(migration_probability) # check sectors Agents (migrate to other sector)\n",
    "        system.update_reservoir()                                                # move Agents from reservoir\n",
    "        system.update_sectors()                                                  # move Agents from sectors\n",
    "           \n",
    "        progression[0][i] = len(system.sector0)\n",
    "        progression[1][i] = len(system.sector1)\n",
    "            \n",
    "    return progression"
   ]
  },
  {
   "cell_type": "code",
   "execution_count": 222,
   "metadata": {},
   "outputs": [
    {
     "ename": "TypingError",
     "evalue": "Failed in nopython mode pipeline (step: nopython frontend)\n\u001b[1m\u001b[1mnon-precise type pyobject\u001b[0m\n\u001b[0m\u001b[1mDuring: typing of argument at <ipython-input-218-fd411f998b39> (20)\u001b[0m\n\u001b[1m\nFile \"<ipython-input-218-fd411f998b39>\", line 20:\u001b[0m\n\u001b[1mdef simulate_riot_sectors_migration_exit(system, steps = 50, migration_probability = 0.01, start = 0):\n    <source elided>\n    \n\u001b[1m    progression = np.zeros((2,steps+1))              # array that stores the riot's evolution over time\n\u001b[0m    \u001b[1m^\u001b[0m\u001b[0m \n\nThis error may have been caused by the following argument(s):\n- argument 0: \u001b[1mCannot determine Numba type of <class 'functions_new.System'>\u001b[0m\n",
     "output_type": "error",
     "traceback": [
      "\u001b[1;31m---------------------------------------------------------------------------\u001b[0m",
      "\u001b[1;31mTypingError\u001b[0m                               Traceback (most recent call last)",
      "\u001b[1;32m<ipython-input-222-9aa18eeb10de>\u001b[0m in \u001b[0;36m<module>\u001b[1;34m\u001b[0m\n\u001b[0;32m     14\u001b[0m \u001b[0mmigration_probability\u001b[0m \u001b[1;33m=\u001b[0m \u001b[1;36m0.01\u001b[0m\u001b[1;33m\u001b[0m\u001b[1;33m\u001b[0m\u001b[0m\n\u001b[0;32m     15\u001b[0m \u001b[1;33m\u001b[0m\u001b[0m\n\u001b[1;32m---> 16\u001b[1;33m \u001b[0mprogression\u001b[0m \u001b[1;33m=\u001b[0m \u001b[0msimulate_riot_sectors_migration_exit\u001b[0m\u001b[1;33m(\u001b[0m\u001b[0msystem\u001b[0m\u001b[1;33m,\u001b[0m \u001b[0msteps\u001b[0m\u001b[1;33m,\u001b[0m\u001b[0mmigration_probability\u001b[0m\u001b[1;33m)\u001b[0m\u001b[1;33m\u001b[0m\u001b[1;33m\u001b[0m\u001b[0m\n\u001b[0m\u001b[0;32m     17\u001b[0m \u001b[1;33m\u001b[0m\u001b[0m\n\u001b[0;32m     18\u001b[0m \u001b[1;33m\u001b[0m\u001b[0m\n",
      "\u001b[1;32mD:\\Anaconda\\lib\\site-packages\\numba\\core\\dispatcher.py\u001b[0m in \u001b[0;36m_compile_for_args\u001b[1;34m(self, *args, **kws)\u001b[0m\n\u001b[0;32m    466\u001b[0m                 \u001b[0me\u001b[0m\u001b[1;33m.\u001b[0m\u001b[0mpatch_message\u001b[0m\u001b[1;33m(\u001b[0m\u001b[0mmsg\u001b[0m\u001b[1;33m)\u001b[0m\u001b[1;33m\u001b[0m\u001b[1;33m\u001b[0m\u001b[0m\n\u001b[0;32m    467\u001b[0m \u001b[1;33m\u001b[0m\u001b[0m\n\u001b[1;32m--> 468\u001b[1;33m             \u001b[0merror_rewrite\u001b[0m\u001b[1;33m(\u001b[0m\u001b[0me\u001b[0m\u001b[1;33m,\u001b[0m \u001b[1;34m'typing'\u001b[0m\u001b[1;33m)\u001b[0m\u001b[1;33m\u001b[0m\u001b[1;33m\u001b[0m\u001b[0m\n\u001b[0m\u001b[0;32m    469\u001b[0m         \u001b[1;32mexcept\u001b[0m \u001b[0merrors\u001b[0m\u001b[1;33m.\u001b[0m\u001b[0mUnsupportedError\u001b[0m \u001b[1;32mas\u001b[0m \u001b[0me\u001b[0m\u001b[1;33m:\u001b[0m\u001b[1;33m\u001b[0m\u001b[1;33m\u001b[0m\u001b[0m\n\u001b[0;32m    470\u001b[0m             \u001b[1;31m# Something unsupported is present in the user code, add help info\u001b[0m\u001b[1;33m\u001b[0m\u001b[1;33m\u001b[0m\u001b[1;33m\u001b[0m\u001b[0m\n",
      "\u001b[1;32mD:\\Anaconda\\lib\\site-packages\\numba\\core\\dispatcher.py\u001b[0m in \u001b[0;36merror_rewrite\u001b[1;34m(e, issue_type)\u001b[0m\n\u001b[0;32m    407\u001b[0m                 \u001b[1;32mraise\u001b[0m \u001b[0me\u001b[0m\u001b[1;33m\u001b[0m\u001b[1;33m\u001b[0m\u001b[0m\n\u001b[0;32m    408\u001b[0m             \u001b[1;32melse\u001b[0m\u001b[1;33m:\u001b[0m\u001b[1;33m\u001b[0m\u001b[1;33m\u001b[0m\u001b[0m\n\u001b[1;32m--> 409\u001b[1;33m                 \u001b[1;32mraise\u001b[0m \u001b[0me\u001b[0m\u001b[1;33m.\u001b[0m\u001b[0mwith_traceback\u001b[0m\u001b[1;33m(\u001b[0m\u001b[1;32mNone\u001b[0m\u001b[1;33m)\u001b[0m\u001b[1;33m\u001b[0m\u001b[1;33m\u001b[0m\u001b[0m\n\u001b[0m\u001b[0;32m    410\u001b[0m \u001b[1;33m\u001b[0m\u001b[0m\n\u001b[0;32m    411\u001b[0m         \u001b[0margtypes\u001b[0m \u001b[1;33m=\u001b[0m \u001b[1;33m[\u001b[0m\u001b[1;33m]\u001b[0m\u001b[1;33m\u001b[0m\u001b[1;33m\u001b[0m\u001b[0m\n",
      "\u001b[1;31mTypingError\u001b[0m: Failed in nopython mode pipeline (step: nopython frontend)\n\u001b[1m\u001b[1mnon-precise type pyobject\u001b[0m\n\u001b[0m\u001b[1mDuring: typing of argument at <ipython-input-218-fd411f998b39> (20)\u001b[0m\n\u001b[1m\nFile \"<ipython-input-218-fd411f998b39>\", line 20:\u001b[0m\n\u001b[1mdef simulate_riot_sectors_migration_exit(system, steps = 50, migration_probability = 0.01, start = 0):\n    <source elided>\n    \n\u001b[1m    progression = np.zeros((2,steps+1))              # array that stores the riot's evolution over time\n\u001b[0m    \u001b[1m^\u001b[0m\u001b[0m \n\nThis error may have been caused by the following argument(s):\n- argument 0: \u001b[1mCannot determine Numba type of <class 'functions_new.System'>\u001b[0m\n"
     ]
    }
   ],
   "source": [
    "importlib.reload(func)\n",
    "N = 200\n",
    "average = 45\n",
    "deviaition = 20\n",
    "\n",
    "sector0_size = 100\n",
    "sector1_size = 100\n",
    "agents0 = func.create_agents(N,average,deviaition)\n",
    "\n",
    "system = func.System(agents0, sector0_size, sector1_size)\n",
    "\n",
    "steps = 1000\n",
    "\n",
    "migration_probability = 0.01\n",
    "\n",
    "progression = simulate_riot_sectors_migration_exit(system, steps,migration_probability)\n",
    "\n",
    "\n",
    "plt.figure()\n",
    "plt.plot(progression[0])\n",
    "plt.plot(progression[1])\n",
    "plt.ylim(-3,N)\n",
    "plt.show()"
   ]
  },
  {
   "cell_type": "code",
   "execution_count": null,
   "metadata": {},
   "outputs": [],
   "source": []
  }
 ],
 "metadata": {
  "kernelspec": {
   "display_name": "Python 3",
   "language": "python",
   "name": "python3"
  },
  "language_info": {
   "codemirror_mode": {
    "name": "ipython",
    "version": 3
   },
   "file_extension": ".py",
   "mimetype": "text/x-python",
   "name": "python",
   "nbconvert_exporter": "python",
   "pygments_lexer": "ipython3",
   "version": "3.7.4"
  }
 },
 "nbformat": 4,
 "nbformat_minor": 4
}
