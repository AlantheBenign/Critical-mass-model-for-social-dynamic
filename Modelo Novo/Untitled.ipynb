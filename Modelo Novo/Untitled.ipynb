{
 "cells": [
  {
   "cell_type": "code",
   "execution_count": 18,
   "metadata": {},
   "outputs": [],
   "source": [
    "import functions_new as func\n",
    "import importlib\n",
    "importlib.reload(func)\n",
    "\n",
    "###########################################################################################################################################\n",
    "\n",
    "import numpy as np\n",
    "import matplotlib.pyplot as plt\n",
    "import random as rd\n",
    "from IPython.display import clear_output\n",
    "import time"
   ]
  },
  {
   "cell_type": "code",
   "execution_count": 1,
   "metadata": {},
   "outputs": [],
   "source": [
    "import numba\n",
    "from numba.experimental import jitclass"
   ]
  },
  {
   "cell_type": "code",
   "execution_count": 2,
   "metadata": {},
   "outputs": [],
   "source": [
    "class System:\n",
    "    \n",
    "    \n",
    "    # creates a system to be simulated. With one reservoir of Agents, and two riot sectors\n",
    "    def __init__(self, agents, sector0_size, sector1_size):\n",
    "        self.reservoir = agents\n",
    "        self.sector0 = np.empty(sector0_size)\n",
    "        self.sector0_size = sector0_size\n",
    "        self.sector1 = np.empty(sector1_size)\n",
    "        self.sector1_size = sector1_size\n",
    "     \n",
    "    \n",
    "    # migrates an Agent \"i\" from the sector \"sector\"\n",
    "    def migrate(self, sector, i):\n",
    "        if sector == 0:\n",
    "            agent = self.sector0[i]\n",
    "            self.sector0 = np.delete(self.sector0, i)\n",
    "            self.sector1 = np.append(self.sector1, agent)\n",
    "            \n",
    "        else:\n",
    "            agent = self.sector1[i]\n",
    "            self.sector1 = np.delete(self.sector1, i)\n",
    "            self.sector0 = np.append(self.sector0, agent)\n",
    "     \n",
    "    \n",
    "    # checks which Agent, in the reservoir, wants to riot according to it's threshold. It can go in sector 0 or 1.         \n",
    "    def update_wishes_reservoir(self):\n",
    "        for i in range(len(self.reservoir)):\n",
    "            num = rd.randint(0,1)\n",
    "            rnd = rd.random()\n",
    "            if num == 0:\n",
    "                if len(self.sector0) < self.sector0_size:\n",
    "                    percentage = len(self.sector0)/self.sector0_size * 100\n",
    "                    if rnd <= self.reservoir[i].threshold_model(percentage):\n",
    "                        self.reservoir[i].wish = 0\n",
    "                        continue\n",
    "                \n",
    "                if len(self.sector1) < self.sector1_size:                    \n",
    "                    percentage = len(self.sector1)/self.sector1_size * 100\n",
    "                    if rnd <= self.reservoir[i].threshold_model(percentage):\n",
    "                        self.reservoir[i].wish = 1\n",
    "                        continue\n",
    "                    \n",
    "            else:\n",
    "                if len(self.sector1) < self.sector1_size:                    \n",
    "                    percentage = len(self.sector1)/self.sector1_size * 100\n",
    "                    if rnd <= self.reservoir[i].threshold_model(percentage):\n",
    "                        self.reservoir[i].wish = 1\n",
    "                        continue\n",
    "                    \n",
    "                if len(self.sector0) < self.sector0_size:\n",
    "                    percentage = len(self.sector0)/self.sector0_size * 100\n",
    "                    if rnd <= self.reservoir[i].threshold_model(percentage):\n",
    "                        self.reservoir[i].wish = 0\n",
    "                        continue\n",
    "    \n",
    "    \n",
    "    # checks which Agent, in both sectros, wants to exit the riot.              \n",
    "    def update_wishes_sectors_exit(self):\n",
    "        for i in range(len(self.sector0)):\n",
    "            rnd = rd.random()\n",
    "            percentage = len(self.sector0)/self.sector0_size * 100\n",
    "            if rnd > self.sector0[i].threshold_model(percentage):\n",
    "                self.sector0[i].wish = -1\n",
    "                \n",
    "        for i in range(len(self.sector1)):\n",
    "            rnd = rd.random()\n",
    "            percentage = len(self.sector1)/self.sector1_size * 100\n",
    "            if rnd > self.sector1[i].threshold_model(percentage):\n",
    "                self.sector1[i].wish = -1\n",
    "     \n",
    "    \n",
    "    # checks which Agent, on both sectors, wants to migrate to other sector (random model)\n",
    "    def update_wishes_sectors_migration_random(self,migration_probability):\n",
    "        for i in range(len(self.sector0)):\n",
    "            rnd = rd.random()\n",
    "            if rnd <= migration_probability:\n",
    "                self.sector0[i].wish = 1\n",
    "                \n",
    "        for i in range(len(self.sector1)):\n",
    "            rnd = rd.random()\n",
    "            if rnd <= migration_probability:\n",
    "                self.sector1[i].wish = 0\n",
    "                \n",
    "                \n",
    "    # checks which Agent, on both sectors, wants to migrate to other sector (gregarious model)             \n",
    "    def update_wishes_sectors_migration_gregarious(self):\n",
    "        m = 3*10e-5\n",
    "        dif = len(system.sector1) - len(system.sector0)\n",
    "        probability = 1 - np.exp(-m * dif)\n",
    "        \n",
    "        for i in range(len(self.sector0)):\n",
    "            rnd = rd.random()\n",
    "            if dif > 0 and rnd <= probability:\n",
    "                self.sector0[i].wish = 1\n",
    "                \n",
    "        dif = len(system.sector0) - len(system.sector1)\n",
    "        probability = 1 - np.exp(-m * dif)\n",
    "        \n",
    "        for i in range(len(self.sector1)):\n",
    "            rnd = rd.random()\n",
    "            if dif > 0 and rnd <= probability:\n",
    "                self.sector1[i].wish = 0\n",
    "    \n",
    "    \n",
    "    # moves the Agents from the reservoir to the sectors of their wishes values\n",
    "    def update_reservoir(self):\n",
    "        i = 0\n",
    "        while i < len(self.reservoir):\n",
    "            if self.reservoir[i].wish == 0 and len(self.sector0) < self.sector0_size:\n",
    "                agent = self.reservoir[i]\n",
    "                self.reservoir = np.delete(self.reservoir, i)\n",
    "                self.sector0 = np.append(self.sector0, agent)\n",
    "                agent.sector = agent.wish\n",
    "                i -= 1\n",
    "            elif self.reservoir[i].wish == 1 and len(self.sector1) < self.sector1_size:\n",
    "                agent = self.reservoir[i]\n",
    "                self.reservoir = np.delete(self.reservoir, i)\n",
    "                self.sector1 = np.append(self.sector1, agent)\n",
    "                agent.sector = agent.wish\n",
    "                i -= 1\n",
    "            else:\n",
    "                self.reservoir[i].wish = self.reservoir[i].sector\n",
    "            i += 1\n",
    "    \n",
    "    \n",
    "    # moves the Agents from the sectors to the reservoir or to the other sector\n",
    "    def update_sectors(self):\n",
    "        i = 0\n",
    "        while i < len(self.sector0):\n",
    "            if self.sector0[i].wish == -1:\n",
    "                agent = self.sector0[i]\n",
    "                self.sector0 = np.delete(self.sector0, i)\n",
    "                self.reservoir = np.append(self.reservoir, agent)\n",
    "                agent.sector = agent.wish\n",
    "                i -= 1\n",
    "            elif self.sector0[i].wish == 1 and len(self.sector1) < self.sector1_size:\n",
    "                agent = self.sector0[i]\n",
    "                self.sector0 = np.delete(self.sector0, i)\n",
    "                self.sector1 = np.append(self.sector1, agent)\n",
    "                agent.sector = agent.wish\n",
    "                i -= 1\n",
    "            else:\n",
    "                self.reservoir[i].wish = self.reservoir[i].sector\n",
    "            i += 1\n",
    "            \n",
    "        i = 0\n",
    "        while i < len(self.sector1):\n",
    "            if self.sector1[i].wish == -1:\n",
    "                agent = self.sector1[i]\n",
    "                self.sector1 = np.delete(self.sector1, i)\n",
    "                self.reservoir = np.append(self.reservoir, agent)\n",
    "                agent.sector = agent.wish\n",
    "                i -= 1\n",
    "            elif self.sector1[i].wish == 0 and len(self.sector0) < self.sector0_size:\n",
    "                agent = self.sector1[i]\n",
    "                self.sector0 = np.delete(self.sector1, i)\n",
    "                self.sector1 = np.append(self.sector0, agent)\n",
    "                agent.sector = agent.wish\n",
    "                i -= 1\n",
    "            else:\n",
    "                self.reservoir[i].wish = self.reservoir[i].sector\n",
    "            i += 1"
   ]
  },
  {
   "cell_type": "code",
   "execution_count": 3,
   "metadata": {},
   "outputs": [],
   "source": [
    "spec = [\n",
    "    ('threshold', numba.int8),               \n",
    "    ('wish', numba.int8),\n",
    "    ('sector', numba.int8),\n",
    "    ('state', numba.int8),\n",
    "]\n",
    "\n",
    "@jitclass(spec)\n",
    "class Agent:\n",
    "    \n",
    "    \n",
    "    def __init__(self, threshold):\n",
    "        self.threshold = threshold\n",
    "        self.wish = -1\n",
    "        self.sector = -1\n",
    "        self.state = 0\n",
    "    \n",
    "    \n",
    "    def threshold_model(self, percentage):\n",
    "        m = 0.2                                                                # if m -> inf, the model approaches the Granovetter's binary model of thresholds.\n",
    "        probability = 1 / (1 + np.exp( m * (self.threshold - percentage) ) )   # stochastic model of thresholds [0 <= percentage <= 100]\n",
    "        return probability\n",
    "    \n",
    "        \n",
    "    # updates the state of an agent according with it's threshold, returns 1 if the agent enters the riot, for exemple, and returns 0 if nothing changes.     \n",
    "    def update_state(self, percentage):              \n",
    "        rnd = rd.random()\n",
    "        if self.state == 0:\n",
    "            if rnd <= self.threshold_model(percentage):\n",
    "                self.state = 1\n",
    "                return 1\n",
    "            else:\n",
    "                return 0\n",
    "        else:\n",
    "            return 0\n",
    "\n",
    "        \n",
    "    # updates the state of an agent according with it's threshold, returns 1 if the agent enters the riot, returns 0 if nothing chances and returns -1 if the agent exits the riot.\n",
    "    def update_state_exit(self, percentage):  \n",
    "        rnd = rd.random()\n",
    "        if self.state == 0:\n",
    "            if rnd <= self.threshold_model(percentage):\n",
    "                self.state = 1\n",
    "                return 1\n",
    "            else:\n",
    "                return 0\n",
    "        else:\n",
    "            if rnd > self.threshold_model(percentage):\n",
    "                self.state = 0\n",
    "                return -1\n",
    "            else:\n",
    "                return 0"
   ]
  },
  {
   "cell_type": "code",
   "execution_count": 5,
   "metadata": {},
   "outputs": [],
   "source": [
    "agent = Agent(10)"
   ]
  },
  {
   "cell_type": "code",
   "execution_count": 22,
   "metadata": {},
   "outputs": [],
   "source": [
    "def create_thresholds(N = 100, a = True, average = 25, deviation = 10):\n",
    "    \"\"\"\n",
    "    Inputs:\n",
    "        Sample parameters:\n",
    "          N := total number of agents\n",
    "          a := if a == True all thresholdds below 0 are converted to 0 and all thresholds above 100 are converted to 100, otherwise nothing happens\n",
    "        Normal distribution parameters:\n",
    "          average := average value of the normal distribution\n",
    "          deviation := standard deviation of the normal distribution\n",
    "    \n",
    "    This function creates an array with N threshold values (0 <= x <= 100) according with a normal distribution with the given parameters\n",
    "          \n",
    "    Outputs:      \n",
    "        A np.array with the sorted thresholds values\n",
    "    \n",
    "    \"\"\"\n",
    "    thresholds = np.empty(N)\n",
    "    \n",
    "    # generating the values\n",
    "    for i in range(N):\n",
    "        threshold = rd.gauss(average, deviation)     # generates a random value according with a normal distribution\n",
    "\n",
    "        if a:\n",
    "            # all thresholdds below 0 are converted to 0 and all thresholds above 100 are converted to 100\n",
    "            if threshold < 0:\n",
    "                threshold = 0\n",
    "            elif threshold > 100:\n",
    "                threshold = 100\n",
    "\n",
    "        thresholds[i] = threshold\n",
    "    print(numba.typeof(thresholds))\n",
    "    thresholds = sorted(thresholds) #sorts the array\n",
    "    print(numba.typeof(thresholds))\n",
    "    return thresholds"
   ]
  },
  {
   "cell_type": "code",
   "execution_count": 23,
   "metadata": {},
   "outputs": [
    {
     "name": "stdout",
     "output_type": "stream",
     "text": [
      "array(float64, 1d, C)\n",
      "reflected list(float64)<iv=None>\n",
      "Wall time: 159 ms\n"
     ]
    }
   ],
   "source": [
    "%time _ = create_thresholds(100000,10,10)"
   ]
  },
  {
   "cell_type": "code",
   "execution_count": 92,
   "metadata": {},
   "outputs": [],
   "source": [
    "# RUIM #\n",
    "def create_thresholds(N = 100, a = True, average = 25, deviation = 10):\n",
    "    \"\"\"\n",
    "    Inputs:\n",
    "        Sample parameters:\n",
    "          N := total number of agents\n",
    "          a := if a == True all thresholdds below 0 are converted to 0 and all thresholds above 100 are converted to 100, otherwise nothing happens\n",
    "        Normal distribution parameters:\n",
    "          average := average value of the normal distribution\n",
    "          deviation := standard deviation of the normal distribution\n",
    "    \n",
    "    This function creates an array with N threshold values (0 <= x <= 100) according with a normal distribution with the given parameters\n",
    "          \n",
    "    Outputs:      \n",
    "        A np.array with the sorted thresholds values\n",
    "    \n",
    "    \"\"\"\n",
    "    thresholds = numba.typed.List.empty_list(numba.types.float64)\n",
    "    \n",
    "    # generating the values\n",
    "    for i in range(N):\n",
    "        threshold = rd.gauss(average, deviation)     # generates a random value according with a normal distribution\n",
    "\n",
    "        if a:\n",
    "            # all thresholdds below 0 are converted to 0 and all thresholds above 100 are converted to 100\n",
    "            if threshold < 0:\n",
    "                threshold = 0\n",
    "            elif threshold > 100:\n",
    "                threshold = 100\n",
    "\n",
    "        thresholds.append(threshold)\n",
    "        \n",
    "    thresholds = sorted(thresholds) #sorts the array\n",
    "    \n",
    "    return thresholds"
   ]
  },
  {
   "cell_type": "code",
   "execution_count": 24,
   "metadata": {},
   "outputs": [
    {
     "name": "stdout",
     "output_type": "stream",
     "text": [
      "array(float64, 1d, C)\n",
      "reflected list(float64)<iv=None>\n",
      "Wall time: 162 ms\n"
     ]
    }
   ],
   "source": [
    "%time _ = create_thresholds(100000,10,10)"
   ]
  },
  {
   "cell_type": "code",
   "execution_count": 73,
   "metadata": {},
   "outputs": [],
   "source": [
    "@numba.njit\n",
    "def create_thresholds_jit(N = 100, a = True, average = 25, deviation = 10):\n",
    "    \"\"\"\n",
    "    Inputs:\n",
    "        Sample parameters:\n",
    "          N := total number of agents\n",
    "          a := if a == True all thresholdds below 0 are converted to 0 and all thresholds above 100 are converted to 100, otherwise nothing happens\n",
    "        Normal distribution parameters:\n",
    "          average := average value of the normal distribution\n",
    "          deviation := standard deviation of the normal distribution\n",
    "    \n",
    "    This function creates an array with N threshold values (0 <= x <= 100) according with a normal distribution with the given parameters\n",
    "          \n",
    "    Outputs:      \n",
    "        A np.array with the sorted thresholds values\n",
    "    \n",
    "    \"\"\"\n",
    "    thresholds = np.zeros(N, dtype = 'float64')\n",
    "    \n",
    "    # generating the values\n",
    "    for i in range(N):\n",
    "        threshold = rd.gauss(average, deviation)     # generates a random value according with a normal distribution\n",
    "\n",
    "        if a:\n",
    "            # all thresholdds below 0 are converted to 0 and all thresholds above 100 are converted to 100\n",
    "            if threshold < 0:\n",
    "                threshold = 0\n",
    "            elif threshold > 100:\n",
    "                threshold = 100\n",
    "\n",
    "        thresholds[i] = threshold\n",
    "        \n",
    "    thresholds = sorted(thresholds) #sorts the array\n",
    "    \n",
    "    return thresholds"
   ]
  },
  {
   "cell_type": "code",
   "execution_count": 27,
   "metadata": {},
   "outputs": [],
   "source": [
    "# IGUAL #\n",
    "@numba.njit\n",
    "def create_thresholds_jit2(N = 100, a = True, average = 25, deviation = 10):\n",
    "    \"\"\"\n",
    "    Inputs:\n",
    "        Sample parameters:\n",
    "          N := total number of agents\n",
    "          a := if a == True all thresholdds below 0 are converted to 0 and all thresholds above 100 are converted to 100, otherwise nothing happens\n",
    "        Normal distribution parameters:\n",
    "          average := average value of the normal distribution\n",
    "          deviation := standard deviation of the normal distribution\n",
    "    \n",
    "    This function creates an array with N threshold values (0 <= x <= 100) according with a normal distribution with the given parameters\n",
    "          \n",
    "    Outputs:      \n",
    "        A np.array with the sorted thresholds values\n",
    "    \n",
    "    \"\"\"\n",
    "    thresholds = numba.typed.List.empty_list(numba.types.float64)\n",
    "    \n",
    "    # generating the values\n",
    "    for i in range(N):\n",
    "        threshold = rd.gauss(average, deviation)     # generates a random value according with a normal distribution\n",
    "\n",
    "        if a:\n",
    "            # all thresholdds below 0 are converted to 0 and all thresholds above 100 are converted to 100\n",
    "            if threshold < 0:\n",
    "                threshold = 0\n",
    "            elif threshold > 100:\n",
    "                threshold = 100\n",
    "\n",
    "        thresholds.append(threshold)\n",
    "        \n",
    "    thresholds = sorted(thresholds) #sorts the array\n",
    "    \n",
    "    return thresholds"
   ]
  },
  {
   "cell_type": "code",
   "execution_count": 75,
   "metadata": {},
   "outputs": [
    {
     "data": {
      "text/plain": [
       "reflected list(float64)<iv=None>"
      ]
     },
     "execution_count": 75,
     "metadata": {},
     "output_type": "execute_result"
    }
   ],
   "source": [
    "thresholds = create_thresholds_jit(100000,10,10)\n",
    "numba.typeof(thresholds)"
   ]
  },
  {
   "cell_type": "code",
   "execution_count": 30,
   "metadata": {},
   "outputs": [
    {
     "name": "stdout",
     "output_type": "stream",
     "text": [
      "Wall time: 1.19 s\n"
     ]
    }
   ],
   "source": [
    "%time _ = create_thresholds_jit2(100000,10,10)"
   ]
  },
  {
   "cell_type": "code",
   "execution_count": 116,
   "metadata": {},
   "outputs": [],
   "source": [
    "def create_agents(N = 100, average = 25, deviation = 10):\n",
    "    \"\"\"\n",
    "    Inputs:\n",
    "        N := total number of agents\n",
    "        average := average value of the normal distribution\n",
    "        deviation := standard deviation of the normal distribution\n",
    "        \n",
    "        The function creates an array of Agents according with the normal distribution of threshold values\n",
    "        \n",
    "    Outputs:\n",
    "        agents := array with all Agents\n",
    "    \n",
    "    \"\"\"\n",
    "    \n",
    "    agents = np.empty(N, dtype=Agent)\n",
    "    \n",
    "    thresholds = create_thresholds(N, True, average, deviation)\n",
    "    \n",
    "    for i in range(N):\n",
    "        agent = Agent(thresholds[i])\n",
    "        agents[i] = agent\n",
    "        \n",
    "    return agents"
   ]
  },
  {
   "cell_type": "code",
   "execution_count": 76,
   "metadata": {},
   "outputs": [],
   "source": [
    "@numba.njit\n",
    "def create_agents_jit(N = 100, average = 25, deviation = 10):\n",
    "    \"\"\"\n",
    "    Inputs:\n",
    "        N := total number of agents\n",
    "        average := average value of the normal distribution\n",
    "        deviation := standard deviation of the normal distribution\n",
    "        \n",
    "        The function creates an array of Agents according with the normal distribution of threshold values\n",
    "        \n",
    "    Outputs:\n",
    "        agents := array with all Agents\n",
    "    \n",
    "    \"\"\"\n",
    "    \n",
    "    agents = numba.typed.List()\n",
    "    \n",
    "    thresholds = create_thresholds_jit(N, True, average, deviation)\n",
    "    \n",
    "    for i in range(N):\n",
    "        agents.append(Agent(thresholds[i]))\n",
    "        \n",
    "    return agents"
   ]
  },
  {
   "cell_type": "code",
   "execution_count": 11,
   "metadata": {},
   "outputs": [
    {
     "data": {
      "text/plain": [
       "instance.jitclass.Agent#21e4cc74048<threshold:int8,wish:int8,sector:int8,state:int8>"
      ]
     },
     "execution_count": 11,
     "metadata": {},
     "output_type": "execute_result"
    }
   ],
   "source": [
    "numba.typeof(agent)"
   ]
  },
  {
   "cell_type": "code",
   "execution_count": 12,
   "metadata": {},
   "outputs": [
    {
     "ename": "NameError",
     "evalue": "name 'thresholds' is not defined",
     "output_type": "error",
     "traceback": [
      "\u001b[1;31m---------------------------------------------------------------------------\u001b[0m",
      "\u001b[1;31mNameError\u001b[0m                                 Traceback (most recent call last)",
      "\u001b[1;32m<ipython-input-12-eecae966dc15>\u001b[0m in \u001b[0;36m<module>\u001b[1;34m\u001b[0m\n\u001b[0;32m      1\u001b[0m \u001b[0magents\u001b[0m \u001b[1;33m=\u001b[0m \u001b[0mnumba\u001b[0m\u001b[1;33m.\u001b[0m\u001b[0mtyped\u001b[0m\u001b[1;33m.\u001b[0m\u001b[0mList\u001b[0m\u001b[1;33m(\u001b[0m\u001b[1;33m)\u001b[0m\u001b[1;33m\u001b[0m\u001b[1;33m\u001b[0m\u001b[0m\n\u001b[1;32m----> 2\u001b[1;33m \u001b[0magents\u001b[0m\u001b[1;33m.\u001b[0m\u001b[0mappend\u001b[0m\u001b[1;33m(\u001b[0m\u001b[0mAgent\u001b[0m\u001b[1;33m(\u001b[0m\u001b[0mthresholds\u001b[0m\u001b[1;33m[\u001b[0m\u001b[0mi\u001b[0m\u001b[1;33m]\u001b[0m\u001b[1;33m)\u001b[0m\u001b[1;33m)\u001b[0m\u001b[1;33m\u001b[0m\u001b[1;33m\u001b[0m\u001b[0m\n\u001b[0m\u001b[0;32m      3\u001b[0m \u001b[0mprint\u001b[0m\u001b[1;33m(\u001b[0m\u001b[0mtypeof\u001b[0m\u001b[1;33m(\u001b[0m\u001b[0magents\u001b[0m\u001b[1;33m)\u001b[0m\u001b[1;33m)\u001b[0m\u001b[1;33m\u001b[0m\u001b[1;33m\u001b[0m\u001b[0m\n",
      "\u001b[1;31mNameError\u001b[0m: name 'thresholds' is not defined"
     ]
    }
   ],
   "source": [
    "agents = numba.typed.List()\n",
    "agents.append(Agent(thresholds[i]))\n",
    "print(typeof(agents))"
   ]
  },
  {
   "cell_type": "code",
   "execution_count": 152,
   "metadata": {},
   "outputs": [
    {
     "name": "stdout",
     "output_type": "stream",
     "text": [
      "Wall time: 171 ms\n"
     ]
    }
   ],
   "source": [
    "%time _ = create_agents(10000,10,10)"
   ]
  },
  {
   "cell_type": "code",
   "execution_count": 109,
   "metadata": {},
   "outputs": [
    {
     "name": "stdout",
     "output_type": "stream",
     "text": [
      "Wall time: 0 ns\n"
     ]
    }
   ],
   "source": [
    "agents = create_agents_jit(100,0,10)\n",
    "%time _ = create_agents_jit(100,10,10)"
   ]
  },
  {
   "cell_type": "code",
   "execution_count": 84,
   "metadata": {},
   "outputs": [],
   "source": [
    "@numba.njit\n",
    "def creat_agent_jit(N):\n",
    "    agents = numba.typed.List()\n",
    "    for i in range(N):\n",
    "        agent = Agent(10)\n",
    "        agents.append(agent)\n",
    "\n",
    "    return agent"
   ]
  },
  {
   "cell_type": "code",
   "execution_count": 34,
   "metadata": {},
   "outputs": [],
   "source": [
    "def creat_agent(N):\n",
    "    agents = np.empty(N, dtype = Agent)\n",
    "    for i in range(N):\n",
    "        agent = Agent(10)\n",
    "        agents[i]= agent\n",
    "\n",
    "    return agent"
   ]
  },
  {
   "cell_type": "code",
   "execution_count": 40,
   "metadata": {},
   "outputs": [
    {
     "name": "stdout",
     "output_type": "stream",
     "text": [
      "Wall time: 32 ms\n"
     ]
    }
   ],
   "source": [
    "%time _ = creat_agent_jit(100000)"
   ]
  },
  {
   "cell_type": "code",
   "execution_count": 63,
   "metadata": {},
   "outputs": [
    {
     "name": "stdout",
     "output_type": "stream",
     "text": [
      "Wall time: 1.02 s\n"
     ]
    }
   ],
   "source": [
    "%time _ = creat_agent(100000)"
   ]
  },
  {
   "cell_type": "code",
   "execution_count": 41,
   "metadata": {},
   "outputs": [],
   "source": [
    "def simulate_riot(thresholds):\n",
    "    \n",
    "    riot_size = 0\n",
    "    progression = np.zeros(len(thresholds)+1)    # array that stores the riot's evolution over time\n",
    "    aux = 0\n",
    "    \n",
    "    while True:\n",
    "        for i in range(1,len(thresholds)):\n",
    "            if thresholds[i] <= riot_size: # check all Agents and counts which of them enters the riot\n",
    "                aux += 1\n",
    "        progression[i] = aux\n",
    "        if riot_size == aux:   # if the riot size doesn't change in a time step it is stable\n",
    "            break\n",
    "        riot_size = aux\n",
    "        aux = 0\n",
    "        \n",
    "    return [progression, riot_size]"
   ]
  },
  {
   "cell_type": "code",
   "execution_count": 42,
   "metadata": {},
   "outputs": [],
   "source": [
    "@numba.njit(numba.int64[:](numba.float64[:]))\n",
    "def simulate_riot_jit(thresholds):\n",
    "    \n",
    "    riot_size = 0\n",
    "    progression = np.zeros(len(thresholds)+1, dtype = np.int64)    # array that stores the riot's evolution over time\n",
    "    aux = 0\n",
    "    \n",
    "    while True:\n",
    "        for i in range(1,len(thresholds)):\n",
    "            if thresholds[i] <= riot_size: # check all Agents and counts which of them enters the riot\n",
    "                aux += 1\n",
    "        progression[i] = aux\n",
    "        if riot_size == aux:   # if the riot size doesn't change in a time step it is stable\n",
    "            break\n",
    "        riot_size = aux\n",
    "        aux = 0\n",
    "        \n",
    "    return progression"
   ]
  },
  {
   "cell_type": "code",
   "execution_count": 43,
   "metadata": {},
   "outputs": [],
   "source": [
    "@numba.njit(numba.float64[:](numba.int64,numba.int64,numba.int64))\n",
    "def create_thresholds_jit(N = 100, average = 25, deviation = 10):\n",
    "    thresholds = np.zeros(N)\n",
    "    \n",
    "    # generating the values\n",
    "    for i in range(N):\n",
    "        threshold = rd.gauss(average, deviation)     # generates a random value according with a normal distribution\n",
    "\n",
    "        if threshold < 0:\n",
    "            threshold = 0\n",
    "        elif threshold > 100:\n",
    "            threshold = 100\n",
    "\n",
    "        thresholds[i] = threshold\n",
    "        \n",
    "    #thresholds = sorted(thresholds) #sorts the array\n",
    "    \n",
    "    return thresholds"
   ]
  },
  {
   "cell_type": "code",
   "execution_count": 44,
   "metadata": {},
   "outputs": [
    {
     "name": "stdout",
     "output_type": "stream",
     "text": [
      "Wall time: 34 ms\n"
     ]
    }
   ],
   "source": [
    "%time _ = simulate_riot(thresholds)"
   ]
  },
  {
   "cell_type": "code",
   "execution_count": 36,
   "metadata": {},
   "outputs": [],
   "source": [
    "from numba import typeof, types"
   ]
  },
  {
   "cell_type": "code",
   "execution_count": 45,
   "metadata": {},
   "outputs": [
    {
     "data": {
      "text/plain": [
       "'0.56.2'"
      ]
     },
     "execution_count": 45,
     "metadata": {},
     "output_type": "execute_result"
    }
   ],
   "source": [
    "numba.__version__"
   ]
  },
  {
   "cell_type": "code",
   "execution_count": null,
   "metadata": {},
   "outputs": [],
   "source": []
  },
  {
   "cell_type": "code",
   "execution_count": 46,
   "metadata": {},
   "outputs": [
    {
     "name": "stdout",
     "output_type": "stream",
     "text": [
      "array(float64, 1d, C)\n",
      "typeref[array(float32, 1d, C)]\n"
     ]
    }
   ],
   "source": [
    "print(numba.typeof(np.empty(10)))\n",
    "print(numba.typeof(numba.float32[::1]))"
   ]
  },
  {
   "cell_type": "code",
   "execution_count": 58,
   "metadata": {},
   "outputs": [],
   "source": [
    "thresholds = create_thresholds_jit(100000,25,10)"
   ]
  },
  {
   "cell_type": "code",
   "execution_count": 89,
   "metadata": {},
   "outputs": [
    {
     "name": "stdout",
     "output_type": "stream",
     "text": [
      "Wall time: 8.99 ms\n"
     ]
    }
   ],
   "source": [
    "%time _ = simulate_riot_jit(np.array(thresholds))"
   ]
  },
  {
   "cell_type": "code",
   "execution_count": null,
   "metadata": {},
   "outputs": [],
   "source": []
  },
  {
   "cell_type": "code",
   "execution_count": 42,
   "metadata": {},
   "outputs": [
    {
     "data": {
      "text/plain": [
       "array(int32, 1d, C)"
      ]
     },
     "execution_count": 42,
     "metadata": {},
     "output_type": "execute_result"
    }
   ],
   "source": [
    "a= np.array([10,10,11,12,13,8])\n",
    "typeof(a)"
   ]
  },
  {
   "cell_type": "code",
   "execution_count": 64,
   "metadata": {},
   "outputs": [],
   "source": [
    "def simulate_riot_stochastic(agents, steps = 100):\n",
    "    \"\"\"\n",
    "    Inputs:\n",
    "        agents := Agents array\n",
    "        steps := number of the simulation's time steps\n",
    "    \n",
    "    This function calculates the size of an riot according with the stochastic threshold model: The Agent has a higher probability of entering the riot if its threshold value \n",
    "    is less or equal to the number (or percentage) of people rioting, and has a low probability of entering the riot if its threshold value is less than the number (or percentage)\n",
    "    of people rioting.\n",
    "    \n",
    "    Outputs:\n",
    "        A \"answer\" np.array with two elements:\n",
    "            answer[0] := array with the riot's evolution over time\n",
    "            answer[1] := riot's final size\n",
    "    \n",
    "    \"\"\"\n",
    "    \n",
    "    riot_size = 0\n",
    "    progression = np.zeros(steps+1)              # array that stores the riot's evolution over time\n",
    "    \n",
    "    for i in range(1,steps+1):\n",
    "        for agent in agents:\n",
    "            riot_size += agent.update_state(riot_size)\n",
    "            \n",
    "        progression[i] = riot_size\n",
    "        \n",
    "    return progression"
   ]
  },
  {
   "cell_type": "code",
   "execution_count": 68,
   "metadata": {},
   "outputs": [],
   "source": [
    "@numba.njit\n",
    "def simulate_riot_stochastic_jit(agents, steps = 100):\n",
    "    \"\"\"\n",
    "    Inputs:\n",
    "        agents := Agents array\n",
    "        steps := number of the simulation's time steps\n",
    "    \n",
    "    This function calculates the size of an riot according with the stochastic threshold model: The Agent has a higher probability of entering the riot if its threshold value \n",
    "    is less or equal to the number (or percentage) of people rioting, and has a low probability of entering the riot if its threshold value is less than the number (or percentage)\n",
    "    of people rioting.\n",
    "    \n",
    "    Outputs:\n",
    "        A np.array with the sorted thresholds values\n",
    "    \n",
    "    \"\"\"\n",
    "    \n",
    "    riot_size = 0\n",
    "    progression = np.zeros(steps+1)              # array that stores the riot's evolution over time\n",
    "    \n",
    "    for i in range(1,steps+1):\n",
    "        for agent in agents:\n",
    "            riot_size += agent.update_state(riot_size)\n",
    "            \n",
    "        progression[i] = riot_size\n",
    "        \n",
    "    return progression"
   ]
  },
  {
   "cell_type": "code",
   "execution_count": 118,
   "metadata": {},
   "outputs": [
    {
     "data": {
      "image/png": "[encoded data removed]",
      "text/plain": [
       "<Figure size 432x288 with 1 Axes>"
      ]
     },
     "metadata": {
      "needs_background": "light"
     },
     "output_type": "display_data"
    }
   ],
   "source": [
    "agents = create_agents_jit(100, 25, 10)\n",
    "pro = simulate_riot_stochastic_jit(agents)\n",
    "plt.figure()\n",
    "plt.plot(pro)\n",
    "#plt.ylim(-5,105)\n",
    "plt.show()"
   ]
  },
  {
   "cell_type": "code",
   "execution_count": 130,
   "metadata": {},
   "outputs": [],
   "source": [
    "@numba.njit\n",
    "def simulate_riot_stochastic_jit2(agents, steps = 100):\n",
    "    \"\"\"\n",
    "    Inputs:\n",
    "        agents := Agents array\n",
    "        steps := number of the simulation's time steps\n",
    "    \n",
    "    This function calculates the size of an riot according with the stochastic threshold model: The Agent has a higher probability of entering the riot if its threshold value \n",
    "    is less or equal to the number (or percentage) of people rioting, and has a low probability of entering the riot if its threshold value is less than the number (or percentage)\n",
    "    of people rioting.\n",
    "    \n",
    "    Outputs:\n",
    "        A np.array with the sorted thresholds values\n",
    "    \n",
    "    \"\"\"\n",
    "    \n",
    "    riot_size = 0\n",
    "    progression = np.zeros(steps+1)              # array that stores the riot's evolution over time\n",
    "    aux = 0\n",
    "    \n",
    "    for i in range(1,steps+1):\n",
    "        for agent in agents:\n",
    "            aux += agent.update_state(riot_size)\n",
    "        \n",
    "        \n",
    "        if aux == 0:\n",
    "            break\n",
    "            \n",
    "        riot_size += aux            \n",
    "        progression[i] = riot_size\n",
    "        aux = 0\n",
    "        \n",
    "    return progression[:i]"
   ]
  },
  {
   "cell_type": "code",
   "execution_count": 131,
   "metadata": {},
   "outputs": [
    {
     "data": {
      "image/png": "[encoded data removed]",
      "text/plain": [
       "<Figure size 432x288 with 1 Axes>"
      ]
     },
     "metadata": {
      "needs_background": "light"
     },
     "output_type": "display_data"
    }
   ],
   "source": [
    "agents = create_agents_jit(100, 25, 10)\n",
    "pro = simulate_riot_stochastic_jit2(agents)\n",
    "plt.figure()\n",
    "plt.plot(pro)\n",
    "#plt.ylim(-5,105)\n",
    "plt.show()"
   ]
  },
  {
   "cell_type": "code",
   "execution_count": null,
   "metadata": {},
   "outputs": [],
   "source": []
  }
 ],
 "metadata": {
  "kernelspec": {
   "display_name": "Python 3",
   "language": "python",
   "name": "python3"
  },
  "language_info": {
   "codemirror_mode": {
    "name": "ipython",
    "version": 3
   },
   "file_extension": ".py",
   "mimetype": "text/x-python",
   "name": "python",
   "nbconvert_exporter": "python",
   "pygments_lexer": "ipython3",
   "version": "3.7.4"
  }
 },
 "nbformat": 4,
 "nbformat_minor": 4
}
